{
 "cells": [
  {
   "cell_type": "code",
   "execution_count": 1,
   "metadata": {},
   "outputs": [
    {
     "name": "stdout",
     "output_type": "stream",
     "text": [
      "Collecting pip\n",
      "\u001b[?25l  Downloading https://files.pythonhosted.org/packages/43/84/23ed6a1796480a6f1a2d38f2802901d078266bda38388954d01d3f2e821d/pip-20.1.1-py2.py3-none-any.whl (1.5MB)\n",
      "\u001b[K    100% |████████████████████████████████| 1.5MB 14.6MB/s ta 0:00:01\n",
      "\u001b[?25hInstalling collected packages: pip\n",
      "  Found existing installation: pip 10.0.1\n",
      "    Uninstalling pip-10.0.1:\n",
      "      Successfully uninstalled pip-10.0.1\n",
      "Successfully installed pip-20.1.1\n",
      "\u001b[33mYou are using pip version 20.1.1, however version 20.2b1 is available.\n",
      "You should consider upgrading via the 'pip install --upgrade pip' command.\u001b[0m\n",
      "Collecting selenium\n",
      "  Downloading selenium-3.141.0-py2.py3-none-any.whl (904 kB)\n",
      "\u001b[K     |████████████████████████████████| 904 kB 3.9 MB/s eta 0:00:01\n",
      "\u001b[?25hRequirement already satisfied, skipping upgrade: urllib3 in /home/ec2-user/anaconda3/envs/python3/lib/python3.6/site-packages (from selenium) (1.23)\n",
      "Installing collected packages: selenium\n",
      "Successfully installed selenium-3.141.0\n",
      "Collecting webdriver-manager\n",
      "  Downloading webdriver_manager-2.5.3-py2.py3-none-any.whl (15 kB)\n",
      "Collecting configparser\n",
      "  Downloading configparser-5.0.0-py3-none-any.whl (22 kB)\n",
      "Requirement already satisfied: requests in /home/ec2-user/anaconda3/envs/python3/lib/python3.6/site-packages (from webdriver-manager) (2.20.0)\n",
      "Collecting crayons\n",
      "  Downloading crayons-0.3.0-py2.py3-none-any.whl (4.6 kB)\n",
      "Requirement already satisfied: chardet<3.1.0,>=3.0.2 in /home/ec2-user/anaconda3/envs/python3/lib/python3.6/site-packages (from requests->webdriver-manager) (3.0.4)\n",
      "Requirement already satisfied: idna<2.8,>=2.5 in /home/ec2-user/anaconda3/envs/python3/lib/python3.6/site-packages (from requests->webdriver-manager) (2.6)\n",
      "Requirement already satisfied: urllib3<1.25,>=1.21.1 in /home/ec2-user/anaconda3/envs/python3/lib/python3.6/site-packages (from requests->webdriver-manager) (1.23)\n",
      "Requirement already satisfied: certifi>=2017.4.17 in /home/ec2-user/anaconda3/envs/python3/lib/python3.6/site-packages (from requests->webdriver-manager) (2019.11.28)\n",
      "Requirement already satisfied: colorama in /home/ec2-user/anaconda3/envs/python3/lib/python3.6/site-packages (from crayons->webdriver-manager) (0.3.9)\n",
      "Installing collected packages: configparser, crayons, webdriver-manager\n",
      "Successfully installed configparser-5.0.0 crayons-0.3.0 webdriver-manager-2.5.3\n"
     ]
    }
   ],
   "source": [
    "!pip install --upgrade pip\n",
    "!pip install -U selenium\n",
    "!pip install webdriver-manager"
   ]
  },
  {
   "cell_type": "code",
   "execution_count": 50,
   "metadata": {},
   "outputs": [],
   "source": [
    "import pandas as pd\n",
    "import numpy as np\n",
    "\n",
    "# from bs4 import BeautifulSoup\n",
    "# import requests\n",
    "\n",
    "# from selenium import webdriver\n",
    "# from selenium.webdriver.common.keys import Keys\n",
    "# from webdriver_manager.chrome import ChromeDriverManager\n",
    "# from selenium.webdriver.chrome.options import Options\n",
    "# from selenium.webdriver.support.ui import Select\n",
    "# from selenium.webdriver.support import expected_conditions as EC\n",
    "# from selenium.webdriver.common.by import By\n",
    "# from selenium.webdriver.support.ui import WebDriverWait\n",
    "\n",
    "from datetime import datetime, timedelta"
   ]
  },
  {
   "cell_type": "code",
   "execution_count": 3,
   "metadata": {},
   "outputs": [],
   "source": [
    "market = 'DAM'\n",
    "group = 'SELECT_NODES'\n",
    "base_url_oasis = 'http://oasis.caiso.com/mrioasis/logon.do'\n",
    "base_url_oasis_2 = 'http://oasis.caiso.com/oasisapi/SingleZip'\n",
    "np15_pnode = 'NP15SLAK_5_N001'\n",
    "sp15_pnode = 'SP26SLAK_5_N001'\n",
    "zp26_pnode = 'ZP26SLAK_5_N001'\n",
    "base_payload = {'version': 1}\n",
    "oasis_request_time_format = '%Y%m%dT%H:%M-0000'"
   ]
  },
  {
   "cell_type": "markdown",
   "metadata": {},
   "source": [
    "The returned files will use the following naming convention for singlezip:\n",
    "`startdate_enddate_Report Name_MktRunID_Stamp#_Version.Zip`\n",
    "\n",
    "Within this zip file, the XML file will use the following naming convention:\n",
    "`startdate_enddate_Report Name_MktRunID_Stamp#_Version.XML`\n",
    "\n",
    "The returned files will use the following naming convention for groupzip:\n",
    "`startdate_startDate_GroupID_N_xml_Version.Zip`\n",
    "\n",
    "Within this zip file, the XML file will use the following naming convention:\n",
    "`startdate_startdate_Report Name_MktRunID_Version.XML`\n",
    "\n",
    "`20131013_20131013_CB_NODAL_LMT_GRP_N_N_v1_csv.zip`\n",
    "\n",
    "---\n",
    "Frequency of requests:\n",
    "\n",
    "Should be based on the results from monitoring the Publication and Revisions log for both current real-time and\n",
    "post-market corrections\n",
    "\n",
    "Postings to the log will occur approximately every 5 minutes for current real-time market publication\n",
    "Use Case #1: User needs to detect the most recent Interval LMP data for the three Trading Hubs. (TH_NP15_GEN-APND,\n",
    "TH_SP15_GEN-APND, TH_ZP26_GEN-APND)\n",
    "\n",
    "Recommended Query: PRC_CURR_HUB_LMP\n",
    "\n",
    "The PRC_CURR_HUB_LMP query returns the most recent Interval LMP data for the three Trading Hubs. (TH_NP15_GENAPND, TH_SP15_GEN-APND, TH_ZP26_GEN-APND) This data is cached.\n",
    "\n",
    "Sample Query:\n",
    "http://oasis.caiso.com/oasisapi/SingleZip?queryname=PRC_CURR_HUB_LMP&startdatetime=20160418T07:00-0000&enddatetime=20160419T07:00-0000&version=1\n"
   ]
  },
  {
   "cell_type": "code",
   "execution_count": 4,
   "metadata": {},
   "outputs": [],
   "source": [
    "test_url = 'http://oasis.caiso.com/oasisapi/SingleZip?queryname=PRC_CURR_HUB_LMP&startdatetime=20160418T07:00-0000&enddatetime=20160419T07:00-0000&version=1'"
   ]
  },
  {
   "cell_type": "code",
   "execution_count": 5,
   "metadata": {},
   "outputs": [
    {
     "data": {
      "text/plain": [
       "<Response [200]>"
      ]
     },
     "execution_count": 5,
     "metadata": {},
     "output_type": "execute_result"
    }
   ],
   "source": [
    "page_response = requests.get(test_url, timeout=5)\n",
    "page_response"
   ]
  },
  {
   "cell_type": "code",
   "execution_count": 19,
   "metadata": {},
   "outputs": [],
   "source": [
    "page_content = BeautifulSoup(page_response.content, \"html5lib\", from_encoding=\"iso-8859-1\")"
   ]
  },
  {
   "cell_type": "code",
   "execution_count": 20,
   "metadata": {},
   "outputs": [
    {
     "name": "stdout",
     "output_type": "stream",
     "text": [
      "<html><head></head><body>PK\u0003\u0004šµÁP=20200601_20200601_PRC_CURR_HUB_LMP_N_20200601_22_44_52_v1.xmlíY[oÚ0\u0014~Ï¯°Ð¤=�C\n",
      "Ý„ÜTið \u001a¹(q:µ/‘\t.d‚\u0018a\u0017Ú?‡[PAZ»¶{!/IÎÅçòåœãDF×O³)X²…Èx~Uk6ô\u001a`yÊGY&gt;¾ªÅäGý{íÚD¾\u00159QÈæ|!�Z�‹«ÚDÊy\u0007ÂÕjÕHi&amp;x#å3(8…\u0007ºÉ²Ùx\u0012£š©!—\tAÇ¬Ïèˆ-\u0014M²\u0019ëRÉLC7ôº~Y×\n",
      "¢·;­V§}Q×õŽ®#¸×ÑPÄ\u001f\u0017)3×¶\u0011ÜR\u001aºÝ\u0004n.\n",
      "½yÑT\u0017\u0004w,\n",
      "Á—&gt;·t@Ÿ§œŽ\u0014#$¾ºætÆLÛr\"\u001fÁõ³\u0012àÀ\u000fIâ\u0010ì–T\u001f[]\u001c",
      "\u0016ÁÜE…`\u0017Ì†R)Ý›A@TØ÷û5f\u0010Ú‰\u001d",
      "‡aÒ�o’�\u001b ¸\u0015¨h~’„Ü\u0005Ø\f",
      "‰«bÝQ\u001aŠ}×Œ£/Ðý5A° 4äx\u0004‡·ÖÀ¼Á=Çó\u001c",
      "¯‡àž§\u0002Âv\u0012à0Ù³.\n",
      "øŽ¸ÚÎ{™Ê–îZÄRTqÛ$­BMlßë%*\u0001\u0004K~±\"òãÐÆ‰g¹Ø$ý$\n",
      "ší¤‡½º\u0015xÝÂÃ¡\\C~\u0010\u0016æqù¢ÕKÚ3ËÔ\u0012/vMã[«LlÍ9Pˆˆ¥Bí¹äeÍ´Uµìjæ„ö�\tìuO\u0018hë§\f",
      "ìtU•Yƒ\u0018›J¶y(aÜÂö\u0001 Þ\u0007Æe\u0005â;AôÎ¾\u0012áÉÁuÞc\f",
      "{¸jÀ}í\u0018—�fËhýS\u001b¾\u000eÉsÙ\u000f&gt;\u001fÉs™gC²šjÇ\u0015ÔëWŸ\u0015ïý¬x\u001d",
      "†çÒ…Ÿ‰á¹ì\tÕ—Ù[fØÀ�¢ª\u0001ßÙ€¯\u0004±Ú\t&gt;ÄjŒUcì¸xªæûˆ_¢ªûþ\u000fŠç²›¾ñ§²ëDöÀrÜb\u000e¼ä˜dÂ@ÊsÉr)rÂ\u0004\u0003s:f\u0002Ð\u0005\u0003âqø›¥\u0012H\u000eÒ\tÍÇ\f",
      "¬29á�\u0012ä\\f)kÐeiVœ0¤‚�ÏA–?ðÅŒJÅ][§Y®\u0004ÅÊ,/\\›N3¥’g\u00148‘ÿU€\u0015\u001b\u0002‘I¶vZh,•MÉ\u0017J$ø”�\u0005\u0013så\"\u001bfÓL&gt;7T%”9h‡Ô.G¸9\u0001�G'#‡§8¦ö\u0007PKWc\u0001Câ\u0002&amp;\u001aPK\u0001\u0002\u0014šµÁPWc\u0001Câ\u0002&amp;\u001a=20200601_20200601_PRC_CURR_HUB_LMP_N_20200601_22_44_52_v1.xmlPK\u0005\u0006\u0001\u0001kM\u0003</body></html>\n"
     ]
    }
   ],
   "source": [
    "print(page_content)"
   ]
  },
  {
   "cell_type": "code",
   "execution_count": 21,
   "metadata": {},
   "outputs": [
    {
     "data": {
      "text/plain": [
       "200"
      ]
     },
     "execution_count": 21,
     "metadata": {},
     "output_type": "execute_result"
    }
   ],
   "source": [
    "page_response.status_code"
   ]
  },
  {
   "cell_type": "code",
   "execution_count": 8,
   "metadata": {},
   "outputs": [],
   "source": [
    "oasis_start = pd.date_range(start='2017-03-01', end='2020-05-01', freq='MS')\n",
    "oasis_end = pd.date_range(start='2017-03-31', end='2020-05-31', freq='M')"
   ]
  },
  {
   "cell_type": "code",
   "execution_count": 11,
   "metadata": {},
   "outputs": [
    {
     "ename": "AttributeError",
     "evalue": "'DatetimeIndex' object has no attribute 'iloc'",
     "output_type": "error",
     "traceback": [
      "\u001b[0;31m---------------------------------------------------------------------------\u001b[0m",
      "\u001b[0;31mAttributeError\u001b[0m                            Traceback (most recent call last)",
      "\u001b[0;32m<ipython-input-11-337fa3c90db9>\u001b[0m in \u001b[0;36m<module>\u001b[0;34m()\u001b[0m\n\u001b[0;32m----> 1\u001b[0;31m \u001b[0moasis_start\u001b[0m\u001b[0;34m.\u001b[0m\u001b[0miloc\u001b[0m\u001b[0;34m[\u001b[0m\u001b[0;36m0\u001b[0m\u001b[0;34m]\u001b[0m\u001b[0;34m\u001b[0m\u001b[0m\n\u001b[0m",
      "\u001b[0;31mAttributeError\u001b[0m: 'DatetimeIndex' object has no attribute 'iloc'"
     ]
    }
   ],
   "source": [
    "oasis_start.iloc[0]"
   ]
  },
  {
   "cell_type": "code",
   "execution_count": 59,
   "metadata": {},
   "outputs": [],
   "source": [
    "# timeout = 45\n",
    "# startdatetime = oasis_start[0] \n",
    "# enddatetime = oasis_end[0]\n",
    "# payload = {\n",
    "#     \"DropdownMenuItemIcon\" : \"Local Marginal Price\",\n",
    "#     'queryname': 'PRC_CURR_HUB_LMP',\n",
    "#     'startdatetime': startdatetime.strftime(oasis_request_time_format),\n",
    "#     'enddatetime': enddatetime.strftime(oasis_request_time_format),\n",
    "#     'version': 1,\n",
    "#     'market': 'DAM',\n",
    "#     'group' : 'SELECT_NODE',\n",
    "#     'Node' : np15_pnode\n",
    "# }\n",
    "# response = requests.get(base_url_oasis, params=payload, timeout=timeout)\n",
    "# response.status_code"
   ]
  },
  {
   "cell_type": "code",
   "execution_count": 60,
   "metadata": {},
   "outputs": [],
   "source": [
    "# soup = BeautifulSoup(response.content, 'lxml')"
   ]
  },
  {
   "cell_type": "code",
   "execution_count": 34,
   "metadata": {},
   "outputs": [],
   "source": [
    "# test_test = soup.find_all(['REPORT_DATA', 'report_data'])"
   ]
  },
  {
   "cell_type": "markdown",
   "metadata": {},
   "source": [
    "---\n",
    "## Selenium"
   ]
  },
  {
   "cell_type": "code",
   "execution_count": 58,
   "metadata": {},
   "outputs": [],
   "source": [
    "# start_date_id_elem = 'TB_3172509'\n",
    "# end_date_id_elem = 'TB_3172510'\n",
    "# market_id_elem = 'PFC_LMPMarketID'\n",
    "# group_id_elem = 'TC_3172548'\n",
    "# node_id_elem = 'SEL_3172500'\n"
   ]
  },
  {
   "cell_type": "code",
   "execution_count": 57,
   "metadata": {},
   "outputs": [],
   "source": [
    "# options = Options()\n",
    "# options.headless = True\n",
    "# driver = webdriver.Chrome(options=options)\n",
    "# # --versions.chrome 74\n",
    "# driver.get('http://oasis.caiso.com/mrioasis/logon.do')\n",
    "\n",
    " "
   ]
  },
  {
   "cell_type": "code",
   "execution_count": 56,
   "metadata": {},
   "outputs": [],
   "source": [
    "# driver.find_element_by_id('DropdownMenuList.oasisMenu.Prices').click()\n",
    "# driver.select_by_visible_text('Locational Marginal Prices').click()"
   ]
  },
  {
   "cell_type": "code",
   "execution_count": 55,
   "metadata": {},
   "outputs": [],
   "source": [
    "# driver.find_element_by_css_selector(\"#DropdownMenuList.oasisMenu.Prices [value='1']\").click()"
   ]
  },
  {
   "cell_type": "code",
   "execution_count": 54,
   "metadata": {},
   "outputs": [],
   "source": [
    "# arrow = driver.find_element_by_xpath('div[@id=\"GC_3815802\" and @class=\"LowerMenuLabelCell\"]')\n",
    "# arrow.click()"
   ]
  },
  {
   "cell_type": "code",
   "execution_count": 52,
   "metadata": {},
   "outputs": [],
   "source": [
    "# driver.find_element_by_link_text('PRICE')"
   ]
  },
  {
   "cell_type": "code",
   "execution_count": 28,
   "metadata": {},
   "outputs": [],
   "source": [
    "# elem_start_date = driver.find_element_by_id('#TB_3816477')\n",
    "# elem_end_date = driver.find_element_by_id('#TB_3816478')\n",
    "# elem_market = driver.find_element_by_id('#PFC_LMPMarketID')\n",
    "# elem_group = driver.find_element_by_id('#PFC_GroupTyle')\n",
    "# elem_node = driver.find_element_by_id('#SEL_3816468') "
   ]
  },
  {
   "cell_type": "code",
   "execution_count": 53,
   "metadata": {},
   "outputs": [],
   "source": [
    "# ele = WebDriverWait(driver, 45).until(EC.element_to_be_clickable((By.XPATH, \"//li[@id='DropdownMenu.oasisMenu.Prices.LMP']\")))\n",
    "# ele.click()"
   ]
  },
  {
   "cell_type": "code",
   "execution_count": 9,
   "metadata": {},
   "outputs": [],
   "source": [
    "lmp_feb19 = pd.read_csv('data/caiso_lmp_nodes/20190201_20190301_PRC_LMP_DAM_20200603_09_30_31_v1.csv')\n",
    "lmp_mar19 = pd.read_csv('data/caiso_lmp_nodes/20190301_20190401_PRC_LMP_DAM_20200603_09_21_36_v1.csv')\n",
    "lmp_apr19 = pd.read_csv('data/caiso_lmp_nodes/20190401_20190501_PRC_LMP_DAM_20200602_22_44_57_v1.csv')\n",
    "lmp_may19 = pd.read_csv('data/caiso_lmp_nodes/20190501_20190601_PRC_LMP_DAM_20200602_22_54_16_v1.csv')\n",
    "lmp_jun19 = pd.read_csv('data/caiso_lmp_nodes/20190601_20190701_PRC_LMP_DAM_20200602_23_04_24_v1.csv')\n",
    "lmp_jul19 = pd.read_csv('data/caiso_lmp_nodes/20190701_20190801_PRC_LMP_DAM_20200602_23_20_18_v1.csv')\n",
    "lmp_aug19 = pd.read_csv('data/caiso_lmp_nodes/20190801_20190901_PRC_LMP_DAM_20200602_23_29_55_v1.csv')\n",
    "lmp_sep19 = pd.read_csv('data/caiso_lmp_nodes/20190901_20191001_PRC_LMP_DAM_20200602_23_46_12_v1.csv')\n",
    "lmp_oct19 = pd.read_csv('data/caiso_lmp_nodes/20191001_20191101_PRC_LMP_DAM_20200603_00_13_44_v1.csv')\n",
    "lmp_nov19 = pd.read_csv('data/caiso_lmp_nodes/20191101_20191201_PRC_LMP_DAM_20200603_00_24_23_v1.csv')\n",
    "lmp_dec19 = pd.read_csv('data/caiso_lmp_nodes/20191201_20200101_PRC_LMP_DAM_20200603_00_33_09_v1.csv')\n",
    "lmp_jan20 = pd.read_csv('data/caiso_lmp_nodes/20200101_20200201_PRC_LMP_DAM_20200603_08_11_05_v1.csv')\n",
    "lmp_feb20 = pd.read_csv('data/caiso_lmp_nodes/20200201_20200301_PRC_LMP_DAM_20200603_08_31_18_v1.csv')\n",
    "lmp_mar20 = pd.read_csv('data/caiso_lmp_nodes/20200301_20200401_PRC_LMP_DAM_20200603_08_32_02_v1.csv')\n",
    "lmp_apr20 = pd.read_csv('data/caiso_lmp_nodes/20200401_20200501_PRC_LMP_DAM_20200603_08_42_03_v1.csv')\n",
    "lmp_may20 = pd.read_csv('data/caiso_lmp_nodes/20200501_20200601_PRC_LMP_DAM_20200603_08_45_10_v1.csv')\n"
   ]
  },
  {
   "cell_type": "code",
   "execution_count": 51,
   "metadata": {},
   "outputs": [
    {
     "data": {
      "text/html": [
       "<div>\n",
       "<style scoped>\n",
       "    .dataframe tbody tr th:only-of-type {\n",
       "        vertical-align: middle;\n",
       "    }\n",
       "\n",
       "    .dataframe tbody tr th {\n",
       "        vertical-align: top;\n",
       "    }\n",
       "\n",
       "    .dataframe thead th {\n",
       "        text-align: right;\n",
       "    }\n",
       "</style>\n",
       "<table border=\"1\" class=\"dataframe\">\n",
       "  <thead>\n",
       "    <tr style=\"text-align: right;\">\n",
       "      <th></th>\n",
       "      <th>OPR_DT_PT</th>\n",
       "      <th>OPR_HR_PT</th>\n",
       "      <th>OPR_INTERVAL</th>\n",
       "      <th>NODE_ID</th>\n",
       "      <th>GROUP</th>\n",
       "      <th>POS</th>\n",
       "      <th>$_MWH</th>\n",
       "      <th>INTERVAL_START_PT</th>\n",
       "      <th>INTERVAL_END_PT</th>\n",
       "    </tr>\n",
       "  </thead>\n",
       "  <tbody>\n",
       "    <tr>\n",
       "      <th>21</th>\n",
       "      <td>2019-02-01</td>\n",
       "      <td>1</td>\n",
       "      <td>0</td>\n",
       "      <td>NP15SLAK_5_N001</td>\n",
       "      <td>1</td>\n",
       "      <td>1</td>\n",
       "      <td>36.62123</td>\n",
       "      <td>2019-02-01 01:00:00+00:00</td>\n",
       "      <td>2019-02-01 02:00:00+00:00</td>\n",
       "    </tr>\n",
       "    <tr>\n",
       "      <th>96</th>\n",
       "      <td>2019-02-01</td>\n",
       "      <td>1</td>\n",
       "      <td>0</td>\n",
       "      <td>SP26SLAK_5_N001</td>\n",
       "      <td>5</td>\n",
       "      <td>1</td>\n",
       "      <td>36.04269</td>\n",
       "      <td>2019-02-01 01:00:00+00:00</td>\n",
       "      <td>2019-02-01 02:00:00+00:00</td>\n",
       "    </tr>\n",
       "    <tr>\n",
       "      <th>202</th>\n",
       "      <td>2019-02-01</td>\n",
       "      <td>1</td>\n",
       "      <td>0</td>\n",
       "      <td>ZP26SLAK_5_N001</td>\n",
       "      <td>9</td>\n",
       "      <td>1</td>\n",
       "      <td>36.05743</td>\n",
       "      <td>2019-02-01 01:00:00+00:00</td>\n",
       "      <td>2019-02-01 02:00:00+00:00</td>\n",
       "    </tr>\n",
       "    <tr>\n",
       "      <th>16</th>\n",
       "      <td>2019-02-01</td>\n",
       "      <td>2</td>\n",
       "      <td>0</td>\n",
       "      <td>NP15SLAK_5_N001</td>\n",
       "      <td>1</td>\n",
       "      <td>1</td>\n",
       "      <td>35.84812</td>\n",
       "      <td>2019-02-01 02:00:00+00:00</td>\n",
       "      <td>2019-02-01 03:00:00+00:00</td>\n",
       "    </tr>\n",
       "    <tr>\n",
       "      <th>107</th>\n",
       "      <td>2019-02-01</td>\n",
       "      <td>2</td>\n",
       "      <td>0</td>\n",
       "      <td>SP26SLAK_5_N001</td>\n",
       "      <td>5</td>\n",
       "      <td>1</td>\n",
       "      <td>35.15389</td>\n",
       "      <td>2019-02-01 02:00:00+00:00</td>\n",
       "      <td>2019-02-01 03:00:00+00:00</td>\n",
       "    </tr>\n",
       "  </tbody>\n",
       "</table>\n",
       "</div>"
      ],
      "text/plain": [
       "      OPR_DT_PT  OPR_HR_PT  OPR_INTERVAL          NODE_ID  GROUP  POS  \\\n",
       "21   2019-02-01          1             0  NP15SLAK_5_N001      1    1   \n",
       "96   2019-02-01          1             0  SP26SLAK_5_N001      5    1   \n",
       "202  2019-02-01          1             0  ZP26SLAK_5_N001      9    1   \n",
       "16   2019-02-01          2             0  NP15SLAK_5_N001      1    1   \n",
       "107  2019-02-01          2             0  SP26SLAK_5_N001      5    1   \n",
       "\n",
       "        $_MWH         INTERVAL_START_PT           INTERVAL_END_PT  \n",
       "21   36.62123 2019-02-01 01:00:00+00:00 2019-02-01 02:00:00+00:00  \n",
       "96   36.04269 2019-02-01 01:00:00+00:00 2019-02-01 02:00:00+00:00  \n",
       "202  36.05743 2019-02-01 01:00:00+00:00 2019-02-01 02:00:00+00:00  \n",
       "16   35.84812 2019-02-01 02:00:00+00:00 2019-02-01 03:00:00+00:00  \n",
       "107  35.15389 2019-02-01 02:00:00+00:00 2019-02-01 03:00:00+00:00  "
      ]
     },
     "execution_count": 51,
     "metadata": {},
     "output_type": "execute_result"
    }
   ],
   "source": [
    "all_lmp_price = [lmp_feb19, lmp_mar19, lmp_apr19, lmp_may19, lmp_jun19, lmp_jul19, lmp_aug19, lmp_sep19, lmp_oct19, lmp_nov19, lmp_dec19,\n",
    "                 lmp_jan20, lmp_feb20, lmp_mar20, lmp_apr20, lmp_may20]\n",
    "\n",
    "lmp_19_20 = pd.concat(all_lmp_price, axis=0).reset_index()\n",
    "lmp_19_20 = lmp_19_20[lmp_19_20['LMP_TYPE'] == 'LMP'].copy()\n",
    "lmp_19_20.columns=lmp_19_20.columns.str.strip()\n",
    "lmp_19_20['interval_start'] =  lmp_19_20['OPR_DT'].apply(lambda x: datetime.strptime(x, '%Y-%m-%d'))\n",
    "lmp_19_20.sort_values(by=['OPR_DT','OPR_HR'], inplace=True)\n",
    "lmp_19_20['INTERVALSTARTTIME_GMT'] = pd.to_datetime(lmp_19_20['INTERVALSTARTTIME_GMT'])\n",
    "lmp_19_20['INTERVALENDTIME_GMT'] = pd.to_datetime(lmp_19_20['INTERVALENDTIME_GMT'])\n",
    "lmp_19_20['INTERVAL_START_PT'] = lmp_19_20['INTERVALSTARTTIME_GMT'] - timedelta(hours=7)\n",
    "lmp_19_20['INTERVAL_END_PT'] = lmp_19_20['INTERVALENDTIME_GMT'] - timedelta(hours=7)\n",
    "lmp_19_20_sub = lmp_19_20[['OPR_DT','OPR_HR', 'OPR_INTERVAL', 'NODE_ID', 'GROUP', 'POS', 'MW', 'INTERVAL_START_PT', 'INTERVAL_END_PT']].copy()\n",
    "lmp_19_20_sub.rename({'OPR_DT':'OPR_DT_PT', 'OPR_HR': 'OPR_HR_PT', 'MW':'$_MWH'}, axis=1, inplace=True)\n",
    "lmp_19_20_sub.head()"
   ]
  },
  {
   "cell_type": "code",
   "execution_count": null,
   "metadata": {},
   "outputs": [],
   "source": []
  }
 ],
 "metadata": {
  "kernelspec": {
   "display_name": "conda_python3",
   "language": "python",
   "name": "conda_python3"
  },
  "language_info": {
   "codemirror_mode": {
    "name": "ipython",
    "version": 3
   },
   "file_extension": ".py",
   "mimetype": "text/x-python",
   "name": "python",
   "nbconvert_exporter": "python",
   "pygments_lexer": "ipython3",
   "version": "3.6.5"
  }
 },
 "nbformat": 4,
 "nbformat_minor": 4
}
