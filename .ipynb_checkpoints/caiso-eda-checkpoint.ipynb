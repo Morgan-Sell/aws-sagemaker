{
 "cells": [
  {
   "cell_type": "code",
   "execution_count": 38,
   "metadata": {},
   "outputs": [],
   "source": [
    "import pandas as pd\n",
    "import numpy as np\n",
    "\n",
    "import matplotlib.pyplot as plt\n",
    "%matplotlib inline\n",
    "import seaborn as sns\n",
    "\n",
    "from datetime import datetime\n",
    "\n"
   ]
  },
  {
   "cell_type": "code",
   "execution_count": 84,
   "metadata": {},
   "outputs": [],
   "source": [
    "caiso_sp = 'SP15 EZ Gen DA LMP Peak'\n",
    "caiso_np = 'NP15 EZ Gen DA LMP Peak'"
   ]
  },
  {
   "cell_type": "code",
   "execution_count": 53,
   "metadata": {},
   "outputs": [
    {
     "data": {
      "text/plain": [
       "10"
      ]
     },
     "execution_count": 53,
     "metadata": {},
     "output_type": "execute_result"
    }
   ],
   "source": [
    "len(ice_cols)"
   ]
  },
  {
   "cell_type": "code",
   "execution_count": 78,
   "metadata": {},
   "outputs": [],
   "source": [
    "# Time-related variables are \n",
    "ice_cols = ['price_hub', 'trade_date', 'delivery_start', 'delivery_end', 'high_price_$_mwh', 'low_price_$_mwh', 'wtd_avg_price_$_mwh', 'change', 'daily_vol_mwh', 'num_trades', 'num_counterparties']\n",
    "\n",
    "ice14 = pd.read_excel('data/ice_electric-2014final.xls', names=ice_cols)\n",
    "ice15 = pd.read_excel('data/ice_electric-2015final.xls', names=ice_cols)\n",
    "ice16 = pd.read_excel('data/ice_electric-2016final.xls', names=ice_cols)\n",
    "ice17 = pd.read_excel('data/ice_electric-2017final.xlsx', names=ice_cols)\n",
    "ice18 = pd.read_excel('data/ice_electric-2018final.xlsx', names=ice_cols)\n",
    "ice19 = pd.read_excel('data/ice_electric-2019final.xlsx', names=ice_cols)\n",
    "ice20 = pd.read_excel('data/ice_electric-2020.xlsx', names=ice_cols)\n",
    "\n",
    "ice_df_list=[ice14, ice15, ice16, ice17, ice18, ice19, ice20]\n",
    "init_years = list(range(14,21))"
   ]
  },
  {
   "cell_type": "code",
   "execution_count": 81,
   "metadata": {},
   "outputs": [
    {
     "data": {
      "text/plain": [
       "[14, 15, 16, 17, 18, 19, 20]"
      ]
     },
     "execution_count": 81,
     "metadata": {},
     "output_type": "execute_result"
    }
   ],
   "source": [
    "\n"
   ]
  },
  {
   "cell_type": "code",
   "execution_count": 61,
   "metadata": {},
   "outputs": [],
   "source": [
    "def col_to_date(df):\n",
    "    for d in df:\n",
    "        d['trade_date'] = pd.to_datetime(d['trade_date'])\n",
    "        d['delivery_start'] = pd.to_datetime(d['delivery_start'])\n",
    "        d['delivery_end_date'] = pd.to_datetime(d['delivery_end_date'])"
   ]
  },
  {
   "cell_type": "code",
   "execution_count": 89,
   "metadata": {},
   "outputs": [],
   "source": [
    "def create_df_sub(df_list, hub_name, keys_names, dict_name):\n",
    "    for df, k in zip(df_list, keys_names):\n",
    "        dict_name[k] =  df[df['price_hub'] == hub_name].copy()\n",
    "        dict_name[k].drop('price_hub', axis=1, inplace=True)"
   ]
  },
  {
   "cell_type": "code",
   "execution_count": 108,
   "metadata": {},
   "outputs": [],
   "source": [
    "np_dict = {}\n",
    "sp_dict = {}\n",
    "create_df_sub(ice_df_list, caiso_np, init_years, np_dict)\n",
    "create_df_sub(ice_df_list, caiso_sp, init_years, sp_dict)"
   ]
  },
  {
   "cell_type": "code",
   "execution_count": 115,
   "metadata": {},
   "outputs": [],
   "source": [
    "np_df = pd.concat(np_dict.values()).reset_index()\n",
    "sp_df = pd.concat(sp_dict.values()).reset_index()"
   ]
  },
  {
   "cell_type": "code",
   "execution_count": 116,
   "metadata": {},
   "outputs": [
    {
     "name": "stdout",
     "output_type": "stream",
     "text": [
      "<class 'pandas.core.frame.DataFrame'>\n",
      "RangeIndex: 571 entries, 0 to 570\n",
      "Data columns (total 11 columns):\n",
      "index                  571 non-null int64\n",
      "trade_date             571 non-null datetime64[ns]\n",
      "delivery_start         571 non-null datetime64[ns]\n",
      "delivery_end           571 non-null datetime64[ns]\n",
      "high_price_$_mwh       571 non-null float64\n",
      "low_price_$_mwh        571 non-null float64\n",
      "wtd_avg_price_$_mwh    571 non-null float64\n",
      "change                 571 non-null float64\n",
      "daily_vol_mwh          571 non-null int64\n",
      "num_trades             571 non-null int64\n",
      "num_counterparties     571 non-null int64\n",
      "dtypes: datetime64[ns](3), float64(4), int64(4)\n",
      "memory usage: 49.1 KB\n"
     ]
    }
   ],
   "source": [
    "np_df.info()\n"
   ]
  },
  {
   "cell_type": "code",
   "execution_count": 136,
   "metadata": {},
   "outputs": [
    {
     "name": "stdout",
     "output_type": "stream",
     "text": [
      "<class 'pandas.core.frame.DataFrame'>\n",
      "RangeIndex: 2228 entries, 0 to 2227\n",
      "Data columns (total 1 columns):\n",
      "trade_date    2228 non-null datetime64[ns]\n",
      "dtypes: datetime64[ns](1)\n",
      "memory usage: 17.5 KB\n"
     ]
    }
   ],
   "source": [
    "np_date_df.info()"
   ]
  },
  {
   "cell_type": "code",
   "execution_count": 119,
   "metadata": {},
   "outputs": [
    {
     "data": {
      "text/plain": [
       "0      2014-04-14\n",
       "1      2014-04-15\n",
       "2      2014-04-16\n",
       "3      2014-04-17\n",
       "4      2014-04-21\n",
       "5      2014-04-22\n",
       "6      2014-04-23\n",
       "7      2014-04-24\n",
       "8      2014-04-25\n",
       "9      2014-04-28\n",
       "10     2014-04-29\n",
       "11     2014-04-30\n",
       "12     2014-05-01\n",
       "13     2014-05-02\n",
       "14     2014-05-05\n",
       "15     2014-05-06\n",
       "16     2014-05-07\n",
       "17     2014-05-08\n",
       "18     2014-05-09\n",
       "19     2014-05-12\n",
       "20     2014-05-12\n",
       "21     2014-05-13\n",
       "22     2014-05-14\n",
       "23     2014-05-15\n",
       "24     2014-05-16\n",
       "25     2014-05-19\n",
       "26     2014-05-20\n",
       "27     2014-05-21\n",
       "28     2014-05-22\n",
       "29     2014-05-23\n",
       "          ...    \n",
       "1443   2020-03-31\n",
       "1444   2020-04-01\n",
       "1445   2020-04-02\n",
       "1446   2020-04-03\n",
       "1447   2020-04-06\n",
       "1448   2020-04-07\n",
       "1449   2020-04-08\n",
       "1450   2020-04-09\n",
       "1451   2020-04-13\n",
       "1452   2020-04-14\n",
       "1453   2020-04-15\n",
       "1454   2020-04-16\n",
       "1455   2020-04-17\n",
       "1456   2020-04-21\n",
       "1457   2020-04-22\n",
       "1458   2020-04-23\n",
       "1459   2020-04-24\n",
       "1460   2020-04-27\n",
       "1461   2020-04-28\n",
       "1462   2020-04-29\n",
       "1463   2020-04-30\n",
       "1464   2020-05-01\n",
       "1465   2020-05-04\n",
       "1466   2020-05-05\n",
       "1467   2020-05-06\n",
       "1468   2020-05-07\n",
       "1469   2020-05-08\n",
       "1470   2020-05-11\n",
       "1471   2020-05-15\n",
       "1472   2020-05-19\n",
       "Name: trade_date, Length: 1473, dtype: datetime64[ns]"
      ]
     },
     "execution_count": 119,
     "metadata": {},
     "output_type": "execute_result"
    }
   ],
   "source": [
    "sp_df['trade_date']"
   ]
  },
  {
   "cell_type": "code",
   "execution_count": 111,
   "metadata": {},
   "outputs": [
    {
     "name": "stdout",
     "output_type": "stream",
     "text": [
      "<class 'pandas.core.frame.DataFrame'>\n",
      "Int64Index: 1473 entries, 1572 to 478\n",
      "Data columns (total 10 columns):\n",
      "trade_date             1473 non-null datetime64[ns]\n",
      "delivery_start         1473 non-null datetime64[ns]\n",
      "delivery_end           1473 non-null datetime64[ns]\n",
      "high_price_$_mwh       1473 non-null float64\n",
      "low_price_$_mwh        1473 non-null float64\n",
      "wtd_avg_price_$_mwh    1473 non-null float64\n",
      "change                 1473 non-null float64\n",
      "daily_vol_mwh          1473 non-null int64\n",
      "num_trades             1473 non-null int64\n",
      "num_counterparties     1473 non-null int64\n",
      "dtypes: datetime64[ns](3), float64(4), int64(3)\n",
      "memory usage: 126.6 KB\n"
     ]
    }
   ],
   "source": [
    "sp_df.info()"
   ]
  },
  {
   "cell_type": "code",
   "execution_count": 123,
   "metadata": {},
   "outputs": [
    {
     "data": {
      "text/plain": [
       "pandas._libs.tslibs.timestamps.Timestamp"
      ]
     },
     "execution_count": 123,
     "metadata": {},
     "output_type": "execute_result"
    }
   ],
   "source": [
    "type(np_date_df['trade_date'][0])"
   ]
  },
  {
   "cell_type": "code",
   "execution_count": 140,
   "metadata": {},
   "outputs": [],
   "source": [
    "np_date_df = pd.DataFrame({'trade_date':pd.date_range(start='2014-04-14', end='2020-05-19')})\n",
    "np_df_full_cal = pd.merge(np_date_df, np_df, on='trade_date', how='left')\n",
    "np_df_full_cal.head()\n",
    "sp_date_df = pd.DataFrame({'trade_date':pd.date_range(start='2014-04-14', end='2020-05-19')})\n",
    "sp_df_full_cal = pd.merge(sp_date_df, sp_df, on='trade_date', how='left')"
   ]
  },
  {
   "cell_type": "code",
   "execution_count": 142,
   "metadata": {},
   "outputs": [
    {
     "data": {
      "text/plain": [
       "<matplotlib.axes._subplots.AxesSubplot at 0x7fc8c9963828>"
      ]
     },
     "execution_count": 142,
     "metadata": {},
     "output_type": "execute_result"
    },
    {
     "data": {
      "image/png": "[encoded data removed]",
      "text/plain": [
       "<Figure size 432x288 with 1 Axes>"
      ]
     },
     "metadata": {},
     "output_type": "display_data"
    }
   ],
   "source": [
    "sns.heatmap(np_df_full_cal.isnull(), yticklabels=False, cbar=False, cmap='viridis')"
   ]
  },
  {
   "cell_type": "code",
   "execution_count": 143,
   "metadata": {},
   "outputs": [
    {
     "data": {
      "text/plain": [
       "<matplotlib.axes._subplots.AxesSubplot at 0x7fc8c9826828>"
      ]
     },
     "execution_count": 143,
     "metadata": {},
     "output_type": "execute_result"
    },
    {
     "data": {
      "image/png": "[encoded data removed]",
      "text/plain": [
       "<Figure size 432x288 with 1 Axes>"
      ]
     },
     "metadata": {},
     "output_type": "display_data"
    }
   ],
   "source": [
    "sns.heatmap(sp_df_full_cal.isnull(), yticklabels=False, cbar=False, cmap='viridis')"
   ]
  },
  {
   "cell_type": "code",
   "execution_count": 135,
   "metadata": {},
   "outputs": [
    {
     "name": "stdout",
     "output_type": "stream",
     "text": [
      "<class 'pandas.core.frame.DataFrame'>\n",
      "RangeIndex: 2228 entries, 0 to 2227\n",
      "Data columns (total 1 columns):\n",
      "trade_date    2228 non-null datetime64[ns]\n",
      "dtypes: datetime64[ns](1)\n",
      "memory usage: 17.5 KB\n"
     ]
    }
   ],
   "source": []
  }
 ],
 "metadata": {
  "kernelspec": {
   "display_name": "conda_python3",
   "language": "python",
   "name": "conda_python3"
  },
  "language_info": {
   "codemirror_mode": {
    "name": "ipython",
    "version": 3
   },
   "file_extension": ".py",
   "mimetype": "text/x-python",
   "name": "python",
   "nbconvert_exporter": "python",
   "pygments_lexer": "ipython3",
   "version": "3.6.5"
  }
 },
 "nbformat": 4,
 "nbformat_minor": 4
}
