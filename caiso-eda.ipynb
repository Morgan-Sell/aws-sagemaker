{
 "cells": [
  {
   "cell_type": "code",
   "execution_count": 2,
   "metadata": {},
   "outputs": [],
   "source": [
    "import pandas as pd\n",
    "import numpy as np\n",
    "\n",
    "import matplotlib.pyplot as plt\n",
    "%matplotlib inline\n",
    "import seaborn as sns\n",
    "\n",
    "from datetime import datetime"
   ]
  },
  {
   "cell_type": "code",
   "execution_count": 3,
   "metadata": {},
   "outputs": [],
   "source": [
    "caiso_sp = 'SP15 EZ Gen DA LMP Peak'\n",
    "caiso_np = 'NP15 EZ Gen DA LMP Peak'"
   ]
  },
  {
   "cell_type": "markdown",
   "metadata": {},
   "source": [
    "---\n",
    "## ICE Wholesale Price 2014 to 2020"
   ]
  },
  {
   "cell_type": "code",
   "execution_count": 4,
   "metadata": {},
   "outputs": [],
   "source": [
    "# Time-related variables are \n",
    "ice_cols = ['price_hub', 'trade_date', 'delivery_start', 'delivery_end', 'high_price_$_mwh', 'low_price_$_mwh', 'wtd_avg_price_$_mwh', 'change', 'daily_vol_mwh', 'num_trades', 'num_counterparties']\n",
    "\n",
    "ice14 = pd.read_excel('data/ice_electric-2014final.xls', names=ice_cols)\n",
    "ice15 = pd.read_excel('data/ice_electric-2015final.xls', names=ice_cols)\n",
    "ice16 = pd.read_excel('data/ice_electric-2016final.xls', names=ice_cols)\n",
    "ice17 = pd.read_excel('data/ice_electric-2017final.xlsx', names=ice_cols)\n",
    "ice18 = pd.read_excel('data/ice_electric-2018final.xlsx', names=ice_cols)\n",
    "ice19 = pd.read_excel('data/ice_electric-2019final.xlsx', names=ice_cols)\n",
    "ice20 = pd.read_excel('data/ice_electric-2020.xlsx', names=ice_cols)\n",
    "\n",
    "ice_df_list=[ice14, ice15, ice16, ice17, ice18, ice19, ice20]\n",
    "init_years = list(range(14,21))"
   ]
  },
  {
   "cell_type": "code",
   "execution_count": 5,
   "metadata": {},
   "outputs": [],
   "source": [
    "def col_to_date(df):\n",
    "    for d in df:\n",
    "        d['trade_date'] = pd.to_datetime(d['trade_date'])\n",
    "        d['delivery_start'] = pd.to_datetime(d['delivery_start'])\n",
    "        d['delivery_end_date'] = pd.to_datetime(d['delivery_end_date'])"
   ]
  },
  {
   "cell_type": "code",
   "execution_count": 6,
   "metadata": {},
   "outputs": [],
   "source": [
    "def create_df_sub(df_list, hub_name, keys_names, dict_name):\n",
    "    for df, k in zip(df_list, keys_names):\n",
    "        dict_name[k] =  df[df['price_hub'] == hub_name].copy()\n",
    "        dict_name[k].drop('price_hub', axis=1, inplace=True)"
   ]
  },
  {
   "cell_type": "code",
   "execution_count": 7,
   "metadata": {},
   "outputs": [],
   "source": [
    "np_dict = {}\n",
    "sp_dict = {}\n",
    "create_df_sub(ice_df_list, caiso_np, init_years, np_dict)\n",
    "create_df_sub(ice_df_list, caiso_sp, init_years, sp_dict)"
   ]
  },
  {
   "cell_type": "code",
   "execution_count": 8,
   "metadata": {},
   "outputs": [],
   "source": [
    "np_df = pd.concat(np_dict.values()).reset_index()\n",
    "sp_df = pd.concat(sp_dict.values()).reset_index()"
   ]
  },
  {
   "cell_type": "code",
   "execution_count": 11,
   "metadata": {},
   "outputs": [
    {
     "data": {
      "text/html": [
       "<div>\n",
       "<style scoped>\n",
       "    .dataframe tbody tr th:only-of-type {\n",
       "        vertical-align: middle;\n",
       "    }\n",
       "\n",
       "    .dataframe tbody tr th {\n",
       "        vertical-align: top;\n",
       "    }\n",
       "\n",
       "    .dataframe thead th {\n",
       "        text-align: right;\n",
       "    }\n",
       "</style>\n",
       "<table border=\"1\" class=\"dataframe\">\n",
       "  <thead>\n",
       "    <tr style=\"text-align: right;\">\n",
       "      <th></th>\n",
       "      <th>index</th>\n",
       "      <th>trade_date</th>\n",
       "      <th>delivery_start</th>\n",
       "      <th>delivery_end</th>\n",
       "      <th>high_price_$_mwh</th>\n",
       "      <th>low_price_$_mwh</th>\n",
       "      <th>wtd_avg_price_$_mwh</th>\n",
       "      <th>change</th>\n",
       "      <th>daily_vol_mwh</th>\n",
       "      <th>num_trades</th>\n",
       "      <th>num_counterparties</th>\n",
       "    </tr>\n",
       "  </thead>\n",
       "  <tbody>\n",
       "    <tr>\n",
       "      <th>566</th>\n",
       "      <td>194</td>\n",
       "      <td>2020-02-10</td>\n",
       "      <td>2020-02-11</td>\n",
       "      <td>2020-02-11</td>\n",
       "      <td>28.00</td>\n",
       "      <td>28.00</td>\n",
       "      <td>28.00</td>\n",
       "      <td>-2.28</td>\n",
       "      <td>400</td>\n",
       "      <td>1</td>\n",
       "      <td>2</td>\n",
       "    </tr>\n",
       "    <tr>\n",
       "      <th>567</th>\n",
       "      <td>195</td>\n",
       "      <td>2020-03-10</td>\n",
       "      <td>2020-03-11</td>\n",
       "      <td>2020-03-11</td>\n",
       "      <td>31.50</td>\n",
       "      <td>31.50</td>\n",
       "      <td>31.50</td>\n",
       "      <td>3.50</td>\n",
       "      <td>400</td>\n",
       "      <td>1</td>\n",
       "      <td>2</td>\n",
       "    </tr>\n",
       "    <tr>\n",
       "      <th>568</th>\n",
       "      <td>196</td>\n",
       "      <td>2020-03-11</td>\n",
       "      <td>2020-03-12</td>\n",
       "      <td>2020-03-12</td>\n",
       "      <td>35.25</td>\n",
       "      <td>35.25</td>\n",
       "      <td>35.25</td>\n",
       "      <td>3.75</td>\n",
       "      <td>800</td>\n",
       "      <td>2</td>\n",
       "      <td>2</td>\n",
       "    </tr>\n",
       "    <tr>\n",
       "      <th>569</th>\n",
       "      <td>197</td>\n",
       "      <td>2020-04-13</td>\n",
       "      <td>2020-04-14</td>\n",
       "      <td>2020-04-14</td>\n",
       "      <td>23.00</td>\n",
       "      <td>23.00</td>\n",
       "      <td>23.00</td>\n",
       "      <td>-12.25</td>\n",
       "      <td>400</td>\n",
       "      <td>1</td>\n",
       "      <td>2</td>\n",
       "    </tr>\n",
       "    <tr>\n",
       "      <th>570</th>\n",
       "      <td>198</td>\n",
       "      <td>2020-04-30</td>\n",
       "      <td>2020-05-01</td>\n",
       "      <td>2020-05-02</td>\n",
       "      <td>13.75</td>\n",
       "      <td>13.50</td>\n",
       "      <td>13.60</td>\n",
       "      <td>-9.40</td>\n",
       "      <td>4000</td>\n",
       "      <td>5</td>\n",
       "      <td>3</td>\n",
       "    </tr>\n",
       "  </tbody>\n",
       "</table>\n",
       "</div>"
      ],
      "text/plain": [
       "     index trade_date delivery_start delivery_end  high_price_$_mwh  \\\n",
       "566    194 2020-02-10     2020-02-11   2020-02-11             28.00   \n",
       "567    195 2020-03-10     2020-03-11   2020-03-11             31.50   \n",
       "568    196 2020-03-11     2020-03-12   2020-03-12             35.25   \n",
       "569    197 2020-04-13     2020-04-14   2020-04-14             23.00   \n",
       "570    198 2020-04-30     2020-05-01   2020-05-02             13.75   \n",
       "\n",
       "     low_price_$_mwh  wtd_avg_price_$_mwh  change  daily_vol_mwh  num_trades  \\\n",
       "566            28.00                28.00   -2.28            400           1   \n",
       "567            31.50                31.50    3.50            400           1   \n",
       "568            35.25                35.25    3.75            800           2   \n",
       "569            23.00                23.00  -12.25            400           1   \n",
       "570            13.50                13.60   -9.40           4000           5   \n",
       "\n",
       "     num_counterparties  \n",
       "566                   2  \n",
       "567                   2  \n",
       "568                   2  \n",
       "569                   2  \n",
       "570                   3  "
      ]
     },
     "execution_count": 11,
     "metadata": {},
     "output_type": "execute_result"
    }
   ],
   "source": [
    "np_df.tail()\n"
   ]
  },
  {
   "cell_type": "code",
   "execution_count": 136,
   "metadata": {},
   "outputs": [
    {
     "name": "stdout",
     "output_type": "stream",
     "text": [
      "<class 'pandas.core.frame.DataFrame'>\n",
      "RangeIndex: 2228 entries, 0 to 2227\n",
      "Data columns (total 1 columns):\n",
      "trade_date    2228 non-null datetime64[ns]\n",
      "dtypes: datetime64[ns](1)\n",
      "memory usage: 17.5 KB\n"
     ]
    }
   ],
   "source": [
    "np_date_df.info()"
   ]
  },
  {
   "cell_type": "code",
   "execution_count": 119,
   "metadata": {},
   "outputs": [
    {
     "data": {
      "text/plain": [
       "0      2014-04-14\n",
       "1      2014-04-15\n",
       "2      2014-04-16\n",
       "3      2014-04-17\n",
       "4      2014-04-21\n",
       "5      2014-04-22\n",
       "6      2014-04-23\n",
       "7      2014-04-24\n",
       "8      2014-04-25\n",
       "9      2014-04-28\n",
       "10     2014-04-29\n",
       "11     2014-04-30\n",
       "12     2014-05-01\n",
       "13     2014-05-02\n",
       "14     2014-05-05\n",
       "15     2014-05-06\n",
       "16     2014-05-07\n",
       "17     2014-05-08\n",
       "18     2014-05-09\n",
       "19     2014-05-12\n",
       "20     2014-05-12\n",
       "21     2014-05-13\n",
       "22     2014-05-14\n",
       "23     2014-05-15\n",
       "24     2014-05-16\n",
       "25     2014-05-19\n",
       "26     2014-05-20\n",
       "27     2014-05-21\n",
       "28     2014-05-22\n",
       "29     2014-05-23\n",
       "          ...    \n",
       "1443   2020-03-31\n",
       "1444   2020-04-01\n",
       "1445   2020-04-02\n",
       "1446   2020-04-03\n",
       "1447   2020-04-06\n",
       "1448   2020-04-07\n",
       "1449   2020-04-08\n",
       "1450   2020-04-09\n",
       "1451   2020-04-13\n",
       "1452   2020-04-14\n",
       "1453   2020-04-15\n",
       "1454   2020-04-16\n",
       "1455   2020-04-17\n",
       "1456   2020-04-21\n",
       "1457   2020-04-22\n",
       "1458   2020-04-23\n",
       "1459   2020-04-24\n",
       "1460   2020-04-27\n",
       "1461   2020-04-28\n",
       "1462   2020-04-29\n",
       "1463   2020-04-30\n",
       "1464   2020-05-01\n",
       "1465   2020-05-04\n",
       "1466   2020-05-05\n",
       "1467   2020-05-06\n",
       "1468   2020-05-07\n",
       "1469   2020-05-08\n",
       "1470   2020-05-11\n",
       "1471   2020-05-15\n",
       "1472   2020-05-19\n",
       "Name: trade_date, Length: 1473, dtype: datetime64[ns]"
      ]
     },
     "execution_count": 119,
     "metadata": {},
     "output_type": "execute_result"
    }
   ],
   "source": [
    "sp_df['trade_date']"
   ]
  },
  {
   "cell_type": "code",
   "execution_count": 111,
   "metadata": {},
   "outputs": [
    {
     "name": "stdout",
     "output_type": "stream",
     "text": [
      "<class 'pandas.core.frame.DataFrame'>\n",
      "Int64Index: 1473 entries, 1572 to 478\n",
      "Data columns (total 10 columns):\n",
      "trade_date             1473 non-null datetime64[ns]\n",
      "delivery_start         1473 non-null datetime64[ns]\n",
      "delivery_end           1473 non-null datetime64[ns]\n",
      "high_price_$_mwh       1473 non-null float64\n",
      "low_price_$_mwh        1473 non-null float64\n",
      "wtd_avg_price_$_mwh    1473 non-null float64\n",
      "change                 1473 non-null float64\n",
      "daily_vol_mwh          1473 non-null int64\n",
      "num_trades             1473 non-null int64\n",
      "num_counterparties     1473 non-null int64\n",
      "dtypes: datetime64[ns](3), float64(4), int64(3)\n",
      "memory usage: 126.6 KB\n"
     ]
    }
   ],
   "source": [
    "sp_df.info()"
   ]
  },
  {
   "cell_type": "code",
   "execution_count": 123,
   "metadata": {},
   "outputs": [
    {
     "data": {
      "text/plain": [
       "pandas._libs.tslibs.timestamps.Timestamp"
      ]
     },
     "execution_count": 123,
     "metadata": {},
     "output_type": "execute_result"
    }
   ],
   "source": [
    "type(np_date_df['trade_date'][0])"
   ]
  },
  {
   "cell_type": "code",
   "execution_count": 140,
   "metadata": {},
   "outputs": [],
   "source": [
    "np_date_df = pd.DataFrame({'trade_date':pd.date_range(start='2014-01-01', end='2020-05-19')})\n",
    "np_df_full_cal = pd.merge(np_date_df, np_df, on='trade_date', how='left')\n",
    "np_df_full_cal.head()\n",
    "sp_date_df = pd.DataFrame({'trade_date':pd.date_range(start='2014-01-01', end='2020-05-19')})\n",
    "sp_df_full_cal = pd.merge(sp_date_df, sp_df, on='trade_date', how='left')"
   ]
  },
  {
   "cell_type": "code",
   "execution_count": 142,
   "metadata": {},
   "outputs": [
    {
     "data": {
      "text/plain": [
       "<matplotlib.axes._subplots.AxesSubplot at 0x7fc8c9963828>"
      ]
     },
     "execution_count": 142,
     "metadata": {},
     "output_type": "execute_result"
    },
    {
     "data": {
      "image/png": "[encoded data removed]",
      "text/plain": [
       "<Figure size 432x288 with 1 Axes>"
      ]
     },
     "metadata": {},
     "output_type": "display_data"
    }
   ],
   "source": [
    "sns.heatmap(np_df_full_cal.isnull(), yticklabels=False, cbar=False, cmap='viridis')"
   ]
  },
  {
   "cell_type": "code",
   "execution_count": 143,
   "metadata": {},
   "outputs": [
    {
     "data": {
      "text/plain": [
       "<matplotlib.axes._subplots.AxesSubplot at 0x7fc8c9826828>"
      ]
     },
     "execution_count": 143,
     "metadata": {},
     "output_type": "execute_result"
    },
    {
     "data": {
      "image/png": "[encoded data removed]",
      "text/plain": [
       "<Figure size 432x288 with 1 Axes>"
      ]
     },
     "metadata": {},
     "output_type": "display_data"
    }
   ],
   "source": [
    "sns.heatmap(sp_df_full_cal.isnull(), yticklabels=False, cbar=False, cmap='viridis')"
   ]
  },
  {
   "cell_type": "markdown",
   "metadata": {},
   "source": [
    "---\n",
    "## CAISO NP- ans SP-15 2001 to 2013"
   ]
  },
  {
   "cell_type": "code",
   "execution_count": 28,
   "metadata": {},
   "outputs": [],
   "source": [
    "ice_np_01_13 = pd.read_excel('data/NP 15 Hub.xls', names=ice_cols)\n",
    "ice_sp1_01_13 = pd.read_excel('data/SP 15_1 Hub.xls', names=ice_cols)\n",
    "ice_sp2_01_13 = pd.read_excel('data/SP 15_2 Hub.xls', names=ice_cols)\n",
    "\n",
    "ice_np_01_13.drop('price_hub', axis=1, inplace=True)\n",
    "ice_sp1_01_13.drop('price_hub', axis=1, inplace=True)\n",
    "ice_sp2_01_13.drop('price_hub', axis=1, inplace=True)"
   ]
  },
  {
   "cell_type": "code",
   "execution_count": 38,
   "metadata": {},
   "outputs": [],
   "source": [
    "date_01_13 = pd.DataFrame({'trade_date':pd.date_range(start='2001-01-01', end='2013-12-31')})\n",
    "np_df_01_13 = pd.merge(date_01_13, ice_np_01_13, on='trade_date', how='left')\n",
    "sp_concat = pd.concat([ice_sp1_01_13, ice_sp2_01_13], axis=0)\n",
    "sp_df_01_13 = pd.merge(date_01_13, sp_concat, on='trade_date', how='left')\n",
    "# sp_df_01_13 = pd.merge(sp_df_01_13, ice_sp2_01_13, on='trade_date', how='left')"
   ]
  },
  {
   "cell_type": "code",
   "execution_count": 39,
   "metadata": {},
   "outputs": [
    {
     "data": {
      "text/plain": [
       "<matplotlib.axes._subplots.AxesSubplot at 0x7f4089baaac8>"
      ]
     },
     "execution_count": 39,
     "metadata": {},
     "output_type": "execute_result"
    },
    {
     "data": {
      "image/png": "[encoded data removed]",
      "text/plain": [
       "<Figure size 432x288 with 1 Axes>"
      ]
     },
     "metadata": {},
     "output_type": "display_data"
    }
   ],
   "source": [
    "sns.heatmap(np_df_01_13.isnull(), yticklabels=False, cbar=False, cmap='viridis')"
   ]
  },
  {
   "cell_type": "code",
   "execution_count": 40,
   "metadata": {},
   "outputs": [
    {
     "data": {
      "text/plain": [
       "<matplotlib.axes._subplots.AxesSubplot at 0x7f4089b720f0>"
      ]
     },
     "execution_count": 40,
     "metadata": {},
     "output_type": "execute_result"
    },
    {
     "data": {
      "image/png": "[encoded data removed]",
      "text/plain": [
       "<Figure size 432x288 with 1 Axes>"
      ]
     },
     "metadata": {},
     "output_type": "display_data"
    }
   ],
   "source": [
    "sns.heatmap(sp_df_01_13.isnull(), yticklabels=False, cbar=False, cmap='viridis')"
   ]
  },
  {
   "cell_type": "code",
   "execution_count": null,
   "metadata": {},
   "outputs": [],
   "source": []
  }
 ],
 "metadata": {
  "kernelspec": {
   "display_name": "conda_python3",
   "language": "python",
   "name": "conda_python3"
  },
  "language_info": {
   "codemirror_mode": {
    "name": "ipython",
    "version": 3
   },
   "file_extension": ".py",
   "mimetype": "text/x-python",
   "name": "python",
   "nbconvert_exporter": "python",
   "pygments_lexer": "ipython3",
   "version": "3.6.5"
  }
 },
 "nbformat": 4,
 "nbformat_minor": 4
}
