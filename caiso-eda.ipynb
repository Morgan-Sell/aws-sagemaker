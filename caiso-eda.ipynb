{
 "cells": [
  {
   "cell_type": "code",
   "execution_count": 1,
   "metadata": {},
   "outputs": [
    {
     "name": "stdout",
     "output_type": "stream",
     "text": [
      "Collecting pip\n",
      "\u001b[?25l  Downloading https://files.pythonhosted.org/packages/43/84/23ed6a1796480a6f1a2d38f2802901d078266bda38388954d01d3f2e821d/pip-20.1.1-py2.py3-none-any.whl (1.5MB)\n",
      "\u001b[K    100% |████████████████████████████████| 1.5MB 15.2MB/s ta 0:00:01\n",
      "\u001b[?25hInstalling collected packages: pip\n",
      "  Found existing installation: pip 10.0.1\n",
      "    Uninstalling pip-10.0.1:\n",
      "      Successfully uninstalled pip-10.0.1\n",
      "Successfully installed pip-20.1.1\n",
      "\u001b[33mYou are using pip version 20.1.1, however version 20.2b1 is available.\n",
      "You should consider upgrading via the 'pip install --upgrade pip' command.\u001b[0m\n",
      "Collecting pyiso\n",
      "  Downloading pyiso-0.4.0.tar.gz (3.0 MB)\n",
      "\u001b[K     |████████████████████████████████| 3.0 MB 4.7 MB/s eta 0:00:01\n",
      "\u001b[?25hCollecting beautifulsoup4==4.5.0\n",
      "  Downloading beautifulsoup4-4.5.0-py3-none-any.whl (83 kB)\n",
      "\u001b[K     |████████████████████████████████| 83 kB 4.6 MB/s  eta 0:00:01\n",
      "\u001b[?25hRequirement already satisfied: pandas>=0.18 in /home/ec2-user/anaconda3/envs/python3/lib/python3.6/site-packages (from pyiso) (0.24.2)\n",
      "Requirement already satisfied: python-dateutil in /home/ec2-user/anaconda3/envs/python3/lib/python3.6/site-packages (from pyiso) (2.7.3)\n",
      "Requirement already satisfied: pytz in /home/ec2-user/anaconda3/envs/python3/lib/python3.6/site-packages (from pyiso) (2018.4)\n",
      "Requirement already satisfied: requests in /home/ec2-user/anaconda3/envs/python3/lib/python3.6/site-packages (from pyiso) (2.20.0)\n",
      "Collecting celery>=3.1\n",
      "  Downloading celery-4.4.4-py2.py3-none-any.whl (426 kB)\n",
      "\u001b[K     |████████████████████████████████| 426 kB 46.5 MB/s eta 0:00:01\n",
      "\u001b[?25hRequirement already satisfied: xlrd in /home/ec2-user/anaconda3/envs/python3/lib/python3.6/site-packages (from pyiso) (1.1.0)\n",
      "Collecting lxml==3.6.4\n",
      "  Downloading lxml-3.6.4.tar.gz (3.7 MB)\n",
      "\u001b[K     |████████████████████████████████| 3.7 MB 49.9 MB/s eta 0:00:01\n",
      "\u001b[?25hRequirement already satisfied: html5lib in /home/ec2-user/anaconda3/envs/python3/lib/python3.6/site-packages (from pyiso) (1.0.1)\n",
      "Requirement already satisfied: mock in /home/ec2-user/anaconda3/envs/python3/lib/python3.6/site-packages (from pyiso) (4.0.1)\n",
      "Requirement already satisfied: certifi in /home/ec2-user/anaconda3/envs/python3/lib/python3.6/site-packages (from pyiso) (2019.11.28)\n",
      "Requirement already satisfied: numpy>=1.12.0 in /home/ec2-user/anaconda3/envs/python3/lib/python3.6/site-packages (from pandas>=0.18->pyiso) (1.14.3)\n",
      "Requirement already satisfied: six>=1.5 in /home/ec2-user/anaconda3/envs/python3/lib/python3.6/site-packages (from python-dateutil->pyiso) (1.11.0)\n",
      "Requirement already satisfied: chardet<3.1.0,>=3.0.2 in /home/ec2-user/anaconda3/envs/python3/lib/python3.6/site-packages (from requests->pyiso) (3.0.4)\n",
      "Requirement already satisfied: urllib3<1.25,>=1.21.1 in /home/ec2-user/anaconda3/envs/python3/lib/python3.6/site-packages (from requests->pyiso) (1.23)\n",
      "Requirement already satisfied: idna<2.8,>=2.5 in /home/ec2-user/anaconda3/envs/python3/lib/python3.6/site-packages (from requests->pyiso) (2.6)\n",
      "Collecting vine==1.3.0\n",
      "  Downloading vine-1.3.0-py2.py3-none-any.whl (14 kB)\n",
      "Collecting kombu<4.7,>=4.6.10\n",
      "  Downloading kombu-4.6.10-py2.py3-none-any.whl (184 kB)\n",
      "\u001b[K     |████████████████████████████████| 184 kB 81.4 MB/s eta 0:00:01\n",
      "\u001b[?25hCollecting billiard<4.0,>=3.6.3.0\n",
      "  Downloading billiard-3.6.3.0-py3-none-any.whl (89 kB)\n",
      "\u001b[K     |████████████████████████████████| 89 kB 16.0 MB/s eta 0:00:01\n",
      "\u001b[?25hRequirement already satisfied: webencodings in /home/ec2-user/anaconda3/envs/python3/lib/python3.6/site-packages (from html5lib->pyiso) (0.5.1)\n",
      "Collecting amqp<2.7,>=2.6.0\n",
      "  Downloading amqp-2.6.0-py2.py3-none-any.whl (47 kB)\n",
      "\u001b[K     |████████████████████████████████| 47 kB 8.1 MB/s  eta 0:00:01\n",
      "\u001b[?25hRequirement already satisfied: importlib-metadata>=0.18; python_version < \"3.8\" in /home/ec2-user/anaconda3/envs/python3/lib/python3.6/site-packages (from kombu<4.7,>=4.6.10->celery>=3.1->pyiso) (1.5.0)\n",
      "Requirement already satisfied: zipp>=0.5 in /home/ec2-user/anaconda3/envs/python3/lib/python3.6/site-packages (from importlib-metadata>=0.18; python_version < \"3.8\"->kombu<4.7,>=4.6.10->celery>=3.1->pyiso) (3.0.0)\n",
      "Building wheels for collected packages: pyiso, lxml\n",
      "  Building wheel for pyiso (setup.py) ... \u001b[?25ldone\n",
      "\u001b[?25h  Created wheel for pyiso: filename=pyiso-0.4.0-py3-none-any.whl size=72833 sha256=98037f46116405910ee519c4590b7c8e75c0144926f9eec2a46a89d4b9d0221e\n",
      "  Stored in directory: /home/ec2-user/.cache/pip/wheels/f9/ac/fa/99e54af30a77846650e0f15fa9379a01277d141060975428c1\n",
      "  Building wheel for lxml (setup.py) ... \u001b[?25ldone\n",
      "\u001b[?25h  Created wheel for lxml: filename=lxml-3.6.4-cp36-cp36m-linux_x86_64.whl size=3414539 sha256=c390ed24945885d6f644971ffe305166ba14c7063fa4f1119ad9f809ddaec5f8\n",
      "  Stored in directory: /home/ec2-user/.cache/pip/wheels/88/d5/4a/feccabbc277e90b3a0f3337aa8ce54ba1a496df8b579c510a7\n",
      "Successfully built pyiso lxml\n",
      "Installing collected packages: beautifulsoup4, vine, amqp, kombu, billiard, celery, lxml, pyiso\n",
      "  Attempting uninstall: beautifulsoup4\n",
      "    Found existing installation: beautifulsoup4 4.6.0\n",
      "    Uninstalling beautifulsoup4-4.6.0:\n",
      "      Successfully uninstalled beautifulsoup4-4.6.0\n",
      "  Attempting uninstall: lxml\n",
      "    Found existing installation: lxml 4.2.1\n",
      "    Uninstalling lxml-4.2.1:\n",
      "      Successfully uninstalled lxml-4.2.1\n",
      "Successfully installed amqp-2.6.0 beautifulsoup4-4.5.0 billiard-3.6.3.0 celery-4.4.4 kombu-4.6.10 lxml-3.6.4 pyiso-0.4.0 vine-1.3.0\n",
      "Collecting seaborn\n",
      "  Downloading seaborn-0.10.1-py3-none-any.whl (215 kB)\n",
      "\u001b[K     |████████████████████████████████| 215 kB 5.8 MB/s eta 0:00:01\n",
      "\u001b[?25hRequirement already satisfied, skipping upgrade: pandas>=0.22.0 in /home/ec2-user/anaconda3/envs/python3/lib/python3.6/site-packages (from seaborn) (0.24.2)\n",
      "Requirement already satisfied, skipping upgrade: numpy>=1.13.3 in /home/ec2-user/anaconda3/envs/python3/lib/python3.6/site-packages (from seaborn) (1.14.3)\n",
      "Requirement already satisfied, skipping upgrade: scipy>=1.0.1 in /home/ec2-user/anaconda3/envs/python3/lib/python3.6/site-packages (from seaborn) (1.1.0)\n",
      "Requirement already satisfied, skipping upgrade: matplotlib>=2.1.2 in /home/ec2-user/anaconda3/envs/python3/lib/python3.6/site-packages (from seaborn) (3.0.3)\n",
      "Requirement already satisfied, skipping upgrade: pytz>=2011k in /home/ec2-user/anaconda3/envs/python3/lib/python3.6/site-packages (from pandas>=0.22.0->seaborn) (2018.4)\n",
      "Requirement already satisfied, skipping upgrade: python-dateutil>=2.5.0 in /home/ec2-user/anaconda3/envs/python3/lib/python3.6/site-packages (from pandas>=0.22.0->seaborn) (2.7.3)\n",
      "Requirement already satisfied, skipping upgrade: kiwisolver>=1.0.1 in /home/ec2-user/anaconda3/envs/python3/lib/python3.6/site-packages (from matplotlib>=2.1.2->seaborn) (1.0.1)\n",
      "Requirement already satisfied, skipping upgrade: pyparsing!=2.0.4,!=2.1.2,!=2.1.6,>=2.0.1 in /home/ec2-user/anaconda3/envs/python3/lib/python3.6/site-packages (from matplotlib>=2.1.2->seaborn) (2.2.0)\n",
      "Requirement already satisfied, skipping upgrade: cycler>=0.10 in /home/ec2-user/anaconda3/envs/python3/lib/python3.6/site-packages (from matplotlib>=2.1.2->seaborn) (0.10.0)\n",
      "Requirement already satisfied, skipping upgrade: six>=1.5 in /home/ec2-user/anaconda3/envs/python3/lib/python3.6/site-packages (from python-dateutil>=2.5.0->pandas>=0.22.0->seaborn) (1.11.0)\n",
      "Requirement already satisfied, skipping upgrade: setuptools in /home/ec2-user/anaconda3/envs/python3/lib/python3.6/site-packages (from kiwisolver>=1.0.1->matplotlib>=2.1.2->seaborn) (39.1.0)\n",
      "Installing collected packages: seaborn\n",
      "  Attempting uninstall: seaborn\n",
      "    Found existing installation: seaborn 0.8.1\n",
      "    Uninstalling seaborn-0.8.1:\n",
      "      Successfully uninstalled seaborn-0.8.1\n",
      "Successfully installed seaborn-0.10.1\n"
     ]
    }
   ],
   "source": [
    "!pip install --upgrade pip\n",
    "!pip install pyiso\n",
    "!pip install --upgrade seaborn"
   ]
  },
  {
   "cell_type": "code",
   "execution_count": 3,
   "metadata": {},
   "outputs": [],
   "source": [
    "import pandas as pd\n",
    "import numpy as np\n",
    "\n",
    "import matplotlib.pyplot as plt\n",
    "%matplotlib inline\n",
    "import seaborn as sns\n",
    "\n",
    "from datetime import datetime, date, timedelta\n",
    "\n",
    "import pyiso\n",
    "from pyiso import client_factory"
   ]
  },
  {
   "cell_type": "code",
   "execution_count": null,
   "metadata": {},
   "outputs": [],
   "source": [
    "caiso_sp = 'SP15 EZ Gen DA LMP Peak'\n",
    "caiso_np = 'NP15 EZ Gen DA LMP Peak'"
   ]
  },
  {
   "cell_type": "markdown",
   "metadata": {},
   "source": [
    "---\n",
    "## ICE Wholesale Price 2014 to 2020"
   ]
  },
  {
   "cell_type": "code",
   "execution_count": 3,
   "metadata": {},
   "outputs": [],
   "source": [
    "# Time-related variables are \n",
    "ice_cols = ['price_hub', 'trade_date', 'delivery_start', 'delivery_end', 'high_price_$_mwh', 'low_price_$_mwh', 'wtd_avg_price_$_mwh', 'change', 'daily_vol_mwh', 'num_trades', 'num_counterparties']\n",
    "\n",
    "ice14 = pd.read_excel('data/ice_electric-2014final.xls', names=ice_cols)\n",
    "ice15 = pd.read_excel('data/ice_electric-2015final.xls', names=ice_cols)\n",
    "ice16 = pd.read_excel('data/ice_electric-2016final.xls', names=ice_cols)\n",
    "ice17 = pd.read_excel('data/ice_electric-2017final.xlsx', names=ice_cols)\n",
    "ice18 = pd.read_excel('data/ice_electric-2018final.xlsx', names=ice_cols)\n",
    "ice19 = pd.read_excel('data/ice_electric-2019final.xlsx', names=ice_cols)\n",
    "ice20 = pd.read_excel('data/ice_electric-2020.xlsx', names=ice_cols)\n",
    "\n",
    "ice_df_list=[ice14, ice15, ice16, ice17, ice18, ice19, ice20]\n",
    "init_years = list(range(14,21))"
   ]
  },
  {
   "cell_type": "code",
   "execution_count": 4,
   "metadata": {},
   "outputs": [],
   "source": [
    "def col_to_date(df):\n",
    "    for d in df:\n",
    "        d['trade_date'] = pd.to_datetime(d['trade_date'])\n",
    "        d['delivery_start'] = pd.to_datetime(d['delivery_start'])\n",
    "        d['delivery_end_date'] = pd.to_datetime(d['delivery_end_date'])"
   ]
  },
  {
   "cell_type": "code",
   "execution_count": 5,
   "metadata": {},
   "outputs": [],
   "source": [
    "def create_df_sub(df_list, hub_name, keys_names, dict_name):\n",
    "    for df, k in zip(df_list, keys_names):\n",
    "        dict_name[k] =  df[df['price_hub'] == hub_name].copy()\n",
    "        dict_name[k].drop('price_hub', axis=1, inplace=True)"
   ]
  },
  {
   "cell_type": "code",
   "execution_count": 6,
   "metadata": {},
   "outputs": [],
   "source": [
    "np_dict = {}\n",
    "sp_dict = {}\n",
    "create_df_sub(ice_df_list, caiso_np, init_years, np_dict)\n",
    "create_df_sub(ice_df_list, caiso_sp, init_years, sp_dict)"
   ]
  },
  {
   "cell_type": "code",
   "execution_count": 7,
   "metadata": {},
   "outputs": [],
   "source": [
    "np_df = pd.concat(np_dict.values()).reset_index()\n",
    "sp_df = pd.concat(sp_dict.values()).reset_index()"
   ]
  },
  {
   "cell_type": "code",
   "execution_count": 8,
   "metadata": {},
   "outputs": [
    {
     "data": {
      "text/html": [
       "<div>\n",
       "<style scoped>\n",
       "    .dataframe tbody tr th:only-of-type {\n",
       "        vertical-align: middle;\n",
       "    }\n",
       "\n",
       "    .dataframe tbody tr th {\n",
       "        vertical-align: top;\n",
       "    }\n",
       "\n",
       "    .dataframe thead th {\n",
       "        text-align: right;\n",
       "    }\n",
       "</style>\n",
       "<table border=\"1\" class=\"dataframe\">\n",
       "  <thead>\n",
       "    <tr style=\"text-align: right;\">\n",
       "      <th></th>\n",
       "      <th>index</th>\n",
       "      <th>trade_date</th>\n",
       "      <th>delivery_start</th>\n",
       "      <th>delivery_end</th>\n",
       "      <th>high_price_$_mwh</th>\n",
       "      <th>low_price_$_mwh</th>\n",
       "      <th>wtd_avg_price_$_mwh</th>\n",
       "      <th>change</th>\n",
       "      <th>daily_vol_mwh</th>\n",
       "      <th>num_trades</th>\n",
       "      <th>num_counterparties</th>\n",
       "    </tr>\n",
       "  </thead>\n",
       "  <tbody>\n",
       "    <tr>\n",
       "      <th>566</th>\n",
       "      <td>194</td>\n",
       "      <td>2020-02-10</td>\n",
       "      <td>2020-02-11</td>\n",
       "      <td>2020-02-11</td>\n",
       "      <td>28.00</td>\n",
       "      <td>28.00</td>\n",
       "      <td>28.00</td>\n",
       "      <td>-2.28</td>\n",
       "      <td>400</td>\n",
       "      <td>1</td>\n",
       "      <td>2</td>\n",
       "    </tr>\n",
       "    <tr>\n",
       "      <th>567</th>\n",
       "      <td>195</td>\n",
       "      <td>2020-03-10</td>\n",
       "      <td>2020-03-11</td>\n",
       "      <td>2020-03-11</td>\n",
       "      <td>31.50</td>\n",
       "      <td>31.50</td>\n",
       "      <td>31.50</td>\n",
       "      <td>3.50</td>\n",
       "      <td>400</td>\n",
       "      <td>1</td>\n",
       "      <td>2</td>\n",
       "    </tr>\n",
       "    <tr>\n",
       "      <th>568</th>\n",
       "      <td>196</td>\n",
       "      <td>2020-03-11</td>\n",
       "      <td>2020-03-12</td>\n",
       "      <td>2020-03-12</td>\n",
       "      <td>35.25</td>\n",
       "      <td>35.25</td>\n",
       "      <td>35.25</td>\n",
       "      <td>3.75</td>\n",
       "      <td>800</td>\n",
       "      <td>2</td>\n",
       "      <td>2</td>\n",
       "    </tr>\n",
       "    <tr>\n",
       "      <th>569</th>\n",
       "      <td>197</td>\n",
       "      <td>2020-04-13</td>\n",
       "      <td>2020-04-14</td>\n",
       "      <td>2020-04-14</td>\n",
       "      <td>23.00</td>\n",
       "      <td>23.00</td>\n",
       "      <td>23.00</td>\n",
       "      <td>-12.25</td>\n",
       "      <td>400</td>\n",
       "      <td>1</td>\n",
       "      <td>2</td>\n",
       "    </tr>\n",
       "    <tr>\n",
       "      <th>570</th>\n",
       "      <td>198</td>\n",
       "      <td>2020-04-30</td>\n",
       "      <td>2020-05-01</td>\n",
       "      <td>2020-05-02</td>\n",
       "      <td>13.75</td>\n",
       "      <td>13.50</td>\n",
       "      <td>13.60</td>\n",
       "      <td>-9.40</td>\n",
       "      <td>4000</td>\n",
       "      <td>5</td>\n",
       "      <td>3</td>\n",
       "    </tr>\n",
       "  </tbody>\n",
       "</table>\n",
       "</div>"
      ],
      "text/plain": [
       "     index trade_date delivery_start delivery_end  high_price_$_mwh  \\\n",
       "566    194 2020-02-10     2020-02-11   2020-02-11             28.00   \n",
       "567    195 2020-03-10     2020-03-11   2020-03-11             31.50   \n",
       "568    196 2020-03-11     2020-03-12   2020-03-12             35.25   \n",
       "569    197 2020-04-13     2020-04-14   2020-04-14             23.00   \n",
       "570    198 2020-04-30     2020-05-01   2020-05-02             13.75   \n",
       "\n",
       "     low_price_$_mwh  wtd_avg_price_$_mwh  change  daily_vol_mwh  num_trades  \\\n",
       "566            28.00                28.00   -2.28            400           1   \n",
       "567            31.50                31.50    3.50            400           1   \n",
       "568            35.25                35.25    3.75            800           2   \n",
       "569            23.00                23.00  -12.25            400           1   \n",
       "570            13.50                13.60   -9.40           4000           5   \n",
       "\n",
       "     num_counterparties  \n",
       "566                   2  \n",
       "567                   2  \n",
       "568                   2  \n",
       "569                   2  \n",
       "570                   3  "
      ]
     },
     "execution_count": 8,
     "metadata": {},
     "output_type": "execute_result"
    }
   ],
   "source": [
    "np_df.tail()\n"
   ]
  },
  {
   "cell_type": "code",
   "execution_count": 10,
   "metadata": {},
   "outputs": [],
   "source": [
    "np_date_df = pd.DataFrame({'trade_date':pd.date_range(start='2014-01-01', end='2020-05-19')})\n",
    "np_df_14_now = pd.merge(np_date_df, np_df, on='trade_date', how='left')\n",
    "sp_date_df = pd.DataFrame({'trade_date':pd.date_range(start='2014-01-01', end='2020-05-19')})\n",
    "sp_df_14_now = pd.merge(sp_date_df, sp_df, on='trade_date', how='left')"
   ]
  },
  {
   "cell_type": "code",
   "execution_count": 15,
   "metadata": {},
   "outputs": [
    {
     "data": {
      "text/plain": [
       "Text(0.5, 1.0, 'NP Price - 2014 to Present')"
      ]
     },
     "execution_count": 15,
     "metadata": {},
     "output_type": "execute_result"
    },
    {
     "data": {
      "image/png": "[encoded data removed]",
      "text/plain": [
       "<Figure size 432x288 with 1 Axes>"
      ]
     },
     "metadata": {},
     "output_type": "display_data"
    }
   ],
   "source": [
    "sns.heatmap(np_df_14_now.isnull(), yticklabels=False, cbar=False, cmap='viridis')\n",
    "plt.title('NP Price - 2014 to Present', fontsize=16)"
   ]
  },
  {
   "cell_type": "code",
   "execution_count": 22,
   "metadata": {},
   "outputs": [
    {
     "data": {
      "text/html": [
       "<div>\n",
       "<style scoped>\n",
       "    .dataframe tbody tr th:only-of-type {\n",
       "        vertical-align: middle;\n",
       "    }\n",
       "\n",
       "    .dataframe tbody tr th {\n",
       "        vertical-align: top;\n",
       "    }\n",
       "\n",
       "    .dataframe thead th {\n",
       "        text-align: right;\n",
       "    }\n",
       "</style>\n",
       "<table border=\"1\" class=\"dataframe\">\n",
       "  <thead>\n",
       "    <tr style=\"text-align: right;\">\n",
       "      <th></th>\n",
       "      <th>trade_date</th>\n",
       "      <th>index</th>\n",
       "      <th>delivery_start</th>\n",
       "      <th>delivery_end</th>\n",
       "      <th>high_price_$_mwh</th>\n",
       "      <th>low_price_$_mwh</th>\n",
       "      <th>wtd_avg_price_$_mwh</th>\n",
       "      <th>change</th>\n",
       "      <th>daily_vol_mwh</th>\n",
       "      <th>num_trades</th>\n",
       "      <th>num_counterparties</th>\n",
       "    </tr>\n",
       "  </thead>\n",
       "  <tbody>\n",
       "    <tr>\n",
       "      <th>0</th>\n",
       "      <td>2014-01-01</td>\n",
       "      <td>NaN</td>\n",
       "      <td>NaT</td>\n",
       "      <td>NaT</td>\n",
       "      <td>NaN</td>\n",
       "      <td>NaN</td>\n",
       "      <td>NaN</td>\n",
       "      <td>NaN</td>\n",
       "      <td>NaN</td>\n",
       "      <td>NaN</td>\n",
       "      <td>NaN</td>\n",
       "    </tr>\n",
       "    <tr>\n",
       "      <th>1</th>\n",
       "      <td>2014-01-02</td>\n",
       "      <td>NaN</td>\n",
       "      <td>NaT</td>\n",
       "      <td>NaT</td>\n",
       "      <td>NaN</td>\n",
       "      <td>NaN</td>\n",
       "      <td>NaN</td>\n",
       "      <td>NaN</td>\n",
       "      <td>NaN</td>\n",
       "      <td>NaN</td>\n",
       "      <td>NaN</td>\n",
       "    </tr>\n",
       "    <tr>\n",
       "      <th>2</th>\n",
       "      <td>2014-01-03</td>\n",
       "      <td>NaN</td>\n",
       "      <td>NaT</td>\n",
       "      <td>NaT</td>\n",
       "      <td>NaN</td>\n",
       "      <td>NaN</td>\n",
       "      <td>NaN</td>\n",
       "      <td>NaN</td>\n",
       "      <td>NaN</td>\n",
       "      <td>NaN</td>\n",
       "      <td>NaN</td>\n",
       "    </tr>\n",
       "    <tr>\n",
       "      <th>3</th>\n",
       "      <td>2014-01-04</td>\n",
       "      <td>NaN</td>\n",
       "      <td>NaT</td>\n",
       "      <td>NaT</td>\n",
       "      <td>NaN</td>\n",
       "      <td>NaN</td>\n",
       "      <td>NaN</td>\n",
       "      <td>NaN</td>\n",
       "      <td>NaN</td>\n",
       "      <td>NaN</td>\n",
       "      <td>NaN</td>\n",
       "    </tr>\n",
       "    <tr>\n",
       "      <th>4</th>\n",
       "      <td>2014-01-05</td>\n",
       "      <td>NaN</td>\n",
       "      <td>NaT</td>\n",
       "      <td>NaT</td>\n",
       "      <td>NaN</td>\n",
       "      <td>NaN</td>\n",
       "      <td>NaN</td>\n",
       "      <td>NaN</td>\n",
       "      <td>NaN</td>\n",
       "      <td>NaN</td>\n",
       "      <td>NaN</td>\n",
       "    </tr>\n",
       "  </tbody>\n",
       "</table>\n",
       "</div>"
      ],
      "text/plain": [
       "  trade_date  index delivery_start delivery_end  high_price_$_mwh  \\\n",
       "0 2014-01-01    NaN            NaT          NaT               NaN   \n",
       "1 2014-01-02    NaN            NaT          NaT               NaN   \n",
       "2 2014-01-03    NaN            NaT          NaT               NaN   \n",
       "3 2014-01-04    NaN            NaT          NaT               NaN   \n",
       "4 2014-01-05    NaN            NaT          NaT               NaN   \n",
       "\n",
       "   low_price_$_mwh  wtd_avg_price_$_mwh  change  daily_vol_mwh  num_trades  \\\n",
       "0              NaN                  NaN     NaN            NaN         NaN   \n",
       "1              NaN                  NaN     NaN            NaN         NaN   \n",
       "2              NaN                  NaN     NaN            NaN         NaN   \n",
       "3              NaN                  NaN     NaN            NaN         NaN   \n",
       "4              NaN                  NaN     NaN            NaN         NaN   \n",
       "\n",
       "   num_counterparties  \n",
       "0                 NaN  \n",
       "1                 NaN  \n",
       "2                 NaN  \n",
       "3                 NaN  \n",
       "4                 NaN  "
      ]
     },
     "execution_count": 22,
     "metadata": {},
     "output_type": "execute_result"
    }
   ],
   "source": [
    "np_df_14_now.head()"
   ]
  },
  {
   "cell_type": "code",
   "execution_count": 14,
   "metadata": {},
   "outputs": [
    {
     "data": {
      "text/plain": [
       "Text(0.5, 1.0, 'SP Price - 2014 to Present')"
      ]
     },
     "execution_count": 14,
     "metadata": {},
     "output_type": "execute_result"
    },
    {
     "data": {
      "image/png": "[encoded data removed]",
      "text/plain": [
       "<Figure size 432x288 with 1 Axes>"
      ]
     },
     "metadata": {},
     "output_type": "display_data"
    }
   ],
   "source": [
    "sns.heatmap(sp_df_14_now.isnull(), yticklabels=False, cbar=False, cmap='viridis')\n",
    "plt.title('SP Price - 2014 to Present', fontsize=16)"
   ]
  },
  {
   "cell_type": "markdown",
   "metadata": {},
   "source": [
    "---\n",
    "## Create Master Dataset for CAISO NP-15 and SP-15"
   ]
  },
  {
   "cell_type": "code",
   "execution_count": 17,
   "metadata": {},
   "outputs": [],
   "source": [
    "ice_np_01_13 = pd.read_excel('data/NP 15 Hub.xls', names=ice_cols)\n",
    "ice_sp1_01_13 = pd.read_excel('data/SP 15_1 Hub.xls', names=ice_cols)\n",
    "ice_sp2_01_13 = pd.read_excel('data/SP 15_2 Hub.xls', names=ice_cols)\n",
    "\n",
    "ice_np_01_13.drop('price_hub', axis=1, inplace=True)\n",
    "ice_sp1_01_13.drop('price_hub', axis=1, inplace=True)\n",
    "ice_sp2_01_13.drop('price_hub', axis=1, inplace=True)\n",
    "\n",
    "calendar_01_now = pd.DataFrame({'trade_date':pd.date_range(start='2001-01-01', end='2020-05-19')})"
   ]
  },
  {
   "cell_type": "code",
   "execution_count": 104,
   "metadata": {},
   "outputs": [],
   "source": [
    "# Create master NP dataset from 1/1/01 to 5/19/20.\n",
    "# Remove duplicate values\n",
    "np_concat = pd.concat([np_df_01_13, np_df_14_now], axis=0, sort=False)\n",
    "np_master = pd.merge(calendar_01_now, np_concat, how='left', on='trade_date').reset_index()\n",
    "np_duplicate = np_master.duplicated(subset='trade_date', keep='first')\n",
    "np_dup_idx = np_duplicate[np_duplicate==True].index.values.tolist()\n",
    "np_master.drop(index=np_dup_idx, inplace=True)\n",
    "np_master.drop(['level_0', 'index'], axis=1, inplace=True)"
   ]
  },
  {
   "cell_type": "code",
   "execution_count": 105,
   "metadata": {},
   "outputs": [
    {
     "name": "stdout",
     "output_type": "stream",
     "text": [
      "<class 'pandas.core.frame.DataFrame'>\n",
      "Int64Index: 7079 entries, 0 to 7094\n",
      "Data columns (total 10 columns):\n",
      "trade_date             7079 non-null datetime64[ns]\n",
      "delivery_start         1565 non-null datetime64[ns]\n",
      "delivery_end           1565 non-null datetime64[ns]\n",
      "high_price_$_mwh       1565 non-null float64\n",
      "low_price_$_mwh        1565 non-null float64\n",
      "wtd_avg_price_$_mwh    1565 non-null float64\n",
      "change                 1564 non-null float64\n",
      "daily_vol_mwh          1565 non-null float64\n",
      "num_trades             1565 non-null float64\n",
      "num_counterparties     1565 non-null float64\n",
      "dtypes: datetime64[ns](3), float64(7)\n",
      "memory usage: 608.4 KB\n"
     ]
    }
   ],
   "source": [
    "# Remove trade_date duplicates.\n",
    "\n",
    "np_master.info()"
   ]
  },
  {
   "cell_type": "code",
   "execution_count": null,
   "metadata": {},
   "outputs": [],
   "source": [
    "plt.figure(figsize=(8,5))\n",
    "sns.heatmap(np_master.isnull(), yticklabels=False, cbar=False, cmap='viridis')\n",
    "plt.title('CAISO NP-15 - 1/1/01 to 5/19/20', fontsize=16, fontweight='bold');"
   ]
  },
  {
   "cell_type": "code",
   "execution_count": 107,
   "metadata": {},
   "outputs": [],
   "source": [
    "# Create master SP dataset from 1/1/01 to 5/19/20.\n",
    "# Remove duplicate values\n",
    "sp_concat = pd.concat([ice_sp1_01_13, ice_sp2_01_13, sp_df_14_now], axis=0, sort=False)\n",
    "sp_master = pd.merge(calendar_01_now, sp_concat, how='left', on='trade_date').reset_index()\n",
    "sp_duplicate = sp_master.duplicated(subset='trade_date', keep='first')\n",
    "sp_dup_idx = sp_duplicate[sp_duplicate==True].index.values.tolist()\n",
    "sp_master.drop(index=sp_dup_idx, inplace=True)\n",
    "sp_master.drop(['level_0', 'index'], axis=1, inplace=True)"
   ]
  },
  {
   "cell_type": "code",
   "execution_count": 108,
   "metadata": {},
   "outputs": [
    {
     "name": "stdout",
     "output_type": "stream",
     "text": [
      "<class 'pandas.core.frame.DataFrame'>\n",
      "Int64Index: 7079 entries, 0 to 7120\n",
      "Data columns (total 10 columns):\n",
      "trade_date             7079 non-null datetime64[ns]\n",
      "delivery_start         4603 non-null datetime64[ns]\n",
      "delivery_end           4603 non-null datetime64[ns]\n",
      "high_price_$_mwh       4603 non-null float64\n",
      "low_price_$_mwh        4603 non-null float64\n",
      "wtd_avg_price_$_mwh    4603 non-null float64\n",
      "change                 4602 non-null object\n",
      "daily_vol_mwh          4603 non-null float64\n",
      "num_trades             4603 non-null float64\n",
      "num_counterparties     4603 non-null float64\n",
      "dtypes: datetime64[ns](3), float64(6), object(1)\n",
      "memory usage: 608.4+ KB\n"
     ]
    }
   ],
   "source": [
    "sp_master.info()"
   ]
  },
  {
   "cell_type": "code",
   "execution_count": 110,
   "metadata": {},
   "outputs": [
    {
     "data": {
      "image/png": "[encoded data removed]",
      "text/plain": [
       "<Figure size 576x360 with 1 Axes>"
      ]
     },
     "metadata": {},
     "output_type": "display_data"
    }
   ],
   "source": [
    "plt.figure(figsize=(8,5))\n",
    "sns.heatmap(sp_master.isnull(), yticklabels=False, cbar=False, cmap='viridis')\n",
    "plt.title('CAISO SP-15 - 1/1/01 to 5/19/20', fontsize=16, fontweight='bold');"
   ]
  },
  {
   "cell_type": "markdown",
   "metadata": {},
   "source": [
    "---\n",
    "## Natural Gas"
   ]
  },
  {
   "cell_type": "code",
   "execution_count": 111,
   "metadata": {},
   "outputs": [
    {
     "data": {
      "text/html": [
       "<div>\n",
       "<style scoped>\n",
       "    .dataframe tbody tr th:only-of-type {\n",
       "        vertical-align: middle;\n",
       "    }\n",
       "\n",
       "    .dataframe tbody tr th {\n",
       "        vertical-align: top;\n",
       "    }\n",
       "\n",
       "    .dataframe thead th {\n",
       "        text-align: right;\n",
       "    }\n",
       "</style>\n",
       "<table border=\"1\" class=\"dataframe\">\n",
       "  <thead>\n",
       "    <tr style=\"text-align: right;\">\n",
       "      <th></th>\n",
       "      <th>trade_date</th>\n",
       "      <th>spot_price</th>\n",
       "    </tr>\n",
       "  </thead>\n",
       "  <tbody>\n",
       "    <tr>\n",
       "      <th>0</th>\n",
       "      <td>2001-01-01</td>\n",
       "      <td>NaN</td>\n",
       "    </tr>\n",
       "    <tr>\n",
       "      <th>1</th>\n",
       "      <td>2001-01-02</td>\n",
       "      <td>9.97</td>\n",
       "    </tr>\n",
       "    <tr>\n",
       "      <th>2</th>\n",
       "      <td>2001-01-03</td>\n",
       "      <td>9.71</td>\n",
       "    </tr>\n",
       "    <tr>\n",
       "      <th>3</th>\n",
       "      <td>2001-01-04</td>\n",
       "      <td>9.45</td>\n",
       "    </tr>\n",
       "    <tr>\n",
       "      <th>4</th>\n",
       "      <td>2001-01-05</td>\n",
       "      <td>10.03</td>\n",
       "    </tr>\n",
       "  </tbody>\n",
       "</table>\n",
       "</div>"
      ],
      "text/plain": [
       "  trade_date  spot_price\n",
       "0 2001-01-01         NaN\n",
       "1 2001-01-02        9.97\n",
       "2 2001-01-03        9.71\n",
       "3 2001-01-04        9.45\n",
       "4 2001-01-05       10.03"
      ]
     },
     "execution_count": 111,
     "metadata": {},
     "output_type": "execute_result"
    }
   ],
   "source": [
    "# Henry Hub Natural gas Spot Price (USD per Million Btu)\n",
    "natgas = pd.read_excel('data/nat_gas.xls',sheet_name='Data 1', names=['trade_date', 'spot_price'], skiprows=2)\n",
    "natgas_sub = natgas[natgas['trade_date'] > '2000-12-31'].copy().reset_index()\n",
    "calendar_01_now = pd.DataFrame({'trade_date':pd.date_range(start='2001-01-01', end='2020-05-19')})\n",
    "natgas_master = pd.merge(calendar_01_now, natgas, how='left', on='trade_date')\n",
    "natgas_master.head()"
   ]
  },
  {
   "cell_type": "code",
   "execution_count": 112,
   "metadata": {},
   "outputs": [
    {
     "name": "stdout",
     "output_type": "stream",
     "text": [
      "<class 'pandas.core.frame.DataFrame'>\n",
      "Int64Index: 7079 entries, 0 to 7078\n",
      "Data columns (total 2 columns):\n",
      "trade_date    7079 non-null datetime64[ns]\n",
      "spot_price    4881 non-null float64\n",
      "dtypes: datetime64[ns](1), float64(1)\n",
      "memory usage: 165.9 KB\n"
     ]
    }
   ],
   "source": [
    "natgas_master.info()"
   ]
  },
  {
   "cell_type": "code",
   "execution_count": 70,
   "metadata": {},
   "outputs": [
    {
     "data": {
      "text/html": [
       "<div>\n",
       "<style scoped>\n",
       "    .dataframe tbody tr th:only-of-type {\n",
       "        vertical-align: middle;\n",
       "    }\n",
       "\n",
       "    .dataframe tbody tr th {\n",
       "        vertical-align: top;\n",
       "    }\n",
       "\n",
       "    .dataframe thead th {\n",
       "        text-align: right;\n",
       "    }\n",
       "</style>\n",
       "<table border=\"1\" class=\"dataframe\">\n",
       "  <thead>\n",
       "    <tr style=\"text-align: right;\">\n",
       "      <th></th>\n",
       "      <th>index</th>\n",
       "      <th>trade_date</th>\n",
       "      <th>spot_price</th>\n",
       "    </tr>\n",
       "  </thead>\n",
       "  <tbody>\n",
       "    <tr>\n",
       "      <th>4883</th>\n",
       "      <td>5882</td>\n",
       "      <td>2020-05-21</td>\n",
       "      <td>1.75</td>\n",
       "    </tr>\n",
       "    <tr>\n",
       "      <th>4884</th>\n",
       "      <td>5883</td>\n",
       "      <td>2020-05-22</td>\n",
       "      <td>1.70</td>\n",
       "    </tr>\n",
       "    <tr>\n",
       "      <th>4885</th>\n",
       "      <td>5884</td>\n",
       "      <td>2020-05-26</td>\n",
       "      <td>1.79</td>\n",
       "    </tr>\n",
       "    <tr>\n",
       "      <th>4886</th>\n",
       "      <td>5885</td>\n",
       "      <td>2020-05-27</td>\n",
       "      <td>1.78</td>\n",
       "    </tr>\n",
       "    <tr>\n",
       "      <th>4887</th>\n",
       "      <td>5886</td>\n",
       "      <td>2020-05-28</td>\n",
       "      <td>1.79</td>\n",
       "    </tr>\n",
       "  </tbody>\n",
       "</table>\n",
       "</div>"
      ],
      "text/plain": [
       "      index trade_date  spot_price\n",
       "4883   5882 2020-05-21        1.75\n",
       "4884   5883 2020-05-22        1.70\n",
       "4885   5884 2020-05-26        1.79\n",
       "4886   5885 2020-05-27        1.78\n",
       "4887   5886 2020-05-28        1.79"
      ]
     },
     "execution_count": 70,
     "metadata": {},
     "output_type": "execute_result"
    }
   ],
   "source": [
    "natgas_sub.tail()"
   ]
  },
  {
   "cell_type": "code",
   "execution_count": 67,
   "metadata": {},
   "outputs": [],
   "source": [
    "natgas_sub_2 = natgas[natgas['trade_date'] > '2000-12-31'].copy().reset_index()"
   ]
  },
  {
   "cell_type": "markdown",
   "metadata": {},
   "source": [
    "---\n",
    "## pyiso and WattTime"
   ]
  },
  {
   "cell_type": "code",
   "execution_count": 4,
   "metadata": {},
   "outputs": [],
   "source": [
    "hourly_calendar = pd.date_range(start='2017-03-01', end='2020-05-31', freq='h')\n",
    "datetime_cap = datetime.strptime('2020-05-31 06:00:00', '%Y-%m-%d %H:%M:%S')"
   ]
  },
  {
   "cell_type": "code",
   "execution_count": 5,
   "metadata": {},
   "outputs": [],
   "source": [
    "oasis_start = pd.date_range(start='2019-01-15', end='2020-05-31', freq='14D')\n",
    "oasis_end = pd.date_range(start='2019-01-30', end='2020-06-05', freq='14D')"
   ]
  },
  {
   "cell_type": "code",
   "execution_count": 6,
   "metadata": {},
   "outputs": [],
   "source": [
    "caiso = client_factory('CAISO', timeout_seconds=60)"
   ]
  },
  {
   "cell_type": "code",
   "execution_count": 251,
   "metadata": {},
   "outputs": [],
   "source": [
    "# #Use pyiso to scrape/parse OASIS generation and load data for the last 39 months.\n",
    "\n",
    "# caiso_gen_dict = {}\n",
    "# caiso_load_dict = {}\n",
    "# for start, end in zip(oasis_start, oasis_end):\n",
    "#     caiso_gen_dict[start] = caiso.get_generation(start_at=start, end_at=end)\n",
    "#     caiso_load_dict[start] = caiso.get_load(start_at=start, end_at=end)\n"
   ]
  },
  {
   "cell_type": "markdown",
   "metadata": {},
   "source": [
    "### CAISO Load Data"
   ]
  },
  {
   "cell_type": "code",
   "execution_count": 265,
   "metadata": {},
   "outputs": [],
   "source": [
    "# caiso_load_df = caiso_load_df[caiso_load_df['timestamp'] <= datetime_cap].copy()\n",
    "# caiso_load_df['date'] = pd.to_datetime(caiso_load_df['timestamp']).dt.date\n",
    "# caiso_load_df['time'] = pd.to_datetime(caiso_load_df['timestamp']).dt.time\n",
    "# caiso_load_df['hour_start'] = pd.to_datetime(caiso_load_df['timestamp']).dt.hour\n",
    "\n",
    "\n",
    "caiso_load_df = pd.DataFrame(columns=['timestamp', 'freq', 'market', 'ba_name', 'load_MW'])\n",
    "for date in caiso_load_dict.keys():\n",
    "    load_temp_df = pd.DataFrame(caiso_load_dict[date])\n",
    "    caiso_load_df = pd.concat([caiso_load_df, load_temp_df], axis=0, sort=False)\n",
    "\n",
    "caiso_load_df.sort_values(by='timestamp', inplace=True)\n",
    "caiso_load_df = caiso_load_df.reset_index()\n",
    "caiso_load_df.drop(['index', 'ba_name'], axis=1, inplace=True)\n",
    "\n",
    "caiso_load_df['date_hour_start'] = caiso_load_df['timestamp'].apply(lambda x: x.replace(microsecond=0,second=0, minute=0))\n",
    "load_pivot = caiso_load_df.pivot_table(index='date_hour_start', values='load_MW', aggfunc='sum').reset_index()\n",
    "load_pivot['date_hour_start'] = load_pivot['date_hour_start'].apply(lambda x: x.replace(tzinfo=None))\n",
    "\n",
    "# load_pivot.to_csv('data/caiso_load_jan_19_may_20.csv')"
   ]
  },
  {
   "cell_type": "code",
   "execution_count": 266,
   "metadata": {},
   "outputs": [
    {
     "data": {
      "text/plain": [
       "<matplotlib.axes._subplots.AxesSubplot at 0x7fea004090f0>"
      ]
     },
     "execution_count": 266,
     "metadata": {},
     "output_type": "execute_result"
    },
    {
     "data": {
      "image/png": "[encoded data removed]",
      "text/plain": [
       "<Figure size 432x288 with 1 Axes>"
      ]
     },
     "metadata": {},
     "output_type": "display_data"
    }
   ],
   "source": [
    "test_merge = pd.merge(all_lmp_19_20_clean, load_pivot, how='left', left_on='INTERVAL_START_PT', right_on='date_hour_start')\n",
    "sns.heatmap(test_merge.isnull(), yticklabels=False, cbar=False, cmap='viridis')"
   ]
  },
  {
   "cell_type": "code",
   "execution_count": 259,
   "metadata": {},
   "outputs": [
    {
     "name": "stdout",
     "output_type": "stream",
     "text": [
      "length: 11519\n",
      "Unique: 11519\n"
     ]
    }
   ],
   "source": [
    "print(f\"length: {len(test_merge)}\")\n",
    "print(f\"Unique: {len(test_merge['INTERVAL_START_PT'].unique())}\")"
   ]
  },
  {
   "cell_type": "markdown",
   "metadata": {},
   "source": [
    "### CAISO Generation Data"
   ]
  },
  {
   "cell_type": "code",
   "execution_count": 284,
   "metadata": {},
   "outputs": [],
   "source": [
    "# caiso_gen_df = caiso_gen_df[caiso_gen_df['timestamp'] <= '2020-05-31 06:00:00'].copy()\n",
    "# caiso_gen_df['date'] = pd.to_datetime(caiso_gen_df['timestamp']).dt.date\n",
    "# caiso_gen_df['time'] = pd.to_datetime(caiso_gen_df['timestamp']).dt.time\n",
    "# caiso_gen_df['hour_start'] = caiso_gen_df['time'].hour\n",
    "\n",
    "caiso_gen_df = pd.DataFrame(columns=['ba_name', 'freq', 'fuel_name', 'gen_MW', 'market', 'timestamp'])\n",
    "for date in caiso_gen_dict.keys():\n",
    "    gen_temp_df = pd.DataFrame(caiso_gen_dict[date])\n",
    "    caiso_gen_df = pd.concat([caiso_gen_df, gen_temp_df], axis=0)\n",
    "\n",
    "caiso_gen_df.sort_values(by='timestamp', inplace=True)\n",
    "caiso_gen_df = caiso_gen_df.reset_index()\n",
    "caiso_gen_df.drop(['index', 'ba_name'], axis=1, inplace=True)\n",
    "\n",
    "caiso_gen_df['date_hour_start'] = caiso_gen_df['timestamp'].apply(lambda x: x.replace(microsecond=0,second=0, minute=0))\n",
    "gen_pivot = caiso_gen_df.pivot_table(index='date_hour_start', columns='fuel_name', values='gen_MW', aggfunc='sum').reset_index()\n",
    "gen_pivot['date_hour_start'] = gen_pivot['date_hour_start'].apply(lambda x: x.replace(tzinfo=None))\n",
    "gen_pivot['total_mw'] = gen_pivot['other'] + gen_pivot['solar'] + gen_pivot['wind']\n",
    "gen_pivot.sort_values(by='date_hour_start', inplace=True)\n",
    "\n",
    "# gen_pivot.to_csv('data/caiso_gen_jan_19_may_20.csv')"
   ]
  },
  {
   "cell_type": "code",
   "execution_count": 281,
   "metadata": {},
   "outputs": [
    {
     "data": {
      "text/html": [
       "<div>\n",
       "<style scoped>\n",
       "    .dataframe tbody tr th:only-of-type {\n",
       "        vertical-align: middle;\n",
       "    }\n",
       "\n",
       "    .dataframe tbody tr th {\n",
       "        vertical-align: top;\n",
       "    }\n",
       "\n",
       "    .dataframe thead th {\n",
       "        text-align: right;\n",
       "    }\n",
       "</style>\n",
       "<table border=\"1\" class=\"dataframe\">\n",
       "  <thead>\n",
       "    <tr style=\"text-align: right;\">\n",
       "      <th>fuel_name</th>\n",
       "      <th>date_hour_start</th>\n",
       "      <th>other</th>\n",
       "      <th>solar</th>\n",
       "      <th>wind</th>\n",
       "      <th>total_mw</th>\n",
       "    </tr>\n",
       "  </thead>\n",
       "  <tbody>\n",
       "    <tr>\n",
       "      <th>0</th>\n",
       "      <td>2019-01-15 08:00:00</td>\n",
       "      <td>13162.05</td>\n",
       "      <td>0.00</td>\n",
       "      <td>403.25</td>\n",
       "      <td>13565.30</td>\n",
       "    </tr>\n",
       "    <tr>\n",
       "      <th>1</th>\n",
       "      <td>2019-01-15 09:00:00</td>\n",
       "      <td>13105.53</td>\n",
       "      <td>0.00</td>\n",
       "      <td>397.91</td>\n",
       "      <td>13503.44</td>\n",
       "    </tr>\n",
       "    <tr>\n",
       "      <th>2</th>\n",
       "      <td>2019-01-15 10:00:00</td>\n",
       "      <td>12768.65</td>\n",
       "      <td>0.00</td>\n",
       "      <td>416.12</td>\n",
       "      <td>13184.77</td>\n",
       "    </tr>\n",
       "    <tr>\n",
       "      <th>3</th>\n",
       "      <td>2019-01-15 11:00:00</td>\n",
       "      <td>13072.09</td>\n",
       "      <td>0.00</td>\n",
       "      <td>453.37</td>\n",
       "      <td>13525.46</td>\n",
       "    </tr>\n",
       "    <tr>\n",
       "      <th>4</th>\n",
       "      <td>2019-01-15 12:00:00</td>\n",
       "      <td>13275.75</td>\n",
       "      <td>0.00</td>\n",
       "      <td>534.06</td>\n",
       "      <td>13809.81</td>\n",
       "    </tr>\n",
       "    <tr>\n",
       "      <th>5</th>\n",
       "      <td>2019-01-15 13:00:00</td>\n",
       "      <td>14006.58</td>\n",
       "      <td>0.33</td>\n",
       "      <td>616.17</td>\n",
       "      <td>14623.08</td>\n",
       "    </tr>\n",
       "    <tr>\n",
       "      <th>6</th>\n",
       "      <td>2019-01-15 14:00:00</td>\n",
       "      <td>15889.57</td>\n",
       "      <td>3.26</td>\n",
       "      <td>700.69</td>\n",
       "      <td>16593.52</td>\n",
       "    </tr>\n",
       "    <tr>\n",
       "      <th>7</th>\n",
       "      <td>2019-01-15 15:00:00</td>\n",
       "      <td>16236.94</td>\n",
       "      <td>278.82</td>\n",
       "      <td>762.83</td>\n",
       "      <td>17278.59</td>\n",
       "    </tr>\n",
       "    <tr>\n",
       "      <th>8</th>\n",
       "      <td>2019-01-15 16:00:00</td>\n",
       "      <td>15956.22</td>\n",
       "      <td>1091.81</td>\n",
       "      <td>812.61</td>\n",
       "      <td>17860.64</td>\n",
       "    </tr>\n",
       "    <tr>\n",
       "      <th>9</th>\n",
       "      <td>2019-01-15 17:00:00</td>\n",
       "      <td>15470.57</td>\n",
       "      <td>1794.05</td>\n",
       "      <td>894.23</td>\n",
       "      <td>18158.85</td>\n",
       "    </tr>\n",
       "    <tr>\n",
       "      <th>10</th>\n",
       "      <td>2019-01-15 18:00:00</td>\n",
       "      <td>14919.82</td>\n",
       "      <td>2294.04</td>\n",
       "      <td>975.99</td>\n",
       "      <td>18189.85</td>\n",
       "    </tr>\n",
       "    <tr>\n",
       "      <th>11</th>\n",
       "      <td>2019-01-15 19:00:00</td>\n",
       "      <td>14026.30</td>\n",
       "      <td>2739.36</td>\n",
       "      <td>1041.90</td>\n",
       "      <td>17807.56</td>\n",
       "    </tr>\n",
       "    <tr>\n",
       "      <th>12</th>\n",
       "      <td>2019-01-15 20:00:00</td>\n",
       "      <td>13919.07</td>\n",
       "      <td>2739.66</td>\n",
       "      <td>1079.66</td>\n",
       "      <td>17738.39</td>\n",
       "    </tr>\n",
       "    <tr>\n",
       "      <th>13</th>\n",
       "      <td>2019-01-15 21:00:00</td>\n",
       "      <td>13959.94</td>\n",
       "      <td>2588.07</td>\n",
       "      <td>1109.35</td>\n",
       "      <td>17657.36</td>\n",
       "    </tr>\n",
       "    <tr>\n",
       "      <th>14</th>\n",
       "      <td>2019-01-15 22:00:00</td>\n",
       "      <td>14159.79</td>\n",
       "      <td>2272.50</td>\n",
       "      <td>1142.16</td>\n",
       "      <td>17574.45</td>\n",
       "    </tr>\n",
       "    <tr>\n",
       "      <th>15</th>\n",
       "      <td>2019-01-15 23:00:00</td>\n",
       "      <td>15012.68</td>\n",
       "      <td>1384.61</td>\n",
       "      <td>1162.27</td>\n",
       "      <td>17559.56</td>\n",
       "    </tr>\n",
       "    <tr>\n",
       "      <th>16</th>\n",
       "      <td>2019-01-16 00:00:00</td>\n",
       "      <td>16727.33</td>\n",
       "      <td>454.01</td>\n",
       "      <td>1140.29</td>\n",
       "      <td>18321.63</td>\n",
       "    </tr>\n",
       "    <tr>\n",
       "      <th>17</th>\n",
       "      <td>2019-01-16 01:00:00</td>\n",
       "      <td>18996.80</td>\n",
       "      <td>14.02</td>\n",
       "      <td>1080.74</td>\n",
       "      <td>20091.56</td>\n",
       "    </tr>\n",
       "    <tr>\n",
       "      <th>18</th>\n",
       "      <td>2019-01-16 02:00:00</td>\n",
       "      <td>18853.54</td>\n",
       "      <td>0.12</td>\n",
       "      <td>1025.20</td>\n",
       "      <td>19878.86</td>\n",
       "    </tr>\n",
       "    <tr>\n",
       "      <th>19</th>\n",
       "      <td>2019-01-16 03:00:00</td>\n",
       "      <td>18159.16</td>\n",
       "      <td>0.00</td>\n",
       "      <td>957.86</td>\n",
       "      <td>19117.02</td>\n",
       "    </tr>\n",
       "  </tbody>\n",
       "</table>\n",
       "</div>"
      ],
      "text/plain": [
       "fuel_name     date_hour_start     other    solar     wind  total_mw\n",
       "0         2019-01-15 08:00:00  13162.05     0.00   403.25  13565.30\n",
       "1         2019-01-15 09:00:00  13105.53     0.00   397.91  13503.44\n",
       "2         2019-01-15 10:00:00  12768.65     0.00   416.12  13184.77\n",
       "3         2019-01-15 11:00:00  13072.09     0.00   453.37  13525.46\n",
       "4         2019-01-15 12:00:00  13275.75     0.00   534.06  13809.81\n",
       "5         2019-01-15 13:00:00  14006.58     0.33   616.17  14623.08\n",
       "6         2019-01-15 14:00:00  15889.57     3.26   700.69  16593.52\n",
       "7         2019-01-15 15:00:00  16236.94   278.82   762.83  17278.59\n",
       "8         2019-01-15 16:00:00  15956.22  1091.81   812.61  17860.64\n",
       "9         2019-01-15 17:00:00  15470.57  1794.05   894.23  18158.85\n",
       "10        2019-01-15 18:00:00  14919.82  2294.04   975.99  18189.85\n",
       "11        2019-01-15 19:00:00  14026.30  2739.36  1041.90  17807.56\n",
       "12        2019-01-15 20:00:00  13919.07  2739.66  1079.66  17738.39\n",
       "13        2019-01-15 21:00:00  13959.94  2588.07  1109.35  17657.36\n",
       "14        2019-01-15 22:00:00  14159.79  2272.50  1142.16  17574.45\n",
       "15        2019-01-15 23:00:00  15012.68  1384.61  1162.27  17559.56\n",
       "16        2019-01-16 00:00:00  16727.33   454.01  1140.29  18321.63\n",
       "17        2019-01-16 01:00:00  18996.80    14.02  1080.74  20091.56\n",
       "18        2019-01-16 02:00:00  18853.54     0.12  1025.20  19878.86\n",
       "19        2019-01-16 03:00:00  18159.16     0.00   957.86  19117.02"
      ]
     },
     "execution_count": 281,
     "metadata": {},
     "output_type": "execute_result"
    }
   ],
   "source": [
    "gen_pivot.head(20)"
   ]
  },
  {
   "cell_type": "code",
   "execution_count": 282,
   "metadata": {},
   "outputs": [
    {
     "data": {
      "image/png": "[encoded data removed]",
      "text/plain": [
       "<Figure size 432x288 with 1 Axes>"
      ]
     },
     "metadata": {},
     "output_type": "display_data"
    }
   ],
   "source": [
    "test_merge2 = pd.merge(all_lmp_19_20_clean, gen_pivot, how='left', left_on='INTERVAL_START_PT', right_on='date_hour_start')\n",
    "sns.heatmap(test_merge2.isnull(), yticklabels=False, cbar=False, cmap='viridis')\n",
    "plt.title('Reconcile - Generation and LMP', fontsize=16);"
   ]
  },
  {
   "cell_type": "code",
   "execution_count": 283,
   "metadata": {},
   "outputs": [
    {
     "name": "stdout",
     "output_type": "stream",
     "text": [
      "length: 11519\n",
      "Unique: 11519\n"
     ]
    }
   ],
   "source": [
    "print(f\"length: {len(test_merge2)}\")\n",
    "print(f\"Unique: {len(test_merge2['INTERVAL_START_PT'].unique())}\")"
   ]
  },
  {
   "cell_type": "markdown",
   "metadata": {},
   "source": [
    "### CAISO Net Export-Import\n",
    "\n",
    "Export less import.\n",
    "Use as check."
   ]
  },
  {
   "cell_type": "code",
   "execution_count": null,
   "metadata": {},
   "outputs": [],
   "source": [
    "# date_obj = datetime.strptime('2017-04-01', '%Y-%m-%d')\n",
    "# caiso_ex_im_dict[date_obj][0]"
   ]
  },
  {
   "cell_type": "code",
   "execution_count": 7,
   "metadata": {},
   "outputs": [],
   "source": [
    "caiso_ex_im_dict = {}\n",
    "for start, end in zip(oasis_start, oasis_end):\n",
    "     caiso_ex_im_dict[start] = caiso.get_trade(start_at=start, end_at=end)"
   ]
  },
  {
   "cell_type": "code",
   "execution_count": 23,
   "metadata": {},
   "outputs": [],
   "source": [
    "caiso_net_ex_df = pd.DataFrame(columns=['net_exp_MW', 'timestamp', 'freq', 'market', 'ba_name'])\n",
    "for date in caiso_ex_im_dict.keys():\n",
    "    net_ex_temp_df = pd.DataFrame(caiso_ex_im_dict[date])\n",
    "    caiso_net_ex_df = pd.concat([caiso_net_ex_df, net_ex_temp_df], axis=0, sort=False)\n",
    "\n",
    "caiso_net_ex_df.sort_values(by='timestamp', inplace=True, ascending=True)\n",
    "caiso_net_ex_df = caiso_net_ex_df.reset_index()\n",
    "caiso_net_ex_df.drop(['index', 'ba_name'], axis=1, inplace=True)\n",
    "\n",
    "caiso_net_ex_df['date_hour_start'] = caiso_net_ex_df['timestamp'].apply(lambda x: x.replace(microsecond=0,second=0, minute=0))\n",
    "net_ex_pivot = caiso_net_ex_df.pivot_table(index='date_hour_start', values='net_exp_MW', aggfunc='sum').reset_index()\n",
    "net_ex_pivot['date_hour_start'] = net_ex_pivot['date_hour_start'].apply(lambda x: x.replace(tzinfo=None))\n",
    "net_ex_pivot.sort_values(by='date_hour_start', inplace=True)\n",
    "\n",
    "net_ex_pivot.to_csv('data/caiso_net_ex_jan_19_may_20.csv')"
   ]
  },
  {
   "cell_type": "code",
   "execution_count": 12,
   "metadata": {},
   "outputs": [
    {
     "name": "stdout",
     "output_type": "stream",
     "text": [
      "<class 'pandas.core.frame.DataFrame'>\n",
      "Int64Index: 12118 entries, 0 to 12117\n",
      "Data columns (total 2 columns):\n",
      "date_hour_start    12118 non-null datetime64[ns]\n",
      "net_exp_MW         12118 non-null float64\n",
      "dtypes: datetime64[ns](1), float64(1)\n",
      "memory usage: 284.0 KB\n"
     ]
    }
   ],
   "source": [
    "net_ex_pivot.info()"
   ]
  },
  {
   "cell_type": "code",
   "execution_count": 14,
   "metadata": {},
   "outputs": [
    {
     "name": "stdout",
     "output_type": "stream",
     "text": [
      "length: 12118\n",
      "Unique: 12118\n"
     ]
    }
   ],
   "source": []
  },
  {
   "cell_type": "code",
   "execution_count": 15,
   "metadata": {},
   "outputs": [
    {
     "data": {
      "text/html": [
       "<div>\n",
       "<style scoped>\n",
       "    .dataframe tbody tr th:only-of-type {\n",
       "        vertical-align: middle;\n",
       "    }\n",
       "\n",
       "    .dataframe tbody tr th {\n",
       "        vertical-align: top;\n",
       "    }\n",
       "\n",
       "    .dataframe thead th {\n",
       "        text-align: right;\n",
       "    }\n",
       "</style>\n",
       "<table border=\"1\" class=\"dataframe\">\n",
       "  <thead>\n",
       "    <tr style=\"text-align: right;\">\n",
       "      <th></th>\n",
       "      <th>date_hour_start</th>\n",
       "      <th>net_exp_MW</th>\n",
       "    </tr>\n",
       "  </thead>\n",
       "  <tbody>\n",
       "    <tr>\n",
       "      <th>0</th>\n",
       "      <td>2019-01-15 08:00:00</td>\n",
       "      <td>-80004.19</td>\n",
       "    </tr>\n",
       "    <tr>\n",
       "      <th>1</th>\n",
       "      <td>2019-01-15 09:00:00</td>\n",
       "      <td>-77137.45</td>\n",
       "    </tr>\n",
       "    <tr>\n",
       "      <th>2</th>\n",
       "      <td>2019-01-15 10:00:00</td>\n",
       "      <td>-76795.77</td>\n",
       "    </tr>\n",
       "    <tr>\n",
       "      <th>3</th>\n",
       "      <td>2019-01-15 11:00:00</td>\n",
       "      <td>-76493.40</td>\n",
       "    </tr>\n",
       "    <tr>\n",
       "      <th>4</th>\n",
       "      <td>2019-01-15 12:00:00</td>\n",
       "      <td>-82570.19</td>\n",
       "    </tr>\n",
       "    <tr>\n",
       "      <th>5</th>\n",
       "      <td>2019-01-15 13:00:00</td>\n",
       "      <td>-88948.41</td>\n",
       "    </tr>\n",
       "    <tr>\n",
       "      <th>6</th>\n",
       "      <td>2019-01-15 14:00:00</td>\n",
       "      <td>-116036.88</td>\n",
       "    </tr>\n",
       "    <tr>\n",
       "      <th>7</th>\n",
       "      <td>2019-01-15 15:00:00</td>\n",
       "      <td>-118272.42</td>\n",
       "    </tr>\n",
       "    <tr>\n",
       "      <th>8</th>\n",
       "      <td>2019-01-15 16:00:00</td>\n",
       "      <td>-118015.46</td>\n",
       "    </tr>\n",
       "    <tr>\n",
       "      <th>9</th>\n",
       "      <td>2019-01-15 17:00:00</td>\n",
       "      <td>-112035.38</td>\n",
       "    </tr>\n",
       "    <tr>\n",
       "      <th>10</th>\n",
       "      <td>2019-01-15 18:00:00</td>\n",
       "      <td>-106262.56</td>\n",
       "    </tr>\n",
       "    <tr>\n",
       "      <th>11</th>\n",
       "      <td>2019-01-15 19:00:00</td>\n",
       "      <td>-106152.28</td>\n",
       "    </tr>\n",
       "    <tr>\n",
       "      <th>12</th>\n",
       "      <td>2019-01-15 20:00:00</td>\n",
       "      <td>-99360.78</td>\n",
       "    </tr>\n",
       "    <tr>\n",
       "      <th>13</th>\n",
       "      <td>2019-01-15 21:00:00</td>\n",
       "      <td>-97287.50</td>\n",
       "    </tr>\n",
       "    <tr>\n",
       "      <th>14</th>\n",
       "      <td>2019-01-15 22:00:00</td>\n",
       "      <td>-97885.32</td>\n",
       "    </tr>\n",
       "  </tbody>\n",
       "</table>\n",
       "</div>"
      ],
      "text/plain": [
       "       date_hour_start  net_exp_MW\n",
       "0  2019-01-15 08:00:00   -80004.19\n",
       "1  2019-01-15 09:00:00   -77137.45\n",
       "2  2019-01-15 10:00:00   -76795.77\n",
       "3  2019-01-15 11:00:00   -76493.40\n",
       "4  2019-01-15 12:00:00   -82570.19\n",
       "5  2019-01-15 13:00:00   -88948.41\n",
       "6  2019-01-15 14:00:00  -116036.88\n",
       "7  2019-01-15 15:00:00  -118272.42\n",
       "8  2019-01-15 16:00:00  -118015.46\n",
       "9  2019-01-15 17:00:00  -112035.38\n",
       "10 2019-01-15 18:00:00  -106262.56\n",
       "11 2019-01-15 19:00:00  -106152.28\n",
       "12 2019-01-15 20:00:00   -99360.78\n",
       "13 2019-01-15 21:00:00   -97287.50\n",
       "14 2019-01-15 22:00:00   -97885.32"
      ]
     },
     "execution_count": 15,
     "metadata": {},
     "output_type": "execute_result"
    }
   ],
   "source": [
    "net_ex_pivot.head(15)"
   ]
  },
  {
   "cell_type": "code",
   "execution_count": 19,
   "metadata": {},
   "outputs": [
    {
     "name": "stdout",
     "output_type": "stream",
     "text": [
      "<class 'pandas.core.frame.DataFrame'>\n",
      "RangeIndex: 11519 entries, 0 to 11518\n",
      "Data columns (total 10 columns):\n",
      "Unnamed: 0           11519 non-null int64\n",
      "OPR_DT_PT            11519 non-null datetime64[ns]\n",
      "OPR_HR_PT            11519 non-null int64\n",
      "OPR_INTERVAL         11519 non-null int64\n",
      "NODE_ID              11519 non-null object\n",
      "GROUP                11519 non-null int64\n",
      "POS                  11519 non-null int64\n",
      "$_MWH                11519 non-null float64\n",
      "INTERVAL_START_PT    11519 non-null object\n",
      "INTERVAL_END_PT      11519 non-null object\n",
      "dtypes: datetime64[ns](1), float64(1), int64(5), object(3)\n",
      "memory usage: 900.0+ KB\n"
     ]
    }
   ],
   "source": [
    "np15_test.info()"
   ]
  },
  {
   "cell_type": "code",
   "execution_count": 22,
   "metadata": {},
   "outputs": [
    {
     "data": {
      "image/png": "[encoded data removed]",
      "text/plain": [
       "<Figure size 432x288 with 1 Axes>"
      ]
     },
     "metadata": {},
     "output_type": "display_data"
    }
   ],
   "source": [
    "np15_test = pd.read_csv('data/np15_lmp_19_20.csv')\n",
    "np15_test['INTERVAL_START_PT'] = pd.to_datetime(np15_test['INTERVAL_START_PT']).apply(lambda x: x.replace(tzinfo=None))\n",
    "test_merge3 = pd.merge(np15_test, net_ex_pivot, how='left', left_on='INTERVAL_START_PT', right_on='date_hour_start')\n",
    "sns.heatmap(test_merge3.isnull(), yticklabels=False, cbar=False, cmap='viridis')\n",
    "plt.title('Reconcile - Net Export and LMP', fontsize=16);"
   ]
  },
  {
   "cell_type": "code",
   "execution_count": 24,
   "metadata": {},
   "outputs": [
    {
     "name": "stdout",
     "output_type": "stream",
     "text": [
      "length: 11519\n",
      "Unique: 11519\n"
     ]
    }
   ],
   "source": [
    "print(f\"length: {len(test_merge3)}\")\n",
    "print(f\"Unique: {len(test_merge3['date_hour_start'].unique())}\")"
   ]
  },
  {
   "cell_type": "markdown",
   "metadata": {},
   "source": [
    "---\n",
    "# Data Processing 2 - Organize Dataframes in Hourly Manner"
   ]
  },
  {
   "cell_type": "markdown",
   "metadata": {},
   "source": [
    "---\n",
    "### Load Data"
   ]
  },
  {
   "cell_type": "code",
   "execution_count": null,
   "metadata": {},
   "outputs": [],
   "source": [
    "# load_df = pd.read_csv('data/caiso_load_mar_17_may_20.csv')\n",
    "# load_df_2 = load_df[(load_df['date'] <= oasis_end[-1]) & (load_df['date'] > oasis_end[-1]) ]"
   ]
  },
  {
   "cell_type": "code",
   "execution_count": null,
   "metadata": {},
   "outputs": [],
   "source": []
  },
  {
   "cell_type": "code",
   "execution_count": 10,
   "metadata": {},
   "outputs": [
    {
     "name": "stdout",
     "output_type": "stream",
     "text": [
      "<class 'pandas.core.frame.DataFrame'>\n",
      "RangeIndex: 82722 entries, 0 to 82721\n",
      "Data columns (total 7 columns):\n",
      "Unnamed: 0    82722 non-null int64\n",
      "freq          82722 non-null object\n",
      "fuel_name     82722 non-null object\n",
      "gen_MW        82722 non-null float64\n",
      "market        82722 non-null object\n",
      "date          82722 non-null object\n",
      "time          82722 non-null object\n",
      "dtypes: float64(1), int64(1), object(5)\n",
      "memory usage: 4.4+ MB\n"
     ]
    }
   ],
   "source": [
    "# gen_data = pd.read_csv('data/caiso_gen_mar_17_may_20.csv')\n",
    "# gen_data.info()"
   ]
  },
  {
   "cell_type": "code",
   "execution_count": 23,
   "metadata": {},
   "outputs": [
    {
     "data": {
      "text/html": [
       "<div>\n",
       "<style scoped>\n",
       "    .dataframe tbody tr th:only-of-type {\n",
       "        vertical-align: middle;\n",
       "    }\n",
       "\n",
       "    .dataframe tbody tr th {\n",
       "        vertical-align: top;\n",
       "    }\n",
       "\n",
       "    .dataframe thead th {\n",
       "        text-align: right;\n",
       "    }\n",
       "</style>\n",
       "<table border=\"1\" class=\"dataframe\">\n",
       "  <thead>\n",
       "    <tr style=\"text-align: right;\">\n",
       "      <th></th>\n",
       "      <th>Unnamed: 0</th>\n",
       "      <th>freq</th>\n",
       "      <th>fuel_name</th>\n",
       "      <th>gen_MW</th>\n",
       "      <th>market</th>\n",
       "      <th>date</th>\n",
       "      <th>time</th>\n",
       "    </tr>\n",
       "  </thead>\n",
       "  <tbody>\n",
       "    <tr>\n",
       "      <th>0</th>\n",
       "      <td>0</td>\n",
       "      <td>1hr</td>\n",
       "      <td>other</td>\n",
       "      <td>12513.18</td>\n",
       "      <td>DAHR</td>\n",
       "      <td>2017-03-01</td>\n",
       "      <td>08:00:00</td>\n",
       "    </tr>\n",
       "    <tr>\n",
       "      <th>1</th>\n",
       "      <td>1</td>\n",
       "      <td>1hr</td>\n",
       "      <td>wind</td>\n",
       "      <td>240.45</td>\n",
       "      <td>DAHR</td>\n",
       "      <td>2017-03-01</td>\n",
       "      <td>08:00:00</td>\n",
       "    </tr>\n",
       "    <tr>\n",
       "      <th>2</th>\n",
       "      <td>2</td>\n",
       "      <td>1hr</td>\n",
       "      <td>solar</td>\n",
       "      <td>0.00</td>\n",
       "      <td>DAHR</td>\n",
       "      <td>2017-03-01</td>\n",
       "      <td>08:00:00</td>\n",
       "    </tr>\n",
       "    <tr>\n",
       "      <th>3</th>\n",
       "      <td>3</td>\n",
       "      <td>1hr</td>\n",
       "      <td>wind</td>\n",
       "      <td>199.55</td>\n",
       "      <td>DAHR</td>\n",
       "      <td>2017-03-01</td>\n",
       "      <td>09:00:00</td>\n",
       "    </tr>\n",
       "    <tr>\n",
       "      <th>4</th>\n",
       "      <td>4</td>\n",
       "      <td>1hr</td>\n",
       "      <td>solar</td>\n",
       "      <td>0.00</td>\n",
       "      <td>DAHR</td>\n",
       "      <td>2017-03-01</td>\n",
       "      <td>09:00:00</td>\n",
       "    </tr>\n",
       "  </tbody>\n",
       "</table>\n",
       "</div>"
      ],
      "text/plain": [
       "   Unnamed: 0 freq fuel_name    gen_MW market        date      time\n",
       "0           0  1hr     other  12513.18   DAHR  2017-03-01  08:00:00\n",
       "1           1  1hr      wind    240.45   DAHR  2017-03-01  08:00:00\n",
       "2           2  1hr     solar      0.00   DAHR  2017-03-01  08:00:00\n",
       "3           3  1hr      wind    199.55   DAHR  2017-03-01  09:00:00\n",
       "4           4  1hr     solar      0.00   DAHR  2017-03-01  09:00:00"
      ]
     },
     "execution_count": 23,
     "metadata": {},
     "output_type": "execute_result"
    }
   ],
   "source": [
    "# gen_data.head()"
   ]
  },
  {
   "cell_type": "code",
   "execution_count": 12,
   "metadata": {},
   "outputs": [
    {
     "data": {
      "text/html": [
       "<div>\n",
       "<style scoped>\n",
       "    .dataframe tbody tr th:only-of-type {\n",
       "        vertical-align: middle;\n",
       "    }\n",
       "\n",
       "    .dataframe tbody tr th {\n",
       "        vertical-align: top;\n",
       "    }\n",
       "\n",
       "    .dataframe thead th {\n",
       "        text-align: right;\n",
       "    }\n",
       "</style>\n",
       "<table border=\"1\" class=\"dataframe\">\n",
       "  <thead>\n",
       "    <tr style=\"text-align: right;\">\n",
       "      <th></th>\n",
       "      <th>Unnamed: 0</th>\n",
       "      <th>freq</th>\n",
       "      <th>fuel_name</th>\n",
       "      <th>gen_MW</th>\n",
       "      <th>market</th>\n",
       "      <th>date</th>\n",
       "      <th>time</th>\n",
       "    </tr>\n",
       "  </thead>\n",
       "  <tbody>\n",
       "    <tr>\n",
       "      <th>82717</th>\n",
       "      <td>82717</td>\n",
       "      <td>1hr</td>\n",
       "      <td>solar</td>\n",
       "      <td>0.00</td>\n",
       "      <td>DAHR</td>\n",
       "      <td>2020-05-31</td>\n",
       "      <td>05:00:00</td>\n",
       "    </tr>\n",
       "    <tr>\n",
       "      <th>82718</th>\n",
       "      <td>82718</td>\n",
       "      <td>1hr</td>\n",
       "      <td>wind</td>\n",
       "      <td>2706.14</td>\n",
       "      <td>DAHR</td>\n",
       "      <td>2020-05-31</td>\n",
       "      <td>05:00:00</td>\n",
       "    </tr>\n",
       "    <tr>\n",
       "      <th>82719</th>\n",
       "      <td>82719</td>\n",
       "      <td>1hr</td>\n",
       "      <td>solar</td>\n",
       "      <td>0.00</td>\n",
       "      <td>DAHR</td>\n",
       "      <td>2020-05-31</td>\n",
       "      <td>06:00:00</td>\n",
       "    </tr>\n",
       "    <tr>\n",
       "      <th>82720</th>\n",
       "      <td>82720</td>\n",
       "      <td>1hr</td>\n",
       "      <td>wind</td>\n",
       "      <td>2731.57</td>\n",
       "      <td>DAHR</td>\n",
       "      <td>2020-05-31</td>\n",
       "      <td>06:00:00</td>\n",
       "    </tr>\n",
       "    <tr>\n",
       "      <th>82721</th>\n",
       "      <td>82721</td>\n",
       "      <td>1hr</td>\n",
       "      <td>other</td>\n",
       "      <td>10017.39</td>\n",
       "      <td>DAHR</td>\n",
       "      <td>2020-05-31</td>\n",
       "      <td>06:00:00</td>\n",
       "    </tr>\n",
       "  </tbody>\n",
       "</table>\n",
       "</div>"
      ],
      "text/plain": [
       "       Unnamed: 0 freq fuel_name    gen_MW market        date      time\n",
       "82717       82717  1hr     solar      0.00   DAHR  2020-05-31  05:00:00\n",
       "82718       82718  1hr      wind   2706.14   DAHR  2020-05-31  05:00:00\n",
       "82719       82719  1hr     solar      0.00   DAHR  2020-05-31  06:00:00\n",
       "82720       82720  1hr      wind   2731.57   DAHR  2020-05-31  06:00:00\n",
       "82721       82721  1hr     other  10017.39   DAHR  2020-05-31  06:00:00"
      ]
     },
     "execution_count": 12,
     "metadata": {},
     "output_type": "execute_result"
    }
   ],
   "source": [
    "# gen_data.tail()"
   ]
  },
  {
   "cell_type": "code",
   "execution_count": 14,
   "metadata": {},
   "outputs": [
    {
     "name": "stdout",
     "output_type": "stream",
     "text": [
      "<class 'pandas.core.frame.DataFrame'>\n",
      "RangeIndex: 329660 entries, 0 to 329659\n",
      "Data columns (total 6 columns):\n",
      "Unnamed: 0    329660 non-null int64\n",
      "freq          329660 non-null object\n",
      "market        329660 non-null object\n",
      "load_MW       329660 non-null float64\n",
      "date          329660 non-null object\n",
      "time          329660 non-null object\n",
      "dtypes: float64(1), int64(1), object(4)\n",
      "memory usage: 15.1+ MB\n"
     ]
    }
   ],
   "source": [
    "load_data = pd.read_csv('data/caiso_load_mar_17_may_20.csv')\n",
    "load_data.info()"
   ]
  },
  {
   "cell_type": "code",
   "execution_count": 15,
   "metadata": {},
   "outputs": [
    {
     "data": {
      "text/html": [
       "<div>\n",
       "<style scoped>\n",
       "    .dataframe tbody tr th:only-of-type {\n",
       "        vertical-align: middle;\n",
       "    }\n",
       "\n",
       "    .dataframe tbody tr th {\n",
       "        vertical-align: top;\n",
       "    }\n",
       "\n",
       "    .dataframe thead th {\n",
       "        text-align: right;\n",
       "    }\n",
       "</style>\n",
       "<table border=\"1\" class=\"dataframe\">\n",
       "  <thead>\n",
       "    <tr style=\"text-align: right;\">\n",
       "      <th></th>\n",
       "      <th>Unnamed: 0</th>\n",
       "      <th>freq</th>\n",
       "      <th>market</th>\n",
       "      <th>load_MW</th>\n",
       "      <th>date</th>\n",
       "      <th>time</th>\n",
       "    </tr>\n",
       "  </thead>\n",
       "  <tbody>\n",
       "    <tr>\n",
       "      <th>0</th>\n",
       "      <td>0</td>\n",
       "      <td>5m</td>\n",
       "      <td>RT5M</td>\n",
       "      <td>20911.0</td>\n",
       "      <td>2017-03-01</td>\n",
       "      <td>08:00:00</td>\n",
       "    </tr>\n",
       "    <tr>\n",
       "      <th>1</th>\n",
       "      <td>1</td>\n",
       "      <td>5m</td>\n",
       "      <td>RT5M</td>\n",
       "      <td>20823.0</td>\n",
       "      <td>2017-03-01</td>\n",
       "      <td>08:05:00</td>\n",
       "    </tr>\n",
       "    <tr>\n",
       "      <th>2</th>\n",
       "      <td>2</td>\n",
       "      <td>5m</td>\n",
       "      <td>RT5M</td>\n",
       "      <td>20741.0</td>\n",
       "      <td>2017-03-01</td>\n",
       "      <td>08:10:00</td>\n",
       "    </tr>\n",
       "    <tr>\n",
       "      <th>3</th>\n",
       "      <td>3</td>\n",
       "      <td>5m</td>\n",
       "      <td>RT5M</td>\n",
       "      <td>20662.0</td>\n",
       "      <td>2017-03-01</td>\n",
       "      <td>08:15:00</td>\n",
       "    </tr>\n",
       "    <tr>\n",
       "      <th>4</th>\n",
       "      <td>4</td>\n",
       "      <td>5m</td>\n",
       "      <td>RT5M</td>\n",
       "      <td>20580.0</td>\n",
       "      <td>2017-03-01</td>\n",
       "      <td>08:20:00</td>\n",
       "    </tr>\n",
       "  </tbody>\n",
       "</table>\n",
       "</div>"
      ],
      "text/plain": [
       "   Unnamed: 0 freq market  load_MW        date      time\n",
       "0           0   5m   RT5M  20911.0  2017-03-01  08:00:00\n",
       "1           1   5m   RT5M  20823.0  2017-03-01  08:05:00\n",
       "2           2   5m   RT5M  20741.0  2017-03-01  08:10:00\n",
       "3           3   5m   RT5M  20662.0  2017-03-01  08:15:00\n",
       "4           4   5m   RT5M  20580.0  2017-03-01  08:20:00"
      ]
     },
     "execution_count": 15,
     "metadata": {},
     "output_type": "execute_result"
    }
   ],
   "source": [
    "load_data.head()"
   ]
  },
  {
   "cell_type": "code",
   "execution_count": 35,
   "metadata": {},
   "outputs": [
    {
     "data": {
      "text/html": [
       "<div>\n",
       "<style scoped>\n",
       "    .dataframe tbody tr th:only-of-type {\n",
       "        vertical-align: middle;\n",
       "    }\n",
       "\n",
       "    .dataframe tbody tr th {\n",
       "        vertical-align: top;\n",
       "    }\n",
       "\n",
       "    .dataframe thead th {\n",
       "        text-align: right;\n",
       "    }\n",
       "</style>\n",
       "<table border=\"1\" class=\"dataframe\">\n",
       "  <thead>\n",
       "    <tr style=\"text-align: right;\">\n",
       "      <th></th>\n",
       "      <th>Unnamed: 0</th>\n",
       "      <th>freq</th>\n",
       "      <th>market</th>\n",
       "      <th>load_MW</th>\n",
       "      <th>date</th>\n",
       "      <th>time</th>\n",
       "    </tr>\n",
       "  </thead>\n",
       "  <tbody>\n",
       "    <tr>\n",
       "      <th>329645</th>\n",
       "      <td>329645</td>\n",
       "      <td>5m</td>\n",
       "      <td>RT5M</td>\n",
       "      <td>23503.39</td>\n",
       "      <td>2020-05-31</td>\n",
       "      <td>05:45:00</td>\n",
       "    </tr>\n",
       "    <tr>\n",
       "      <th>329646</th>\n",
       "      <td>329646</td>\n",
       "      <td>5m</td>\n",
       "      <td>RT5M</td>\n",
       "      <td>23374.86</td>\n",
       "      <td>2020-05-31</td>\n",
       "      <td>05:50:00</td>\n",
       "    </tr>\n",
       "    <tr>\n",
       "      <th>329647</th>\n",
       "      <td>329647</td>\n",
       "      <td>5m</td>\n",
       "      <td>RT5M</td>\n",
       "      <td>23242.70</td>\n",
       "      <td>2020-05-31</td>\n",
       "      <td>05:55:00</td>\n",
       "    </tr>\n",
       "    <tr>\n",
       "      <th>329648</th>\n",
       "      <td>329648</td>\n",
       "      <td>5m</td>\n",
       "      <td>RT5M</td>\n",
       "      <td>23106.38</td>\n",
       "      <td>2020-05-31</td>\n",
       "      <td>06:00:00</td>\n",
       "    </tr>\n",
       "    <tr>\n",
       "      <th>329649</th>\n",
       "      <td>329649</td>\n",
       "      <td>5m</td>\n",
       "      <td>RT5M</td>\n",
       "      <td>22973.31</td>\n",
       "      <td>2020-05-31</td>\n",
       "      <td>06:05:00</td>\n",
       "    </tr>\n",
       "    <tr>\n",
       "      <th>329650</th>\n",
       "      <td>329650</td>\n",
       "      <td>5m</td>\n",
       "      <td>RT5M</td>\n",
       "      <td>22840.03</td>\n",
       "      <td>2020-05-31</td>\n",
       "      <td>06:10:00</td>\n",
       "    </tr>\n",
       "    <tr>\n",
       "      <th>329651</th>\n",
       "      <td>329651</td>\n",
       "      <td>5m</td>\n",
       "      <td>RT5M</td>\n",
       "      <td>22741.39</td>\n",
       "      <td>2020-05-31</td>\n",
       "      <td>06:15:00</td>\n",
       "    </tr>\n",
       "    <tr>\n",
       "      <th>329652</th>\n",
       "      <td>329652</td>\n",
       "      <td>5m</td>\n",
       "      <td>RT5M</td>\n",
       "      <td>22609.84</td>\n",
       "      <td>2020-05-31</td>\n",
       "      <td>06:20:00</td>\n",
       "    </tr>\n",
       "    <tr>\n",
       "      <th>329653</th>\n",
       "      <td>329653</td>\n",
       "      <td>5m</td>\n",
       "      <td>RT5M</td>\n",
       "      <td>22485.85</td>\n",
       "      <td>2020-05-31</td>\n",
       "      <td>06:25:00</td>\n",
       "    </tr>\n",
       "    <tr>\n",
       "      <th>329654</th>\n",
       "      <td>329654</td>\n",
       "      <td>5m</td>\n",
       "      <td>RT5M</td>\n",
       "      <td>22378.41</td>\n",
       "      <td>2020-05-31</td>\n",
       "      <td>06:30:00</td>\n",
       "    </tr>\n",
       "    <tr>\n",
       "      <th>329655</th>\n",
       "      <td>329655</td>\n",
       "      <td>5m</td>\n",
       "      <td>RT5M</td>\n",
       "      <td>22254.90</td>\n",
       "      <td>2020-05-31</td>\n",
       "      <td>06:35:00</td>\n",
       "    </tr>\n",
       "    <tr>\n",
       "      <th>329656</th>\n",
       "      <td>329656</td>\n",
       "      <td>5m</td>\n",
       "      <td>RT5M</td>\n",
       "      <td>22133.85</td>\n",
       "      <td>2020-05-31</td>\n",
       "      <td>06:40:00</td>\n",
       "    </tr>\n",
       "    <tr>\n",
       "      <th>329657</th>\n",
       "      <td>329657</td>\n",
       "      <td>5m</td>\n",
       "      <td>RT5M</td>\n",
       "      <td>22032.06</td>\n",
       "      <td>2020-05-31</td>\n",
       "      <td>06:45:00</td>\n",
       "    </tr>\n",
       "    <tr>\n",
       "      <th>329658</th>\n",
       "      <td>329658</td>\n",
       "      <td>5m</td>\n",
       "      <td>RT5M</td>\n",
       "      <td>21913.23</td>\n",
       "      <td>2020-05-31</td>\n",
       "      <td>06:50:00</td>\n",
       "    </tr>\n",
       "    <tr>\n",
       "      <th>329659</th>\n",
       "      <td>329659</td>\n",
       "      <td>5m</td>\n",
       "      <td>RT5M</td>\n",
       "      <td>21806.36</td>\n",
       "      <td>2020-05-31</td>\n",
       "      <td>06:55:00</td>\n",
       "    </tr>\n",
       "  </tbody>\n",
       "</table>\n",
       "</div>"
      ],
      "text/plain": [
       "        Unnamed: 0 freq market   load_MW        date      time\n",
       "329645      329645   5m   RT5M  23503.39  2020-05-31  05:45:00\n",
       "329646      329646   5m   RT5M  23374.86  2020-05-31  05:50:00\n",
       "329647      329647   5m   RT5M  23242.70  2020-05-31  05:55:00\n",
       "329648      329648   5m   RT5M  23106.38  2020-05-31  06:00:00\n",
       "329649      329649   5m   RT5M  22973.31  2020-05-31  06:05:00\n",
       "329650      329650   5m   RT5M  22840.03  2020-05-31  06:10:00\n",
       "329651      329651   5m   RT5M  22741.39  2020-05-31  06:15:00\n",
       "329652      329652   5m   RT5M  22609.84  2020-05-31  06:20:00\n",
       "329653      329653   5m   RT5M  22485.85  2020-05-31  06:25:00\n",
       "329654      329654   5m   RT5M  22378.41  2020-05-31  06:30:00\n",
       "329655      329655   5m   RT5M  22254.90  2020-05-31  06:35:00\n",
       "329656      329656   5m   RT5M  22133.85  2020-05-31  06:40:00\n",
       "329657      329657   5m   RT5M  22032.06  2020-05-31  06:45:00\n",
       "329658      329658   5m   RT5M  21913.23  2020-05-31  06:50:00\n",
       "329659      329659   5m   RT5M  21806.36  2020-05-31  06:55:00"
      ]
     },
     "execution_count": 35,
     "metadata": {},
     "output_type": "execute_result"
    }
   ],
   "source": [
    "load_data.tail(15)"
   ]
  },
  {
   "cell_type": "code",
   "execution_count": 18,
   "metadata": {},
   "outputs": [
    {
     "name": "stdout",
     "output_type": "stream",
     "text": [
      "<class 'pandas.core.frame.DataFrame'>\n",
      "RangeIndex: 329626 entries, 0 to 329625\n",
      "Data columns (total 6 columns):\n",
      "Unnamed: 0    329626 non-null int64\n",
      "net_exp_MW    329626 non-null float64\n",
      "freq          329626 non-null object\n",
      "market        329626 non-null object\n",
      "date          329626 non-null object\n",
      "time          329626 non-null object\n",
      "dtypes: float64(1), int64(1), object(4)\n",
      "memory usage: 15.1+ MB\n"
     ]
    }
   ],
   "source": [
    "net_ex_data = pd.read_csv('data/caiso_net_ex_mar_17_may_20.csv')\n",
    "net_ex_data.info()"
   ]
  },
  {
   "cell_type": "code",
   "execution_count": 20,
   "metadata": {},
   "outputs": [
    {
     "data": {
      "text/html": [
       "<div>\n",
       "<style scoped>\n",
       "    .dataframe tbody tr th:only-of-type {\n",
       "        vertical-align: middle;\n",
       "    }\n",
       "\n",
       "    .dataframe tbody tr th {\n",
       "        vertical-align: top;\n",
       "    }\n",
       "\n",
       "    .dataframe thead th {\n",
       "        text-align: right;\n",
       "    }\n",
       "</style>\n",
       "<table border=\"1\" class=\"dataframe\">\n",
       "  <thead>\n",
       "    <tr style=\"text-align: right;\">\n",
       "      <th></th>\n",
       "      <th>Unnamed: 0</th>\n",
       "      <th>net_exp_MW</th>\n",
       "      <th>freq</th>\n",
       "      <th>market</th>\n",
       "      <th>date</th>\n",
       "      <th>time</th>\n",
       "    </tr>\n",
       "  </thead>\n",
       "  <tbody>\n",
       "    <tr>\n",
       "      <th>0</th>\n",
       "      <td>0</td>\n",
       "      <td>-7449.98</td>\n",
       "      <td>5m</td>\n",
       "      <td>RT5M</td>\n",
       "      <td>2017-03-01</td>\n",
       "      <td>08:00:00</td>\n",
       "    </tr>\n",
       "    <tr>\n",
       "      <th>1</th>\n",
       "      <td>1</td>\n",
       "      <td>-7683.78</td>\n",
       "      <td>5m</td>\n",
       "      <td>RT5M</td>\n",
       "      <td>2017-03-01</td>\n",
       "      <td>08:05:00</td>\n",
       "    </tr>\n",
       "    <tr>\n",
       "      <th>2</th>\n",
       "      <td>2</td>\n",
       "      <td>-7890.83</td>\n",
       "      <td>5m</td>\n",
       "      <td>RT5M</td>\n",
       "      <td>2017-03-01</td>\n",
       "      <td>08:10:00</td>\n",
       "    </tr>\n",
       "    <tr>\n",
       "      <th>3</th>\n",
       "      <td>3</td>\n",
       "      <td>-7783.36</td>\n",
       "      <td>5m</td>\n",
       "      <td>RT5M</td>\n",
       "      <td>2017-03-01</td>\n",
       "      <td>08:15:00</td>\n",
       "    </tr>\n",
       "    <tr>\n",
       "      <th>4</th>\n",
       "      <td>4</td>\n",
       "      <td>-7778.36</td>\n",
       "      <td>5m</td>\n",
       "      <td>RT5M</td>\n",
       "      <td>2017-03-01</td>\n",
       "      <td>08:20:00</td>\n",
       "    </tr>\n",
       "  </tbody>\n",
       "</table>\n",
       "</div>"
      ],
      "text/plain": [
       "   Unnamed: 0  net_exp_MW freq market        date      time\n",
       "0           0    -7449.98   5m   RT5M  2017-03-01  08:00:00\n",
       "1           1    -7683.78   5m   RT5M  2017-03-01  08:05:00\n",
       "2           2    -7890.83   5m   RT5M  2017-03-01  08:10:00\n",
       "3           3    -7783.36   5m   RT5M  2017-03-01  08:15:00\n",
       "4           4    -7778.36   5m   RT5M  2017-03-01  08:20:00"
      ]
     },
     "execution_count": 20,
     "metadata": {},
     "output_type": "execute_result"
    }
   ],
   "source": [
    "net_ex_data.head()"
   ]
  },
  {
   "cell_type": "code",
   "execution_count": 21,
   "metadata": {},
   "outputs": [
    {
     "data": {
      "text/html": [
       "<div>\n",
       "<style scoped>\n",
       "    .dataframe tbody tr th:only-of-type {\n",
       "        vertical-align: middle;\n",
       "    }\n",
       "\n",
       "    .dataframe tbody tr th {\n",
       "        vertical-align: top;\n",
       "    }\n",
       "\n",
       "    .dataframe thead th {\n",
       "        text-align: right;\n",
       "    }\n",
       "</style>\n",
       "<table border=\"1\" class=\"dataframe\">\n",
       "  <thead>\n",
       "    <tr style=\"text-align: right;\">\n",
       "      <th></th>\n",
       "      <th>Unnamed: 0</th>\n",
       "      <th>net_exp_MW</th>\n",
       "      <th>freq</th>\n",
       "      <th>market</th>\n",
       "      <th>date</th>\n",
       "      <th>time</th>\n",
       "    </tr>\n",
       "  </thead>\n",
       "  <tbody>\n",
       "    <tr>\n",
       "      <th>329621</th>\n",
       "      <td>329621</td>\n",
       "      <td>-9627.20</td>\n",
       "      <td>5m</td>\n",
       "      <td>RT5M</td>\n",
       "      <td>2020-05-31</td>\n",
       "      <td>06:35:00</td>\n",
       "    </tr>\n",
       "    <tr>\n",
       "      <th>329622</th>\n",
       "      <td>329622</td>\n",
       "      <td>-9635.75</td>\n",
       "      <td>5m</td>\n",
       "      <td>RT5M</td>\n",
       "      <td>2020-05-31</td>\n",
       "      <td>06:40:00</td>\n",
       "    </tr>\n",
       "    <tr>\n",
       "      <th>329623</th>\n",
       "      <td>329623</td>\n",
       "      <td>-9632.26</td>\n",
       "      <td>5m</td>\n",
       "      <td>RT5M</td>\n",
       "      <td>2020-05-31</td>\n",
       "      <td>06:45:00</td>\n",
       "    </tr>\n",
       "    <tr>\n",
       "      <th>329624</th>\n",
       "      <td>329624</td>\n",
       "      <td>-9488.47</td>\n",
       "      <td>5m</td>\n",
       "      <td>RT5M</td>\n",
       "      <td>2020-05-31</td>\n",
       "      <td>06:50:00</td>\n",
       "    </tr>\n",
       "    <tr>\n",
       "      <th>329625</th>\n",
       "      <td>329625</td>\n",
       "      <td>-9187.69</td>\n",
       "      <td>5m</td>\n",
       "      <td>RT5M</td>\n",
       "      <td>2020-05-31</td>\n",
       "      <td>06:55:00</td>\n",
       "    </tr>\n",
       "  </tbody>\n",
       "</table>\n",
       "</div>"
      ],
      "text/plain": [
       "        Unnamed: 0  net_exp_MW freq market        date      time\n",
       "329621      329621    -9627.20   5m   RT5M  2020-05-31  06:35:00\n",
       "329622      329622    -9635.75   5m   RT5M  2020-05-31  06:40:00\n",
       "329623      329623    -9632.26   5m   RT5M  2020-05-31  06:45:00\n",
       "329624      329624    -9488.47   5m   RT5M  2020-05-31  06:50:00\n",
       "329625      329625    -9187.69   5m   RT5M  2020-05-31  06:55:00"
      ]
     },
     "execution_count": 21,
     "metadata": {},
     "output_type": "execute_result"
    }
   ],
   "source": [
    "net_ex_data.tail()"
   ]
  },
  {
   "cell_type": "markdown",
   "metadata": {},
   "source": [
    "---\n",
    "# Create Master NP15, SP15, and ZP26 Master Dataframes"
   ]
  },
  {
   "cell_type": "code",
   "execution_count": 33,
   "metadata": {},
   "outputs": [],
   "source": [
    "gen_19_20 = pd.read_csv('data/caiso_gen_jan_19_may_20.csv')\n",
    "load_19_20 = pd.read_csv('data/caiso_load_jan_19_may_20.csv')\n",
    "net_ex_19_20 = pd.read_csv('data/caiso_net_ex_jan_19_may_20.csv')\n",
    "np15_lmp_19_20 = pd.read_csv('data/np15_lmp_19_20.csv')\n",
    "sp15_lmp_19_20 = pd.read_csv('data/sp15_lmp_19_20.csv')\n",
    "zp26_lmp_19_20 = pd.read_csv('data/zp26_lmp_19_20.csv')\n",
    "natgas_19_20 = pd.read_csv('data/natgas_jan_19_may_20.csv', names=['date', 'HH_$_million_BTU_not_seasonal_adj'], skiprows=1)"
   ]
  },
  {
   "cell_type": "code",
   "execution_count": 34,
   "metadata": {},
   "outputs": [],
   "source": [
    "# begin_date_time = np15_lmp_19_20.iloc[0]['INTERVAL_START_PT']\n",
    "# end_date_time = np15_lmp_19_20.iloc[-1]['INTERVAL_END_PT']\n",
    "\n",
    "# gen_19_20 = gen_19_20[(gen_19_20['timestamp'] >= begin_date_time) & (gen_19_20['timestamp'] <= end_date_time)].copy()\n",
    "# load_19_20 = load_19_20[(load_19_20['date_hour_start'] >= begin_date_time) & (load_19_20['date_hour_start'] <= end_date_time)].copy()\n",
    "# net_ex_19_20 = net_ex_19_20[(net_19_20['date_hour_start'] >= begin_date_time) & (net_ex_19_20['date_hour_start'] <= end_date_time)].copy()\n",
    "gen_19_20['date_hour_start'] = pd.to_datetime(gen_19_20['date_hour_start']).apply(lambda x: x.replace(tzinfo=None))\n",
    "load_19_20['date_hour_start'] = pd.to_datetime(load_19_20['date_hour_start']).apply(lambda x: x.replace(tzinfo=None))\n",
    "net_ex_19_20['date_hour_start'] = pd.to_datetime(net_ex_19_20['date_hour_start']).apply(lambda x: x.replace(tzinfo=None))\n",
    "natgas_19_20['date'] = natgas_19_20['date'].apply(lambda x: datetime.strptime(x, '%Y-%m-%d'))"
   ]
  },
  {
   "cell_type": "code",
   "execution_count": 35,
   "metadata": {},
   "outputs": [
    {
     "name": "stdout",
     "output_type": "stream",
     "text": [
      "Total genereation + total import = 229705590.53\n",
      "Total consumption = 3619108327.98\n"
     ]
    }
   ],
   "source": [
    "# Check supply = demand.\n",
    "# Should supply equal demand? Data excludes ancillary service products.\n",
    "total_imp = net_ex_19_20['net_exp_MW'].sum()\n",
    "total_gen = gen_19_20['total_mw'].sum()\n",
    "total_load = load_19_20['load_MW'].sum()\n",
    "\n",
    "print(f\"Total genereation + total import = {total_gen}\")\n",
    "print(f\"Total consumption = {total_load}\")"
   ]
  },
  {
   "cell_type": "code",
   "execution_count": 36,
   "metadata": {},
   "outputs": [
    {
     "name": "stdout",
     "output_type": "stream",
     "text": [
      "<class 'pandas.core.frame.DataFrame'>\n",
      "Int64Index: 11519 entries, 0 to 11518\n",
      "Data columns (total 8 columns):\n",
      "INTERVAL_START_PT    11519 non-null datetime64[ns]\n",
      "INTERVAL_END_PT      11519 non-null datetime64[ns]\n",
      "OPR_DT_PT            11519 non-null object\n",
      "OPR_HR_PT            11519 non-null int64\n",
      "OPR_INTERVAL         11519 non-null int64\n",
      "$_MWH_np15           11519 non-null float64\n",
      "$_MWH_sp15           11519 non-null float64\n",
      "$_MWH                11519 non-null float64\n",
      "dtypes: datetime64[ns](2), float64(3), int64(2), object(1)\n",
      "memory usage: 809.9+ KB\n"
     ]
    }
   ],
   "source": [
    "# Merge NP15, SP15 and ZP26.\n",
    "all_lmp_19_20 = pd.merge(np15_lmp_19_20, sp15_lmp_19_20, how='left', on='INTERVAL_START_PT', suffixes=('_np15','_sp15'))\n",
    "all_lmp_19_20 = pd.merge(all_lmp_19_20, zp26_lmp_19_20, how='left', on ='INTERVAL_START_PT')\n",
    "all_lmp_19_20_clean = all_lmp_19_20[['INTERVAL_START_PT', 'INTERVAL_END_PT', 'OPR_DT_PT', 'OPR_HR_PT', 'OPR_INTERVAL', '$_MWH_np15', '$_MWH_sp15', '$_MWH']].copy()\n",
    "all_lmp_19_20_clean['INTERVAL_START_PT'] = pd.to_datetime(all_lmp_19_20_clean['INTERVAL_START_PT']).apply(lambda x: x.replace(tzinfo=None))\n",
    "all_lmp_19_20_clean['INTERVAL_END_PT'] = pd.to_datetime(all_lmp_19_20_clean['INTERVAL_END_PT']).apply(lambda x: x.replace(tzinfo=None))\n",
    "all_lmp_19_20_clean.info()"
   ]
  },
  {
   "cell_type": "code",
   "execution_count": 37,
   "metadata": {},
   "outputs": [
    {
     "name": "stdout",
     "output_type": "stream",
     "text": [
      "<class 'pandas.core.frame.DataFrame'>\n",
      "RangeIndex: 12119 entries, 0 to 12118\n",
      "Data columns (total 6 columns):\n",
      "Unnamed: 0         12119 non-null int64\n",
      "date_hour_start    12119 non-null datetime64[ns]\n",
      "other              12119 non-null float64\n",
      "solar              12119 non-null float64\n",
      "wind               12119 non-null float64\n",
      "total_mw           12119 non-null float64\n",
      "dtypes: datetime64[ns](1), float64(4), int64(1)\n",
      "memory usage: 568.2 KB\n"
     ]
    }
   ],
   "source": [
    "gen_19_20.info()"
   ]
  },
  {
   "cell_type": "code",
   "execution_count": 54,
   "metadata": {},
   "outputs": [],
   "source": [
    "# Merge LMPs and generation/consumption data.\n",
    "caiso_draft = pd.merge(all_lmp_19_20_clean, gen_19_20, how='left', left_on='INTERVAL_START_PT', right_on ='date_hour_start')\n",
    "caiso_draft = pd.merge(caiso_draft, load_19_20, how='left', left_on ='INTERVAL_START_PT', right_on = 'date_hour_start')\n",
    "caiso_draft = pd.merge(caiso_draft, net_ex_19_20, how='left', left_on ='INTERVAL_START_PT', right_on = 'date_hour_start', suffixes=('_load', '_net_ex'))\n",
    "caiso_draft['OPR_DT_PT'] = pd.to_datetime(caiso_draft['OPR_DT_PT'])\n",
    "\n",
    "# Monday = 0\n",
    "# Natural gas prices are not provided on Saturdays and Sundays.\n",
    "caiso_draft['day_week'] = caiso_draft['OPR_DT_PT'].apply(lambda x: x.weekday())\n",
    "caiso_draft.rename({'$_MWH': \"$_MWH_zp26\"}, axis=1, inplace=True)\n",
    "caiso_draft = pd.merge(caiso_draft, natgas_19_20, how='left', left_on='OPR_DT_PT', right_on='date', validate='m:1')\n",
    "\n",
    "\n",
    "caiso_draft_filled = caiso_draft.copy()\n",
    "caiso_draft_filled['HH_$_million_BTU_not_seasonal_adj'] = caiso_draft_filled['HH_$_million_BTU_not_seasonal_adj'].fillna(method='ffill')\n",
    "caiso_master = caiso_draft_filled[['INTERVAL_START_PT', 'INTERVAL_END_PT', 'date_hour_start', 'OPR_DT_PT', 'OPR_HR_PT', 'day_week', 'OPR_INTERVAL', '$_MWH_np15', '$_MWH_sp15', '$_MWH_zp26',\n",
    "                                  'other', 'solar', 'wind', 'total_mw', 'net_exp_MW', 'load_MW', 'HH_$_million_BTU_not_seasonal_adj']].copy()\n",
    "caiso_master.sort_values(by='INTERVAL_START_PT', inplace=True)\n",
    "\n",
    "caiso_master.to_csv('data/caiso_master.csv')"
   ]
  },
  {
   "cell_type": "code",
   "execution_count": 52,
   "metadata": {},
   "outputs": [
    {
     "data": {
      "image/png": "[encoded data removed]",
      "text/plain": [
       "<Figure size 1080x576 with 1 Axes>"
      ]
     },
     "metadata": {},
     "output_type": "display_data"
    }
   ],
   "source": [
    "plt.figure(figsize=(15,8))\n",
    "sns.heatmap(caiso_master.isnull(), yticklabels=False, cbar=False, cmap='viridis')\n",
    "plt.title('CAISO Data w/o Filled Nulls', fontsize=16)\n",
    "plt.tight_layout();"
   ]
  },
  {
   "cell_type": "code",
   "execution_count": 44,
   "metadata": {},
   "outputs": [
    {
     "data": {
      "text/plain": [
       "<matplotlib.axes._subplots.AxesSubplot at 0x7facb474e278>"
      ]
     },
     "execution_count": 44,
     "metadata": {},
     "output_type": "execute_result"
    },
    {
     "data": {
      "image/png": "[encoded data removed]",
      "text/plain": [
       "<Figure size 1080x576 with 1 Axes>"
      ]
     },
     "metadata": {},
     "output_type": "display_data"
    }
   ],
   "source": [
    "caiso_draft_filled = caiso_draft.copy()\n",
    "caiso_draft_filled['HH_$_million_BTU_not_seasonal_adj'] = caiso_draft_filled['HH_$_million_BTU_not_seasonal_adj'].fillna(method='ffill')\n",
    "plt.figure(figsize=(15,8))\n",
    "plt.title('CAISO Data w/ Filled Nulls', fontsize=16)\n",
    "sns.heatmap(caiso_draft_filled.isnull(), yticklabels=False, cbar=False, cmap='viridis')"
   ]
  },
  {
   "cell_type": "code",
   "execution_count": 45,
   "metadata": {},
   "outputs": [
    {
     "data": {
      "text/plain": [
       "Index(['INTERVAL_START_PT', 'INTERVAL_END_PT', 'OPR_DT_PT', 'OPR_HR_PT',\n",
       "       'OPR_INTERVAL', '$_MWH_np15', '$_MWH_sp15', '$_MWH_zp26',\n",
       "       'Unnamed: 0_x', 'date_hour_start_x', 'other', 'solar', 'wind',\n",
       "       'total_mw', 'Unnamed: 0_y', 'date_hour_start_y', 'load_MW',\n",
       "       'Unnamed: 0', 'date_hour_start', 'net_exp_MW', 'day_week', 'date',\n",
       "       'HH_$_million_BTU_not_seasonal_adj'],\n",
       "      dtype='object')"
      ]
     },
     "execution_count": 45,
     "metadata": {},
     "output_type": "execute_result"
    }
   ],
   "source": [
    "caiso_draft_filled.columns"
   ]
  },
  {
   "cell_type": "code",
   "execution_count": 49,
   "metadata": {},
   "outputs": [],
   "source": [
    "caiso_master = caiso_draft_filled[['INTERVAL_START_PT', 'INTERVAL_END_PT', 'date_hour_start', 'OPR_DT_PT', 'OPR_HR_PT', 'day_week', 'OPR_INTERVAL', '$_MWH_np15', '$_MWH_sp15', '$_MWH_zp26',\n",
    "                                  'other', 'solar', 'wind', 'total_mw', 'net_exp_MW', 'load_MW', 'HH_$_million_BTU_not_seasonal_adj']].copy()"
   ]
  },
  {
   "cell_type": "code",
   "execution_count": 50,
   "metadata": {},
   "outputs": [
    {
     "data": {
      "text/html": [
       "<div>\n",
       "<style scoped>\n",
       "    .dataframe tbody tr th:only-of-type {\n",
       "        vertical-align: middle;\n",
       "    }\n",
       "\n",
       "    .dataframe tbody tr th {\n",
       "        vertical-align: top;\n",
       "    }\n",
       "\n",
       "    .dataframe thead th {\n",
       "        text-align: right;\n",
       "    }\n",
       "</style>\n",
       "<table border=\"1\" class=\"dataframe\">\n",
       "  <thead>\n",
       "    <tr style=\"text-align: right;\">\n",
       "      <th></th>\n",
       "      <th>INTERVAL_START_PT</th>\n",
       "      <th>INTERVAL_END_PT</th>\n",
       "      <th>date_hour_start</th>\n",
       "      <th>OPR_DT_PT</th>\n",
       "      <th>OPR_HR_PT</th>\n",
       "      <th>day_week</th>\n",
       "      <th>OPR_INTERVAL</th>\n",
       "      <th>$_MWH_np15</th>\n",
       "      <th>$_MWH_sp15</th>\n",
       "      <th>$_MWH_zp26</th>\n",
       "      <th>other</th>\n",
       "      <th>solar</th>\n",
       "      <th>wind</th>\n",
       "      <th>total_mw</th>\n",
       "      <th>net_exp_MW</th>\n",
       "      <th>load_MW</th>\n",
       "      <th>HH_$_million_BTU_not_seasonal_adj</th>\n",
       "    </tr>\n",
       "  </thead>\n",
       "  <tbody>\n",
       "    <tr>\n",
       "      <th>0</th>\n",
       "      <td>2019-02-01 01:00:00</td>\n",
       "      <td>2019-02-01 02:00:00</td>\n",
       "      <td>2019-02-01 01:00:00</td>\n",
       "      <td>2019-02-01</td>\n",
       "      <td>1</td>\n",
       "      <td>4</td>\n",
       "      <td>0</td>\n",
       "      <td>36.62123</td>\n",
       "      <td>36.04269</td>\n",
       "      <td>36.05743</td>\n",
       "      <td>19179.16</td>\n",
       "      <td>71.63</td>\n",
       "      <td>531.70</td>\n",
       "      <td>19782.49</td>\n",
       "      <td>-113560.63</td>\n",
       "      <td>318054.0</td>\n",
       "      <td>2.7</td>\n",
       "    </tr>\n",
       "    <tr>\n",
       "      <th>1</th>\n",
       "      <td>2019-02-01 02:00:00</td>\n",
       "      <td>2019-02-01 03:00:00</td>\n",
       "      <td>2019-02-01 02:00:00</td>\n",
       "      <td>2019-02-01</td>\n",
       "      <td>2</td>\n",
       "      <td>4</td>\n",
       "      <td>0</td>\n",
       "      <td>35.84812</td>\n",
       "      <td>35.15389</td>\n",
       "      <td>35.19706</td>\n",
       "      <td>19252.28</td>\n",
       "      <td>0.27</td>\n",
       "      <td>513.50</td>\n",
       "      <td>19766.05</td>\n",
       "      <td>-111822.96</td>\n",
       "      <td>328601.0</td>\n",
       "      <td>2.7</td>\n",
       "    </tr>\n",
       "    <tr>\n",
       "      <th>2</th>\n",
       "      <td>2019-02-01 03:00:00</td>\n",
       "      <td>2019-02-01 04:00:00</td>\n",
       "      <td>2019-02-01 03:00:00</td>\n",
       "      <td>2019-02-01</td>\n",
       "      <td>3</td>\n",
       "      <td>4</td>\n",
       "      <td>0</td>\n",
       "      <td>35.60431</td>\n",
       "      <td>34.87623</td>\n",
       "      <td>34.92977</td>\n",
       "      <td>18500.98</td>\n",
       "      <td>0.00</td>\n",
       "      <td>456.11</td>\n",
       "      <td>18957.09</td>\n",
       "      <td>-111927.13</td>\n",
       "      <td>322692.0</td>\n",
       "      <td>2.7</td>\n",
       "    </tr>\n",
       "    <tr>\n",
       "      <th>3</th>\n",
       "      <td>2019-02-01 04:00:00</td>\n",
       "      <td>2019-02-01 05:00:00</td>\n",
       "      <td>2019-02-01 04:00:00</td>\n",
       "      <td>2019-02-01</td>\n",
       "      <td>4</td>\n",
       "      <td>4</td>\n",
       "      <td>0</td>\n",
       "      <td>35.40240</td>\n",
       "      <td>34.69286</td>\n",
       "      <td>34.73189</td>\n",
       "      <td>17693.16</td>\n",
       "      <td>0.00</td>\n",
       "      <td>379.62</td>\n",
       "      <td>18072.78</td>\n",
       "      <td>-112259.17</td>\n",
       "      <td>313214.0</td>\n",
       "      <td>2.7</td>\n",
       "    </tr>\n",
       "    <tr>\n",
       "      <th>4</th>\n",
       "      <td>2019-02-01 05:00:00</td>\n",
       "      <td>2019-02-01 06:00:00</td>\n",
       "      <td>2019-02-01 05:00:00</td>\n",
       "      <td>2019-02-01</td>\n",
       "      <td>5</td>\n",
       "      <td>4</td>\n",
       "      <td>0</td>\n",
       "      <td>36.62816</td>\n",
       "      <td>36.03518</td>\n",
       "      <td>36.04623</td>\n",
       "      <td>16903.02</td>\n",
       "      <td>0.00</td>\n",
       "      <td>365.96</td>\n",
       "      <td>17268.98</td>\n",
       "      <td>-105529.79</td>\n",
       "      <td>297274.0</td>\n",
       "      <td>2.7</td>\n",
       "    </tr>\n",
       "    <tr>\n",
       "      <th>5</th>\n",
       "      <td>2019-02-01 06:00:00</td>\n",
       "      <td>2019-02-01 07:00:00</td>\n",
       "      <td>2019-02-01 06:00:00</td>\n",
       "      <td>2019-02-01</td>\n",
       "      <td>6</td>\n",
       "      <td>4</td>\n",
       "      <td>0</td>\n",
       "      <td>42.66307</td>\n",
       "      <td>42.53757</td>\n",
       "      <td>42.32983</td>\n",
       "      <td>16003.96</td>\n",
       "      <td>0.01</td>\n",
       "      <td>386.10</td>\n",
       "      <td>16390.07</td>\n",
       "      <td>-81263.49</td>\n",
       "      <td>274602.0</td>\n",
       "      <td>2.7</td>\n",
       "    </tr>\n",
       "    <tr>\n",
       "      <th>6</th>\n",
       "      <td>2019-02-01 07:00:00</td>\n",
       "      <td>2019-02-01 08:00:00</td>\n",
       "      <td>2019-02-01 07:00:00</td>\n",
       "      <td>2019-02-01</td>\n",
       "      <td>7</td>\n",
       "      <td>4</td>\n",
       "      <td>0</td>\n",
       "      <td>49.38471</td>\n",
       "      <td>49.40988</td>\n",
       "      <td>49.15312</td>\n",
       "      <td>14592.71</td>\n",
       "      <td>0.00</td>\n",
       "      <td>407.26</td>\n",
       "      <td>14999.97</td>\n",
       "      <td>-75079.04</td>\n",
       "      <td>254851.0</td>\n",
       "      <td>2.7</td>\n",
       "    </tr>\n",
       "    <tr>\n",
       "      <th>7</th>\n",
       "      <td>2019-02-01 08:00:00</td>\n",
       "      <td>2019-02-01 09:00:00</td>\n",
       "      <td>2019-02-01 08:00:00</td>\n",
       "      <td>2019-02-01</td>\n",
       "      <td>8</td>\n",
       "      <td>4</td>\n",
       "      <td>0</td>\n",
       "      <td>47.22895</td>\n",
       "      <td>46.39359</td>\n",
       "      <td>46.36495</td>\n",
       "      <td>13918.42</td>\n",
       "      <td>0.00</td>\n",
       "      <td>417.00</td>\n",
       "      <td>14335.42</td>\n",
       "      <td>-72921.51</td>\n",
       "      <td>240036.0</td>\n",
       "      <td>2.7</td>\n",
       "    </tr>\n",
       "    <tr>\n",
       "      <th>8</th>\n",
       "      <td>2019-02-01 09:00:00</td>\n",
       "      <td>2019-02-01 10:00:00</td>\n",
       "      <td>2019-02-01 09:00:00</td>\n",
       "      <td>2019-02-01</td>\n",
       "      <td>9</td>\n",
       "      <td>4</td>\n",
       "      <td>0</td>\n",
       "      <td>36.90737</td>\n",
       "      <td>35.80693</td>\n",
       "      <td>35.81805</td>\n",
       "      <td>13483.27</td>\n",
       "      <td>0.00</td>\n",
       "      <td>367.17</td>\n",
       "      <td>13850.44</td>\n",
       "      <td>-69956.07</td>\n",
       "      <td>230960.0</td>\n",
       "      <td>2.7</td>\n",
       "    </tr>\n",
       "    <tr>\n",
       "      <th>9</th>\n",
       "      <td>2019-02-01 10:00:00</td>\n",
       "      <td>2019-02-01 11:00:00</td>\n",
       "      <td>2019-02-01 10:00:00</td>\n",
       "      <td>2019-02-01</td>\n",
       "      <td>10</td>\n",
       "      <td>4</td>\n",
       "      <td>0</td>\n",
       "      <td>36.36025</td>\n",
       "      <td>34.62382</td>\n",
       "      <td>34.83681</td>\n",
       "      <td>13146.65</td>\n",
       "      <td>0.00</td>\n",
       "      <td>327.37</td>\n",
       "      <td>13474.02</td>\n",
       "      <td>-66876.65</td>\n",
       "      <td>225621.0</td>\n",
       "      <td>2.7</td>\n",
       "    </tr>\n",
       "    <tr>\n",
       "      <th>10</th>\n",
       "      <td>2019-02-01 11:00:00</td>\n",
       "      <td>2019-02-01 12:00:00</td>\n",
       "      <td>2019-02-01 11:00:00</td>\n",
       "      <td>2019-02-01</td>\n",
       "      <td>11</td>\n",
       "      <td>4</td>\n",
       "      <td>0</td>\n",
       "      <td>33.79055</td>\n",
       "      <td>31.95952</td>\n",
       "      <td>32.21012</td>\n",
       "      <td>13184.33</td>\n",
       "      <td>0.00</td>\n",
       "      <td>276.20</td>\n",
       "      <td>13460.53</td>\n",
       "      <td>-66556.68</td>\n",
       "      <td>224148.0</td>\n",
       "      <td>2.7</td>\n",
       "    </tr>\n",
       "    <tr>\n",
       "      <th>11</th>\n",
       "      <td>2019-02-01 12:00:00</td>\n",
       "      <td>2019-02-01 13:00:00</td>\n",
       "      <td>2019-02-01 12:00:00</td>\n",
       "      <td>2019-02-01</td>\n",
       "      <td>12</td>\n",
       "      <td>4</td>\n",
       "      <td>0</td>\n",
       "      <td>29.42322</td>\n",
       "      <td>27.83042</td>\n",
       "      <td>28.03097</td>\n",
       "      <td>14040.28</td>\n",
       "      <td>0.00</td>\n",
       "      <td>258.99</td>\n",
       "      <td>14299.27</td>\n",
       "      <td>-70900.34</td>\n",
       "      <td>231163.0</td>\n",
       "      <td>2.7</td>\n",
       "    </tr>\n",
       "    <tr>\n",
       "      <th>12</th>\n",
       "      <td>2019-02-01 13:00:00</td>\n",
       "      <td>2019-02-01 14:00:00</td>\n",
       "      <td>2019-02-01 13:00:00</td>\n",
       "      <td>2019-02-01</td>\n",
       "      <td>13</td>\n",
       "      <td>4</td>\n",
       "      <td>0</td>\n",
       "      <td>29.60504</td>\n",
       "      <td>27.88246</td>\n",
       "      <td>28.09851</td>\n",
       "      <td>15616.05</td>\n",
       "      <td>0.27</td>\n",
       "      <td>276.72</td>\n",
       "      <td>15893.04</td>\n",
       "      <td>-75913.95</td>\n",
       "      <td>249571.0</td>\n",
       "      <td>2.7</td>\n",
       "    </tr>\n",
       "    <tr>\n",
       "      <th>13</th>\n",
       "      <td>2019-02-01 14:00:00</td>\n",
       "      <td>2019-02-01 15:00:00</td>\n",
       "      <td>2019-02-01 14:00:00</td>\n",
       "      <td>2019-02-01</td>\n",
       "      <td>14</td>\n",
       "      <td>4</td>\n",
       "      <td>0</td>\n",
       "      <td>34.66121</td>\n",
       "      <td>32.81818</td>\n",
       "      <td>33.14020</td>\n",
       "      <td>16299.25</td>\n",
       "      <td>25.51</td>\n",
       "      <td>269.50</td>\n",
       "      <td>16594.26</td>\n",
       "      <td>-94490.40</td>\n",
       "      <td>278498.0</td>\n",
       "      <td>2.7</td>\n",
       "    </tr>\n",
       "    <tr>\n",
       "      <th>14</th>\n",
       "      <td>2019-02-01 15:00:00</td>\n",
       "      <td>2019-02-01 16:00:00</td>\n",
       "      <td>2019-02-01 15:00:00</td>\n",
       "      <td>2019-02-01</td>\n",
       "      <td>15</td>\n",
       "      <td>4</td>\n",
       "      <td>0</td>\n",
       "      <td>35.63610</td>\n",
       "      <td>34.31782</td>\n",
       "      <td>34.46706</td>\n",
       "      <td>16124.20</td>\n",
       "      <td>1138.74</td>\n",
       "      <td>237.40</td>\n",
       "      <td>17500.34</td>\n",
       "      <td>-97221.83</td>\n",
       "      <td>292818.0</td>\n",
       "      <td>2.7</td>\n",
       "    </tr>\n",
       "  </tbody>\n",
       "</table>\n",
       "</div>"
      ],
      "text/plain": [
       "     INTERVAL_START_PT     INTERVAL_END_PT     date_hour_start  OPR_DT_PT  \\\n",
       "0  2019-02-01 01:00:00 2019-02-01 02:00:00 2019-02-01 01:00:00 2019-02-01   \n",
       "1  2019-02-01 02:00:00 2019-02-01 03:00:00 2019-02-01 02:00:00 2019-02-01   \n",
       "2  2019-02-01 03:00:00 2019-02-01 04:00:00 2019-02-01 03:00:00 2019-02-01   \n",
       "3  2019-02-01 04:00:00 2019-02-01 05:00:00 2019-02-01 04:00:00 2019-02-01   \n",
       "4  2019-02-01 05:00:00 2019-02-01 06:00:00 2019-02-01 05:00:00 2019-02-01   \n",
       "5  2019-02-01 06:00:00 2019-02-01 07:00:00 2019-02-01 06:00:00 2019-02-01   \n",
       "6  2019-02-01 07:00:00 2019-02-01 08:00:00 2019-02-01 07:00:00 2019-02-01   \n",
       "7  2019-02-01 08:00:00 2019-02-01 09:00:00 2019-02-01 08:00:00 2019-02-01   \n",
       "8  2019-02-01 09:00:00 2019-02-01 10:00:00 2019-02-01 09:00:00 2019-02-01   \n",
       "9  2019-02-01 10:00:00 2019-02-01 11:00:00 2019-02-01 10:00:00 2019-02-01   \n",
       "10 2019-02-01 11:00:00 2019-02-01 12:00:00 2019-02-01 11:00:00 2019-02-01   \n",
       "11 2019-02-01 12:00:00 2019-02-01 13:00:00 2019-02-01 12:00:00 2019-02-01   \n",
       "12 2019-02-01 13:00:00 2019-02-01 14:00:00 2019-02-01 13:00:00 2019-02-01   \n",
       "13 2019-02-01 14:00:00 2019-02-01 15:00:00 2019-02-01 14:00:00 2019-02-01   \n",
       "14 2019-02-01 15:00:00 2019-02-01 16:00:00 2019-02-01 15:00:00 2019-02-01   \n",
       "\n",
       "    OPR_HR_PT  day_week  OPR_INTERVAL  $_MWH_np15  $_MWH_sp15  $_MWH_zp26  \\\n",
       "0           1         4             0    36.62123    36.04269    36.05743   \n",
       "1           2         4             0    35.84812    35.15389    35.19706   \n",
       "2           3         4             0    35.60431    34.87623    34.92977   \n",
       "3           4         4             0    35.40240    34.69286    34.73189   \n",
       "4           5         4             0    36.62816    36.03518    36.04623   \n",
       "5           6         4             0    42.66307    42.53757    42.32983   \n",
       "6           7         4             0    49.38471    49.40988    49.15312   \n",
       "7           8         4             0    47.22895    46.39359    46.36495   \n",
       "8           9         4             0    36.90737    35.80693    35.81805   \n",
       "9          10         4             0    36.36025    34.62382    34.83681   \n",
       "10         11         4             0    33.79055    31.95952    32.21012   \n",
       "11         12         4             0    29.42322    27.83042    28.03097   \n",
       "12         13         4             0    29.60504    27.88246    28.09851   \n",
       "13         14         4             0    34.66121    32.81818    33.14020   \n",
       "14         15         4             0    35.63610    34.31782    34.46706   \n",
       "\n",
       "       other    solar    wind  total_mw  net_exp_MW   load_MW  \\\n",
       "0   19179.16    71.63  531.70  19782.49  -113560.63  318054.0   \n",
       "1   19252.28     0.27  513.50  19766.05  -111822.96  328601.0   \n",
       "2   18500.98     0.00  456.11  18957.09  -111927.13  322692.0   \n",
       "3   17693.16     0.00  379.62  18072.78  -112259.17  313214.0   \n",
       "4   16903.02     0.00  365.96  17268.98  -105529.79  297274.0   \n",
       "5   16003.96     0.01  386.10  16390.07   -81263.49  274602.0   \n",
       "6   14592.71     0.00  407.26  14999.97   -75079.04  254851.0   \n",
       "7   13918.42     0.00  417.00  14335.42   -72921.51  240036.0   \n",
       "8   13483.27     0.00  367.17  13850.44   -69956.07  230960.0   \n",
       "9   13146.65     0.00  327.37  13474.02   -66876.65  225621.0   \n",
       "10  13184.33     0.00  276.20  13460.53   -66556.68  224148.0   \n",
       "11  14040.28     0.00  258.99  14299.27   -70900.34  231163.0   \n",
       "12  15616.05     0.27  276.72  15893.04   -75913.95  249571.0   \n",
       "13  16299.25    25.51  269.50  16594.26   -94490.40  278498.0   \n",
       "14  16124.20  1138.74  237.40  17500.34   -97221.83  292818.0   \n",
       "\n",
       "   HH_$_million_BTU_not_seasonal_adj  \n",
       "0                                2.7  \n",
       "1                                2.7  \n",
       "2                                2.7  \n",
       "3                                2.7  \n",
       "4                                2.7  \n",
       "5                                2.7  \n",
       "6                                2.7  \n",
       "7                                2.7  \n",
       "8                                2.7  \n",
       "9                                2.7  \n",
       "10                               2.7  \n",
       "11                               2.7  \n",
       "12                               2.7  \n",
       "13                               2.7  \n",
       "14                               2.7  "
      ]
     },
     "execution_count": 50,
     "metadata": {},
     "output_type": "execute_result"
    }
   ],
   "source": [
    "caiso_master.head(15)"
   ]
  },
  {
   "cell_type": "markdown",
   "metadata": {},
   "source": [
    "### Create Generation DF subset"
   ]
  },
  {
   "cell_type": "code",
   "execution_count": 40,
   "metadata": {},
   "outputs": [
    {
     "name": "stdout",
     "output_type": "stream",
     "text": [
      "<class 'pandas.core.frame.DataFrame'>\n",
      "Int64Index: 11272 entries, 16291 to 27562\n",
      "Data columns (total 2 columns):\n",
      "date_hour_start    11272 non-null datetime64[ns]\n",
      "load_MW            11272 non-null float64\n",
      "dtypes: datetime64[ns](1), float64(1)\n",
      "memory usage: 264.2 KB\n"
     ]
    }
   ],
   "source": [
    "# load_17_20['date_time'] = pd.to_datetime(load_17_20['date'] + ' ' + load_17_20['time'])\n",
    "# load_17_20['date_hour_start'] = load_17_20['date_time'].apply(lambda x: x.replace(microsecond=0,second=0, minute=0))\n",
    "# load_pivot = load_17_20.pivot_table(index='date_hour_start', values='load_MW', aggfunc='sum').reset_index()\n",
    "# load_pivot.sort_values(by='date_hour_start', inplace=True)\n",
    "# load_pivot.head()\n",
    "\n",
    "load_19_20.info()"
   ]
  },
  {
   "cell_type": "code",
   "execution_count": 42,
   "metadata": {},
   "outputs": [
    {
     "data": {
      "text/html": [
       "<div>\n",
       "<style scoped>\n",
       "    .dataframe tbody tr th:only-of-type {\n",
       "        vertical-align: middle;\n",
       "    }\n",
       "\n",
       "    .dataframe tbody tr th {\n",
       "        vertical-align: top;\n",
       "    }\n",
       "\n",
       "    .dataframe thead th {\n",
       "        text-align: right;\n",
       "    }\n",
       "</style>\n",
       "<table border=\"1\" class=\"dataframe\">\n",
       "  <thead>\n",
       "    <tr style=\"text-align: right;\">\n",
       "      <th></th>\n",
       "      <th>date_hour_start</th>\n",
       "      <th>load_MW</th>\n",
       "    </tr>\n",
       "  </thead>\n",
       "  <tbody>\n",
       "    <tr>\n",
       "      <th>27558</th>\n",
       "      <td>2020-05-30 20:00:00</td>\n",
       "      <td>244254.09</td>\n",
       "    </tr>\n",
       "    <tr>\n",
       "      <th>27559</th>\n",
       "      <td>2020-05-30 21:00:00</td>\n",
       "      <td>256453.21</td>\n",
       "    </tr>\n",
       "    <tr>\n",
       "      <th>27560</th>\n",
       "      <td>2020-05-30 22:00:00</td>\n",
       "      <td>267261.21</td>\n",
       "    </tr>\n",
       "    <tr>\n",
       "      <th>27561</th>\n",
       "      <td>2020-05-30 23:00:00</td>\n",
       "      <td>277929.30</td>\n",
       "    </tr>\n",
       "    <tr>\n",
       "      <th>27562</th>\n",
       "      <td>2020-05-31 00:00:00</td>\n",
       "      <td>291036.66</td>\n",
       "    </tr>\n",
       "  </tbody>\n",
       "</table>\n",
       "</div>"
      ],
      "text/plain": [
       "          date_hour_start    load_MW\n",
       "27558 2020-05-30 20:00:00  244254.09\n",
       "27559 2020-05-30 21:00:00  256453.21\n",
       "27560 2020-05-30 22:00:00  267261.21\n",
       "27561 2020-05-30 23:00:00  277929.30\n",
       "27562 2020-05-31 00:00:00  291036.66"
      ]
     },
     "execution_count": 42,
     "metadata": {},
     "output_type": "execute_result"
    }
   ],
   "source": [
    "load_19_20.tail()"
   ]
  },
  {
   "cell_type": "markdown",
   "metadata": {},
   "source": [
    "### Create Net Export DF subset"
   ]
  },
  {
   "cell_type": "code",
   "execution_count": 47,
   "metadata": {},
   "outputs": [
    {
     "data": {
      "text/plain": [
       "Index(['Unnamed: 0', 'net_exp_MW', 'freq', 'market', 'date', 'time',\n",
       "       'date_time', 'date_hour_start'],\n",
       "      dtype='object')"
      ]
     },
     "execution_count": 47,
     "metadata": {},
     "output_type": "execute_result"
    }
   ],
   "source": [
    "net_ex_17_20.columns"
   ]
  },
  {
   "cell_type": "code",
   "execution_count": 48,
   "metadata": {},
   "outputs": [
    {
     "name": "stdout",
     "output_type": "stream",
     "text": [
      "<class 'pandas.core.frame.DataFrame'>\n",
      "Int64Index: 11272 entries, 16291 to 27562\n",
      "Data columns (total 2 columns):\n",
      "date_hour_start    11272 non-null datetime64[ns]\n",
      "net_exp_MW         11272 non-null float64\n",
      "dtypes: datetime64[ns](1), float64(1)\n",
      "memory usage: 264.2 KB\n"
     ]
    }
   ],
   "source": [
    "# net_ex_17_20['date_time'] = pd.to_datetime(net_ex_17_20['date'] + ' ' + net_ex_17_20['time'])\n",
    "# net_ex_17_20['date_hour_start'] = net_ex_17_20['date_time'].apply(lambda x: x.replace(microsecond=0,second=0, minute=0))\n",
    "# net_ex_pivot = net_ex_17_20.pivot_table(index='date_hour_start', values='net_exp_MW', aggfunc='sum').reset_index()\n",
    "# net_ex_pivot.sort_values(by='date_hour_start', inplace=True)\n",
    "# load_pivot.head()\n",
    "\n",
    "net_ex_19_20.info()"
   ]
  },
  {
   "cell_type": "markdown",
   "metadata": {},
   "source": [
    "#### Check"
   ]
  },
  {
   "cell_type": "code",
   "execution_count": 74,
   "metadata": {},
   "outputs": [
    {
     "name": "stdout",
     "output_type": "stream",
     "text": [
      "Total genereation + total import = 200039455.41\n",
      "Total consumption = 3145870543.61\n"
     ]
    }
   ],
   "source": []
  },
  {
   "cell_type": "code",
   "execution_count": 75,
   "metadata": {},
   "outputs": [
    {
     "data": {
      "text/plain": [
       "-1012493789.2"
      ]
     },
     "execution_count": 75,
     "metadata": {},
     "output_type": "execute_result"
    }
   ],
   "source": [
    "total_"
   ]
  },
  {
   "cell_type": "code",
   "execution_count": 77,
   "metadata": {},
   "outputs": [
    {
     "data": {
      "text/plain": [
       "1933337299.0"
      ]
     },
     "execution_count": 77,
     "metadata": {},
     "output_type": "execute_result"
    }
   ],
   "source": [
    "total_load - (total_gen - total_imp)"
   ]
  },
  {
   "cell_type": "markdown",
   "metadata": {},
   "source": [
    "### Merge All LMPs"
   ]
  },
  {
   "cell_type": "code",
   "execution_count": 93,
   "metadata": {},
   "outputs": [
    {
     "name": "stdout",
     "output_type": "stream",
     "text": [
      "<class 'pandas.core.frame.DataFrame'>\n",
      "Int64Index: 11519 entries, 0 to 11518\n",
      "Data columns (total 8 columns):\n",
      "INTERVAL_START_PT    11519 non-null datetime64[ns]\n",
      "INTERVAL_END_PT      11519 non-null datetime64[ns]\n",
      "OPR_DT_PT            11519 non-null object\n",
      "OPR_HR_PT            11519 non-null int64\n",
      "OPR_INTERVAL         11519 non-null int64\n",
      "$_MWH_np15           11519 non-null float64\n",
      "$_MWH_sp15           11519 non-null float64\n",
      "$_MWH                11519 non-null float64\n",
      "dtypes: datetime64[ns](2), float64(3), int64(2), object(1)\n",
      "memory usage: 809.9+ KB\n"
     ]
    }
   ],
   "source": []
  },
  {
   "cell_type": "code",
   "execution_count": 66,
   "metadata": {},
   "outputs": [
    {
     "data": {
      "text/html": [
       "<div>\n",
       "<style scoped>\n",
       "    .dataframe tbody tr th:only-of-type {\n",
       "        vertical-align: middle;\n",
       "    }\n",
       "\n",
       "    .dataframe tbody tr th {\n",
       "        vertical-align: top;\n",
       "    }\n",
       "\n",
       "    .dataframe thead th {\n",
       "        text-align: right;\n",
       "    }\n",
       "</style>\n",
       "<table border=\"1\" class=\"dataframe\">\n",
       "  <thead>\n",
       "    <tr style=\"text-align: right;\">\n",
       "      <th></th>\n",
       "      <th>INTERVAL_START_PT</th>\n",
       "      <th>INTERVAL_END_PT</th>\n",
       "      <th>OPR_DT_PT</th>\n",
       "      <th>OPR_HR_PT</th>\n",
       "      <th>OPR_INTERVAL</th>\n",
       "      <th>$_MWH_np15</th>\n",
       "      <th>$_MWH_sp15</th>\n",
       "      <th>$_MWH</th>\n",
       "    </tr>\n",
       "  </thead>\n",
       "  <tbody>\n",
       "    <tr>\n",
       "      <th>0</th>\n",
       "      <td>2019-02-01 01:00:00+00:00</td>\n",
       "      <td>2019-02-01 02:00:00+00:00</td>\n",
       "      <td>2019-02-01</td>\n",
       "      <td>1</td>\n",
       "      <td>0</td>\n",
       "      <td>36.62123</td>\n",
       "      <td>36.04269</td>\n",
       "      <td>36.05743</td>\n",
       "    </tr>\n",
       "    <tr>\n",
       "      <th>1</th>\n",
       "      <td>2019-02-01 02:00:00+00:00</td>\n",
       "      <td>2019-02-01 03:00:00+00:00</td>\n",
       "      <td>2019-02-01</td>\n",
       "      <td>2</td>\n",
       "      <td>0</td>\n",
       "      <td>35.84812</td>\n",
       "      <td>35.15389</td>\n",
       "      <td>35.19706</td>\n",
       "    </tr>\n",
       "    <tr>\n",
       "      <th>2</th>\n",
       "      <td>2019-02-01 03:00:00+00:00</td>\n",
       "      <td>2019-02-01 04:00:00+00:00</td>\n",
       "      <td>2019-02-01</td>\n",
       "      <td>3</td>\n",
       "      <td>0</td>\n",
       "      <td>35.60431</td>\n",
       "      <td>34.87623</td>\n",
       "      <td>34.92977</td>\n",
       "    </tr>\n",
       "    <tr>\n",
       "      <th>3</th>\n",
       "      <td>2019-02-01 04:00:00+00:00</td>\n",
       "      <td>2019-02-01 05:00:00+00:00</td>\n",
       "      <td>2019-02-01</td>\n",
       "      <td>4</td>\n",
       "      <td>0</td>\n",
       "      <td>35.40240</td>\n",
       "      <td>34.69286</td>\n",
       "      <td>34.73189</td>\n",
       "    </tr>\n",
       "    <tr>\n",
       "      <th>4</th>\n",
       "      <td>2019-02-01 05:00:00+00:00</td>\n",
       "      <td>2019-02-01 06:00:00+00:00</td>\n",
       "      <td>2019-02-01</td>\n",
       "      <td>5</td>\n",
       "      <td>0</td>\n",
       "      <td>36.62816</td>\n",
       "      <td>36.03518</td>\n",
       "      <td>36.04623</td>\n",
       "    </tr>\n",
       "  </tbody>\n",
       "</table>\n",
       "</div>"
      ],
      "text/plain": [
       "           INTERVAL_START_PT            INTERVAL_END_PT   OPR_DT_PT  \\\n",
       "0  2019-02-01 01:00:00+00:00  2019-02-01 02:00:00+00:00  2019-02-01   \n",
       "1  2019-02-01 02:00:00+00:00  2019-02-01 03:00:00+00:00  2019-02-01   \n",
       "2  2019-02-01 03:00:00+00:00  2019-02-01 04:00:00+00:00  2019-02-01   \n",
       "3  2019-02-01 04:00:00+00:00  2019-02-01 05:00:00+00:00  2019-02-01   \n",
       "4  2019-02-01 05:00:00+00:00  2019-02-01 06:00:00+00:00  2019-02-01   \n",
       "\n",
       "   OPR_HR_PT  OPR_INTERVAL  $_MWH_np15  $_MWH_sp15     $_MWH  \n",
       "0          1             0    36.62123    36.04269  36.05743  \n",
       "1          2             0    35.84812    35.15389  35.19706  \n",
       "2          3             0    35.60431    34.87623  34.92977  \n",
       "3          4             0    35.40240    34.69286  34.73189  \n",
       "4          5             0    36.62816    36.03518  36.04623  "
      ]
     },
     "execution_count": 66,
     "metadata": {},
     "output_type": "execute_result"
    }
   ],
   "source": [
    "all_lmp_19_20_clean.head()"
   ]
  },
  {
   "cell_type": "markdown",
   "metadata": {},
   "source": [
    "### Natural Gas"
   ]
  },
  {
   "cell_type": "code",
   "execution_count": 161,
   "metadata": {},
   "outputs": [
    {
     "data": {
      "text/html": [
       "<div>\n",
       "<style scoped>\n",
       "    .dataframe tbody tr th:only-of-type {\n",
       "        vertical-align: middle;\n",
       "    }\n",
       "\n",
       "    .dataframe tbody tr th {\n",
       "        vertical-align: top;\n",
       "    }\n",
       "\n",
       "    .dataframe thead th {\n",
       "        text-align: right;\n",
       "    }\n",
       "</style>\n",
       "<table border=\"1\" class=\"dataframe\">\n",
       "  <thead>\n",
       "    <tr style=\"text-align: right;\">\n",
       "      <th></th>\n",
       "      <th>date</th>\n",
       "      <th>HH_$_million_BTU_not_seasonal_adj</th>\n",
       "    </tr>\n",
       "  </thead>\n",
       "  <tbody>\n",
       "    <tr>\n",
       "      <th>0</th>\n",
       "      <td>DATE</td>\n",
       "      <td>DHHNGSP</td>\n",
       "    </tr>\n",
       "    <tr>\n",
       "      <th>1</th>\n",
       "      <td>2019-01-02</td>\n",
       "      <td>3.25</td>\n",
       "    </tr>\n",
       "    <tr>\n",
       "      <th>2</th>\n",
       "      <td>2019-01-03</td>\n",
       "      <td>2.72</td>\n",
       "    </tr>\n",
       "    <tr>\n",
       "      <th>3</th>\n",
       "      <td>2019-01-04</td>\n",
       "      <td>2.8</td>\n",
       "    </tr>\n",
       "    <tr>\n",
       "      <th>4</th>\n",
       "      <td>2019-01-07</td>\n",
       "      <td>2.74</td>\n",
       "    </tr>\n",
       "  </tbody>\n",
       "</table>\n",
       "</div>"
      ],
      "text/plain": [
       "         date HH_$_million_BTU_not_seasonal_adj\n",
       "0        DATE                           DHHNGSP\n",
       "1  2019-01-02                              3.25\n",
       "2  2019-01-03                              2.72\n",
       "3  2019-01-04                               2.8\n",
       "4  2019-01-07                              2.74"
      ]
     },
     "execution_count": 161,
     "metadata": {},
     "output_type": "execute_result"
    }
   ],
   "source": [
    "natgas_19_20.head()"
   ]
  },
  {
   "cell_type": "code",
   "execution_count": 163,
   "metadata": {},
   "outputs": [
    {
     "name": "stdout",
     "output_type": "stream",
     "text": [
      "<class 'pandas.core.frame.DataFrame'>\n",
      "RangeIndex: 375 entries, 0 to 374\n",
      "Data columns (total 2 columns):\n",
      "date                                 375 non-null datetime64[ns]\n",
      "HH_$_million_BTU_not_seasonal_adj    375 non-null object\n",
      "dtypes: datetime64[ns](1), object(1)\n",
      "memory usage: 5.9+ KB\n"
     ]
    }
   ],
   "source": [
    "\n",
    "natgas_19_20.info()"
   ]
  },
  {
   "cell_type": "markdown",
   "metadata": {},
   "source": [
    "### Create Master Dataframe All LMPs"
   ]
  }
 ],
 "metadata": {
  "kernelspec": {
   "display_name": "conda_python3",
   "language": "python",
   "name": "conda_python3"
  },
  "language_info": {
   "codemirror_mode": {
    "name": "ipython",
    "version": 3
   },
   "file_extension": ".py",
   "mimetype": "text/x-python",
   "name": "python",
   "nbconvert_exporter": "python",
   "pygments_lexer": "ipython3",
   "version": "3.6.5"
  }
 },
 "nbformat": 4,
 "nbformat_minor": 4
}
