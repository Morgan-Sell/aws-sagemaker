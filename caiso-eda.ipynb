{
 "cells": [
  {
   "cell_type": "code",
   "execution_count": 1,
   "metadata": {},
   "outputs": [],
   "source": [
    "import pandas as pd\n",
    "import numpy as np\n",
    "\n",
    "import matplotlib.pyplot as plt\n",
    "%matplotlib inline\n",
    "import seaborn as sns\n",
    "\n",
    "from datetime import datetime"
   ]
  },
  {
   "cell_type": "code",
   "execution_count": 2,
   "metadata": {},
   "outputs": [],
   "source": [
    "caiso_sp = 'SP15 EZ Gen DA LMP Peak'\n",
    "caiso_np = 'NP15 EZ Gen DA LMP Peak'"
   ]
  },
  {
   "cell_type": "markdown",
   "metadata": {},
   "source": [
    "---\n",
    "## ICE Wholesale Price 2014 to 2020"
   ]
  },
  {
   "cell_type": "code",
   "execution_count": 3,
   "metadata": {},
   "outputs": [],
   "source": [
    "# Time-related variables are \n",
    "ice_cols = ['price_hub', 'trade_date', 'delivery_start', 'delivery_end', 'high_price_$_mwh', 'low_price_$_mwh', 'wtd_avg_price_$_mwh', 'change', 'daily_vol_mwh', 'num_trades', 'num_counterparties']\n",
    "\n",
    "ice14 = pd.read_excel('data/ice_electric-2014final.xls', names=ice_cols)\n",
    "ice15 = pd.read_excel('data/ice_electric-2015final.xls', names=ice_cols)\n",
    "ice16 = pd.read_excel('data/ice_electric-2016final.xls', names=ice_cols)\n",
    "ice17 = pd.read_excel('data/ice_electric-2017final.xlsx', names=ice_cols)\n",
    "ice18 = pd.read_excel('data/ice_electric-2018final.xlsx', names=ice_cols)\n",
    "ice19 = pd.read_excel('data/ice_electric-2019final.xlsx', names=ice_cols)\n",
    "ice20 = pd.read_excel('data/ice_electric-2020.xlsx', names=ice_cols)\n",
    "\n",
    "ice_df_list=[ice14, ice15, ice16, ice17, ice18, ice19, ice20]\n",
    "init_years = list(range(14,21))"
   ]
  },
  {
   "cell_type": "code",
   "execution_count": 4,
   "metadata": {},
   "outputs": [],
   "source": [
    "def col_to_date(df):\n",
    "    for d in df:\n",
    "        d['trade_date'] = pd.to_datetime(d['trade_date'])\n",
    "        d['delivery_start'] = pd.to_datetime(d['delivery_start'])\n",
    "        d['delivery_end_date'] = pd.to_datetime(d['delivery_end_date'])"
   ]
  },
  {
   "cell_type": "code",
   "execution_count": 5,
   "metadata": {},
   "outputs": [],
   "source": [
    "def create_df_sub(df_list, hub_name, keys_names, dict_name):\n",
    "    for df, k in zip(df_list, keys_names):\n",
    "        dict_name[k] =  df[df['price_hub'] == hub_name].copy()\n",
    "        dict_name[k].drop('price_hub', axis=1, inplace=True)"
   ]
  },
  {
   "cell_type": "code",
   "execution_count": 6,
   "metadata": {},
   "outputs": [],
   "source": [
    "np_dict = {}\n",
    "sp_dict = {}\n",
    "create_df_sub(ice_df_list, caiso_np, init_years, np_dict)\n",
    "create_df_sub(ice_df_list, caiso_sp, init_years, sp_dict)"
   ]
  },
  {
   "cell_type": "code",
   "execution_count": 7,
   "metadata": {},
   "outputs": [],
   "source": [
    "np_df = pd.concat(np_dict.values()).reset_index()\n",
    "sp_df = pd.concat(sp_dict.values()).reset_index()"
   ]
  },
  {
   "cell_type": "code",
   "execution_count": 8,
   "metadata": {},
   "outputs": [
    {
     "data": {
      "text/html": [
       "<div>\n",
       "<style scoped>\n",
       "    .dataframe tbody tr th:only-of-type {\n",
       "        vertical-align: middle;\n",
       "    }\n",
       "\n",
       "    .dataframe tbody tr th {\n",
       "        vertical-align: top;\n",
       "    }\n",
       "\n",
       "    .dataframe thead th {\n",
       "        text-align: right;\n",
       "    }\n",
       "</style>\n",
       "<table border=\"1\" class=\"dataframe\">\n",
       "  <thead>\n",
       "    <tr style=\"text-align: right;\">\n",
       "      <th></th>\n",
       "      <th>index</th>\n",
       "      <th>trade_date</th>\n",
       "      <th>delivery_start</th>\n",
       "      <th>delivery_end</th>\n",
       "      <th>high_price_$_mwh</th>\n",
       "      <th>low_price_$_mwh</th>\n",
       "      <th>wtd_avg_price_$_mwh</th>\n",
       "      <th>change</th>\n",
       "      <th>daily_vol_mwh</th>\n",
       "      <th>num_trades</th>\n",
       "      <th>num_counterparties</th>\n",
       "    </tr>\n",
       "  </thead>\n",
       "  <tbody>\n",
       "    <tr>\n",
       "      <th>566</th>\n",
       "      <td>194</td>\n",
       "      <td>2020-02-10</td>\n",
       "      <td>2020-02-11</td>\n",
       "      <td>2020-02-11</td>\n",
       "      <td>28.00</td>\n",
       "      <td>28.00</td>\n",
       "      <td>28.00</td>\n",
       "      <td>-2.28</td>\n",
       "      <td>400</td>\n",
       "      <td>1</td>\n",
       "      <td>2</td>\n",
       "    </tr>\n",
       "    <tr>\n",
       "      <th>567</th>\n",
       "      <td>195</td>\n",
       "      <td>2020-03-10</td>\n",
       "      <td>2020-03-11</td>\n",
       "      <td>2020-03-11</td>\n",
       "      <td>31.50</td>\n",
       "      <td>31.50</td>\n",
       "      <td>31.50</td>\n",
       "      <td>3.50</td>\n",
       "      <td>400</td>\n",
       "      <td>1</td>\n",
       "      <td>2</td>\n",
       "    </tr>\n",
       "    <tr>\n",
       "      <th>568</th>\n",
       "      <td>196</td>\n",
       "      <td>2020-03-11</td>\n",
       "      <td>2020-03-12</td>\n",
       "      <td>2020-03-12</td>\n",
       "      <td>35.25</td>\n",
       "      <td>35.25</td>\n",
       "      <td>35.25</td>\n",
       "      <td>3.75</td>\n",
       "      <td>800</td>\n",
       "      <td>2</td>\n",
       "      <td>2</td>\n",
       "    </tr>\n",
       "    <tr>\n",
       "      <th>569</th>\n",
       "      <td>197</td>\n",
       "      <td>2020-04-13</td>\n",
       "      <td>2020-04-14</td>\n",
       "      <td>2020-04-14</td>\n",
       "      <td>23.00</td>\n",
       "      <td>23.00</td>\n",
       "      <td>23.00</td>\n",
       "      <td>-12.25</td>\n",
       "      <td>400</td>\n",
       "      <td>1</td>\n",
       "      <td>2</td>\n",
       "    </tr>\n",
       "    <tr>\n",
       "      <th>570</th>\n",
       "      <td>198</td>\n",
       "      <td>2020-04-30</td>\n",
       "      <td>2020-05-01</td>\n",
       "      <td>2020-05-02</td>\n",
       "      <td>13.75</td>\n",
       "      <td>13.50</td>\n",
       "      <td>13.60</td>\n",
       "      <td>-9.40</td>\n",
       "      <td>4000</td>\n",
       "      <td>5</td>\n",
       "      <td>3</td>\n",
       "    </tr>\n",
       "  </tbody>\n",
       "</table>\n",
       "</div>"
      ],
      "text/plain": [
       "     index trade_date delivery_start delivery_end  high_price_$_mwh  \\\n",
       "566    194 2020-02-10     2020-02-11   2020-02-11             28.00   \n",
       "567    195 2020-03-10     2020-03-11   2020-03-11             31.50   \n",
       "568    196 2020-03-11     2020-03-12   2020-03-12             35.25   \n",
       "569    197 2020-04-13     2020-04-14   2020-04-14             23.00   \n",
       "570    198 2020-04-30     2020-05-01   2020-05-02             13.75   \n",
       "\n",
       "     low_price_$_mwh  wtd_avg_price_$_mwh  change  daily_vol_mwh  num_trades  \\\n",
       "566            28.00                28.00   -2.28            400           1   \n",
       "567            31.50                31.50    3.50            400           1   \n",
       "568            35.25                35.25    3.75            800           2   \n",
       "569            23.00                23.00  -12.25            400           1   \n",
       "570            13.50                13.60   -9.40           4000           5   \n",
       "\n",
       "     num_counterparties  \n",
       "566                   2  \n",
       "567                   2  \n",
       "568                   2  \n",
       "569                   2  \n",
       "570                   3  "
      ]
     },
     "execution_count": 8,
     "metadata": {},
     "output_type": "execute_result"
    }
   ],
   "source": [
    "np_df.tail()\n"
   ]
  },
  {
   "cell_type": "code",
   "execution_count": 10,
   "metadata": {},
   "outputs": [],
   "source": [
    "np_date_df = pd.DataFrame({'trade_date':pd.date_range(start='2014-01-01', end='2020-05-19')})\n",
    "np_df_14_now = pd.merge(np_date_df, np_df, on='trade_date', how='left')\n",
    "sp_date_df = pd.DataFrame({'trade_date':pd.date_range(start='2014-01-01', end='2020-05-19')})\n",
    "sp_df_14_now = pd.merge(sp_date_df, sp_df, on='trade_date', how='left')"
   ]
  },
  {
   "cell_type": "code",
   "execution_count": 15,
   "metadata": {},
   "outputs": [
    {
     "data": {
      "text/plain": [
       "Text(0.5, 1.0, 'NP Price - 2014 to Present')"
      ]
     },
     "execution_count": 15,
     "metadata": {},
     "output_type": "execute_result"
    },
    {
     "data": {
      "image/png": "[encoded data removed]",
      "text/plain": [
       "<Figure size 432x288 with 1 Axes>"
      ]
     },
     "metadata": {},
     "output_type": "display_data"
    }
   ],
   "source": [
    "sns.heatmap(np_df_14_now.isnull(), yticklabels=False, cbar=False, cmap='viridis')\n",
    "plt.title('NP Price - 2014 to Present', fontsize=16)"
   ]
  },
  {
   "cell_type": "code",
   "execution_count": 22,
   "metadata": {},
   "outputs": [
    {
     "data": {
      "text/html": [
       "<div>\n",
       "<style scoped>\n",
       "    .dataframe tbody tr th:only-of-type {\n",
       "        vertical-align: middle;\n",
       "    }\n",
       "\n",
       "    .dataframe tbody tr th {\n",
       "        vertical-align: top;\n",
       "    }\n",
       "\n",
       "    .dataframe thead th {\n",
       "        text-align: right;\n",
       "    }\n",
       "</style>\n",
       "<table border=\"1\" class=\"dataframe\">\n",
       "  <thead>\n",
       "    <tr style=\"text-align: right;\">\n",
       "      <th></th>\n",
       "      <th>trade_date</th>\n",
       "      <th>index</th>\n",
       "      <th>delivery_start</th>\n",
       "      <th>delivery_end</th>\n",
       "      <th>high_price_$_mwh</th>\n",
       "      <th>low_price_$_mwh</th>\n",
       "      <th>wtd_avg_price_$_mwh</th>\n",
       "      <th>change</th>\n",
       "      <th>daily_vol_mwh</th>\n",
       "      <th>num_trades</th>\n",
       "      <th>num_counterparties</th>\n",
       "    </tr>\n",
       "  </thead>\n",
       "  <tbody>\n",
       "    <tr>\n",
       "      <th>0</th>\n",
       "      <td>2014-01-01</td>\n",
       "      <td>NaN</td>\n",
       "      <td>NaT</td>\n",
       "      <td>NaT</td>\n",
       "      <td>NaN</td>\n",
       "      <td>NaN</td>\n",
       "      <td>NaN</td>\n",
       "      <td>NaN</td>\n",
       "      <td>NaN</td>\n",
       "      <td>NaN</td>\n",
       "      <td>NaN</td>\n",
       "    </tr>\n",
       "    <tr>\n",
       "      <th>1</th>\n",
       "      <td>2014-01-02</td>\n",
       "      <td>NaN</td>\n",
       "      <td>NaT</td>\n",
       "      <td>NaT</td>\n",
       "      <td>NaN</td>\n",
       "      <td>NaN</td>\n",
       "      <td>NaN</td>\n",
       "      <td>NaN</td>\n",
       "      <td>NaN</td>\n",
       "      <td>NaN</td>\n",
       "      <td>NaN</td>\n",
       "    </tr>\n",
       "    <tr>\n",
       "      <th>2</th>\n",
       "      <td>2014-01-03</td>\n",
       "      <td>NaN</td>\n",
       "      <td>NaT</td>\n",
       "      <td>NaT</td>\n",
       "      <td>NaN</td>\n",
       "      <td>NaN</td>\n",
       "      <td>NaN</td>\n",
       "      <td>NaN</td>\n",
       "      <td>NaN</td>\n",
       "      <td>NaN</td>\n",
       "      <td>NaN</td>\n",
       "    </tr>\n",
       "    <tr>\n",
       "      <th>3</th>\n",
       "      <td>2014-01-04</td>\n",
       "      <td>NaN</td>\n",
       "      <td>NaT</td>\n",
       "      <td>NaT</td>\n",
       "      <td>NaN</td>\n",
       "      <td>NaN</td>\n",
       "      <td>NaN</td>\n",
       "      <td>NaN</td>\n",
       "      <td>NaN</td>\n",
       "      <td>NaN</td>\n",
       "      <td>NaN</td>\n",
       "    </tr>\n",
       "    <tr>\n",
       "      <th>4</th>\n",
       "      <td>2014-01-05</td>\n",
       "      <td>NaN</td>\n",
       "      <td>NaT</td>\n",
       "      <td>NaT</td>\n",
       "      <td>NaN</td>\n",
       "      <td>NaN</td>\n",
       "      <td>NaN</td>\n",
       "      <td>NaN</td>\n",
       "      <td>NaN</td>\n",
       "      <td>NaN</td>\n",
       "      <td>NaN</td>\n",
       "    </tr>\n",
       "  </tbody>\n",
       "</table>\n",
       "</div>"
      ],
      "text/plain": [
       "  trade_date  index delivery_start delivery_end  high_price_$_mwh  \\\n",
       "0 2014-01-01    NaN            NaT          NaT               NaN   \n",
       "1 2014-01-02    NaN            NaT          NaT               NaN   \n",
       "2 2014-01-03    NaN            NaT          NaT               NaN   \n",
       "3 2014-01-04    NaN            NaT          NaT               NaN   \n",
       "4 2014-01-05    NaN            NaT          NaT               NaN   \n",
       "\n",
       "   low_price_$_mwh  wtd_avg_price_$_mwh  change  daily_vol_mwh  num_trades  \\\n",
       "0              NaN                  NaN     NaN            NaN         NaN   \n",
       "1              NaN                  NaN     NaN            NaN         NaN   \n",
       "2              NaN                  NaN     NaN            NaN         NaN   \n",
       "3              NaN                  NaN     NaN            NaN         NaN   \n",
       "4              NaN                  NaN     NaN            NaN         NaN   \n",
       "\n",
       "   num_counterparties  \n",
       "0                 NaN  \n",
       "1                 NaN  \n",
       "2                 NaN  \n",
       "3                 NaN  \n",
       "4                 NaN  "
      ]
     },
     "execution_count": 22,
     "metadata": {},
     "output_type": "execute_result"
    }
   ],
   "source": [
    "np_df_14_now.head()"
   ]
  },
  {
   "cell_type": "code",
   "execution_count": 14,
   "metadata": {},
   "outputs": [
    {
     "data": {
      "text/plain": [
       "Text(0.5, 1.0, 'SP Price - 2014 to Present')"
      ]
     },
     "execution_count": 14,
     "metadata": {},
     "output_type": "execute_result"
    },
    {
     "data": {
      "image/png": "[encoded data removed]",
      "text/plain": [
       "<Figure size 432x288 with 1 Axes>"
      ]
     },
     "metadata": {},
     "output_type": "display_data"
    }
   ],
   "source": [
    "sns.heatmap(sp_df_14_now.isnull(), yticklabels=False, cbar=False, cmap='viridis')\n",
    "plt.title('SP Price - 2014 to Present', fontsize=16)"
   ]
  },
  {
   "cell_type": "markdown",
   "metadata": {},
   "source": [
    "---\n",
    "## Create Master Dataset for CAISO NP-15 and SP-15"
   ]
  },
  {
   "cell_type": "code",
   "execution_count": 17,
   "metadata": {},
   "outputs": [],
   "source": [
    "ice_np_01_13 = pd.read_excel('data/NP 15 Hub.xls', names=ice_cols)\n",
    "ice_sp1_01_13 = pd.read_excel('data/SP 15_1 Hub.xls', names=ice_cols)\n",
    "ice_sp2_01_13 = pd.read_excel('data/SP 15_2 Hub.xls', names=ice_cols)\n",
    "\n",
    "ice_np_01_13.drop('price_hub', axis=1, inplace=True)\n",
    "ice_sp1_01_13.drop('price_hub', axis=1, inplace=True)\n",
    "ice_sp2_01_13.drop('price_hub', axis=1, inplace=True)\n",
    "\n",
    "calendar_01_now = pd.DataFrame({'trade_date':pd.date_range(start='2001-01-01', end='2020-05-19')})"
   ]
  },
  {
   "cell_type": "code",
   "execution_count": 104,
   "metadata": {},
   "outputs": [],
   "source": [
    "# Create master NP dataset from 1/1/01 to 5/19/20.\n",
    "# Remove duplicate values\n",
    "np_concat = pd.concat([np_df_01_13, np_df_14_now], axis=0, sort=False)\n",
    "np_master = pd.merge(calendar_01_now, np_concat, how='left', on='trade_date').reset_index()\n",
    "np_duplicate = np_master.duplicated(subset='trade_date', keep='first')\n",
    "np_dup_idx = np_duplicate[np_duplicate==True].index.values.tolist()\n",
    "np_master.drop(index=np_dup_idx, inplace=True)\n",
    "np_master.drop(['level_0', 'index'], axis=1, inplace=True)"
   ]
  },
  {
   "cell_type": "code",
   "execution_count": 105,
   "metadata": {},
   "outputs": [
    {
     "name": "stdout",
     "output_type": "stream",
     "text": [
      "<class 'pandas.core.frame.DataFrame'>\n",
      "Int64Index: 7079 entries, 0 to 7094\n",
      "Data columns (total 10 columns):\n",
      "trade_date             7079 non-null datetime64[ns]\n",
      "delivery_start         1565 non-null datetime64[ns]\n",
      "delivery_end           1565 non-null datetime64[ns]\n",
      "high_price_$_mwh       1565 non-null float64\n",
      "low_price_$_mwh        1565 non-null float64\n",
      "wtd_avg_price_$_mwh    1565 non-null float64\n",
      "change                 1564 non-null float64\n",
      "daily_vol_mwh          1565 non-null float64\n",
      "num_trades             1565 non-null float64\n",
      "num_counterparties     1565 non-null float64\n",
      "dtypes: datetime64[ns](3), float64(7)\n",
      "memory usage: 608.4 KB\n"
     ]
    }
   ],
   "source": [
    "# Remove trade_date duplicates.\n",
    "\n",
    "np_master.info()"
   ]
  },
  {
   "cell_type": "code",
   "execution_count": null,
   "metadata": {},
   "outputs": [],
   "source": [
    "plt.figure(figsize=(8,5))\n",
    "sns.heatmap(np_master.isnull(), yticklabels=False, cbar=False, cmap='viridis')\n",
    "plt.title('CAISO NP-15 - 1/1/01 to 5/19/20', fontsize=16, fontweight='bold');"
   ]
  },
  {
   "cell_type": "code",
   "execution_count": 107,
   "metadata": {},
   "outputs": [],
   "source": [
    "# Create master SP dataset from 1/1/01 to 5/19/20.\n",
    "# Remove duplicate values\n",
    "sp_concat = pd.concat([ice_sp1_01_13, ice_sp2_01_13, sp_df_14_now], axis=0, sort=False)\n",
    "sp_master = pd.merge(calendar_01_now, sp_concat, how='left', on='trade_date').reset_index()\n",
    "sp_duplicate = sp_master.duplicated(subset='trade_date', keep='first')\n",
    "sp_dup_idx = sp_duplicate[sp_duplicate==True].index.values.tolist()\n",
    "sp_master.drop(index=sp_dup_idx, inplace=True)\n",
    "sp_master.drop(['level_0', 'index'], axis=1, inplace=True)"
   ]
  },
  {
   "cell_type": "code",
   "execution_count": 108,
   "metadata": {},
   "outputs": [
    {
     "name": "stdout",
     "output_type": "stream",
     "text": [
      "<class 'pandas.core.frame.DataFrame'>\n",
      "Int64Index: 7079 entries, 0 to 7120\n",
      "Data columns (total 10 columns):\n",
      "trade_date             7079 non-null datetime64[ns]\n",
      "delivery_start         4603 non-null datetime64[ns]\n",
      "delivery_end           4603 non-null datetime64[ns]\n",
      "high_price_$_mwh       4603 non-null float64\n",
      "low_price_$_mwh        4603 non-null float64\n",
      "wtd_avg_price_$_mwh    4603 non-null float64\n",
      "change                 4602 non-null object\n",
      "daily_vol_mwh          4603 non-null float64\n",
      "num_trades             4603 non-null float64\n",
      "num_counterparties     4603 non-null float64\n",
      "dtypes: datetime64[ns](3), float64(6), object(1)\n",
      "memory usage: 608.4+ KB\n"
     ]
    }
   ],
   "source": [
    "sp_master.info()"
   ]
  },
  {
   "cell_type": "code",
   "execution_count": 110,
   "metadata": {},
   "outputs": [
    {
     "data": {
      "image/png": "[encoded data removed]",
      "text/plain": [
       "<Figure size 576x360 with 1 Axes>"
      ]
     },
     "metadata": {},
     "output_type": "display_data"
    }
   ],
   "source": [
    "plt.figure(figsize=(8,5))\n",
    "sns.heatmap(sp_master.isnull(), yticklabels=False, cbar=False, cmap='viridis')\n",
    "plt.title('CAISO SP-15 - 1/1/01 to 5/19/20', fontsize=16, fontweight='bold');"
   ]
  },
  {
   "cell_type": "markdown",
   "metadata": {},
   "source": [
    "---\n",
    "## Natural Gas"
   ]
  },
  {
   "cell_type": "code",
   "execution_count": 111,
   "metadata": {},
   "outputs": [
    {
     "data": {
      "text/html": [
       "<div>\n",
       "<style scoped>\n",
       "    .dataframe tbody tr th:only-of-type {\n",
       "        vertical-align: middle;\n",
       "    }\n",
       "\n",
       "    .dataframe tbody tr th {\n",
       "        vertical-align: top;\n",
       "    }\n",
       "\n",
       "    .dataframe thead th {\n",
       "        text-align: right;\n",
       "    }\n",
       "</style>\n",
       "<table border=\"1\" class=\"dataframe\">\n",
       "  <thead>\n",
       "    <tr style=\"text-align: right;\">\n",
       "      <th></th>\n",
       "      <th>trade_date</th>\n",
       "      <th>spot_price</th>\n",
       "    </tr>\n",
       "  </thead>\n",
       "  <tbody>\n",
       "    <tr>\n",
       "      <th>0</th>\n",
       "      <td>2001-01-01</td>\n",
       "      <td>NaN</td>\n",
       "    </tr>\n",
       "    <tr>\n",
       "      <th>1</th>\n",
       "      <td>2001-01-02</td>\n",
       "      <td>9.97</td>\n",
       "    </tr>\n",
       "    <tr>\n",
       "      <th>2</th>\n",
       "      <td>2001-01-03</td>\n",
       "      <td>9.71</td>\n",
       "    </tr>\n",
       "    <tr>\n",
       "      <th>3</th>\n",
       "      <td>2001-01-04</td>\n",
       "      <td>9.45</td>\n",
       "    </tr>\n",
       "    <tr>\n",
       "      <th>4</th>\n",
       "      <td>2001-01-05</td>\n",
       "      <td>10.03</td>\n",
       "    </tr>\n",
       "  </tbody>\n",
       "</table>\n",
       "</div>"
      ],
      "text/plain": [
       "  trade_date  spot_price\n",
       "0 2001-01-01         NaN\n",
       "1 2001-01-02        9.97\n",
       "2 2001-01-03        9.71\n",
       "3 2001-01-04        9.45\n",
       "4 2001-01-05       10.03"
      ]
     },
     "execution_count": 111,
     "metadata": {},
     "output_type": "execute_result"
    }
   ],
   "source": [
    "# Henry Hub Natural gas Spot Price (USD per Million Btu)\n",
    "natgas = pd.read_excel('data/nat_gas.xls',sheet_name='Data 1', names=['trade_date', 'spot_price'], skiprows=2)\n",
    "natgas_sub = natgas[natgas['trade_date'] > '2000-12-31'].copy().reset_index()\n",
    "calendar_01_now = pd.DataFrame({'trade_date':pd.date_range(start='2001-01-01', end='2020-05-19')})\n",
    "natgas_master = pd.merge(calendar_01_now, natgas, how='left', on='trade_date')\n",
    "natgas_master.head()"
   ]
  },
  {
   "cell_type": "code",
   "execution_count": 112,
   "metadata": {},
   "outputs": [
    {
     "name": "stdout",
     "output_type": "stream",
     "text": [
      "<class 'pandas.core.frame.DataFrame'>\n",
      "Int64Index: 7079 entries, 0 to 7078\n",
      "Data columns (total 2 columns):\n",
      "trade_date    7079 non-null datetime64[ns]\n",
      "spot_price    4881 non-null float64\n",
      "dtypes: datetime64[ns](1), float64(1)\n",
      "memory usage: 165.9 KB\n"
     ]
    }
   ],
   "source": [
    "natgas_master.info()"
   ]
  },
  {
   "cell_type": "code",
   "execution_count": 70,
   "metadata": {},
   "outputs": [
    {
     "data": {
      "text/html": [
       "<div>\n",
       "<style scoped>\n",
       "    .dataframe tbody tr th:only-of-type {\n",
       "        vertical-align: middle;\n",
       "    }\n",
       "\n",
       "    .dataframe tbody tr th {\n",
       "        vertical-align: top;\n",
       "    }\n",
       "\n",
       "    .dataframe thead th {\n",
       "        text-align: right;\n",
       "    }\n",
       "</style>\n",
       "<table border=\"1\" class=\"dataframe\">\n",
       "  <thead>\n",
       "    <tr style=\"text-align: right;\">\n",
       "      <th></th>\n",
       "      <th>index</th>\n",
       "      <th>trade_date</th>\n",
       "      <th>spot_price</th>\n",
       "    </tr>\n",
       "  </thead>\n",
       "  <tbody>\n",
       "    <tr>\n",
       "      <th>4883</th>\n",
       "      <td>5882</td>\n",
       "      <td>2020-05-21</td>\n",
       "      <td>1.75</td>\n",
       "    </tr>\n",
       "    <tr>\n",
       "      <th>4884</th>\n",
       "      <td>5883</td>\n",
       "      <td>2020-05-22</td>\n",
       "      <td>1.70</td>\n",
       "    </tr>\n",
       "    <tr>\n",
       "      <th>4885</th>\n",
       "      <td>5884</td>\n",
       "      <td>2020-05-26</td>\n",
       "      <td>1.79</td>\n",
       "    </tr>\n",
       "    <tr>\n",
       "      <th>4886</th>\n",
       "      <td>5885</td>\n",
       "      <td>2020-05-27</td>\n",
       "      <td>1.78</td>\n",
       "    </tr>\n",
       "    <tr>\n",
       "      <th>4887</th>\n",
       "      <td>5886</td>\n",
       "      <td>2020-05-28</td>\n",
       "      <td>1.79</td>\n",
       "    </tr>\n",
       "  </tbody>\n",
       "</table>\n",
       "</div>"
      ],
      "text/plain": [
       "      index trade_date  spot_price\n",
       "4883   5882 2020-05-21        1.75\n",
       "4884   5883 2020-05-22        1.70\n",
       "4885   5884 2020-05-26        1.79\n",
       "4886   5885 2020-05-27        1.78\n",
       "4887   5886 2020-05-28        1.79"
      ]
     },
     "execution_count": 70,
     "metadata": {},
     "output_type": "execute_result"
    }
   ],
   "source": [
    "natgas_sub.tail()"
   ]
  },
  {
   "cell_type": "code",
   "execution_count": 67,
   "metadata": {},
   "outputs": [],
   "source": [
    "natgas_sub_2 = natgas[natgas['trade_date'] > '2000-12-31'].copy().reset_index()"
   ]
  },
  {
   "cell_type": "code",
   "execution_count": null,
   "metadata": {},
   "outputs": [],
   "source": []
  }
 ],
 "metadata": {
  "kernelspec": {
   "display_name": "conda_python3",
   "language": "python",
   "name": "conda_python3"
  },
  "language_info": {
   "codemirror_mode": {
    "name": "ipython",
    "version": 3
   },
   "file_extension": ".py",
   "mimetype": "text/x-python",
   "name": "python",
   "nbconvert_exporter": "python",
   "pygments_lexer": "ipython3",
   "version": "3.6.5"
  }
 },
 "nbformat": 4,
 "nbformat_minor": 4
}
