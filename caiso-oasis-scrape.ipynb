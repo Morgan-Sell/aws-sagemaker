{
 "cells": [
  {
   "cell_type": "code",
   "execution_count": 42,
   "metadata": {},
   "outputs": [
    {
     "name": "stdout",
     "output_type": "stream",
     "text": [
      "Requirement already up-to-date: pip in /home/ec2-user/anaconda3/envs/python3/lib/python3.6/site-packages (20.1.1)\n",
      "Requirement already up-to-date: selenium in /home/ec2-user/anaconda3/envs/python3/lib/python3.6/site-packages (3.141.0)\n",
      "Requirement already satisfied, skipping upgrade: urllib3 in /home/ec2-user/anaconda3/envs/python3/lib/python3.6/site-packages (from selenium) (1.23)\n",
      "Collecting webdriver-manager\n",
      "  Downloading webdriver_manager-2.5.3-py2.py3-none-any.whl (15 kB)\n",
      "Collecting crayons\n",
      "  Downloading crayons-0.3.0-py2.py3-none-any.whl (4.6 kB)\n",
      "Collecting configparser\n",
      "  Downloading configparser-5.0.0-py3-none-any.whl (22 kB)\n",
      "Requirement already satisfied: requests in /home/ec2-user/anaconda3/envs/python3/lib/python3.6/site-packages (from webdriver-manager) (2.20.0)\n",
      "Requirement already satisfied: colorama in /home/ec2-user/anaconda3/envs/python3/lib/python3.6/site-packages (from crayons->webdriver-manager) (0.3.9)\n",
      "Requirement already satisfied: idna<2.8,>=2.5 in /home/ec2-user/anaconda3/envs/python3/lib/python3.6/site-packages (from requests->webdriver-manager) (2.6)\n",
      "Requirement already satisfied: certifi>=2017.4.17 in /home/ec2-user/anaconda3/envs/python3/lib/python3.6/site-packages (from requests->webdriver-manager) (2019.11.28)\n",
      "Requirement already satisfied: urllib3<1.25,>=1.21.1 in /home/ec2-user/anaconda3/envs/python3/lib/python3.6/site-packages (from requests->webdriver-manager) (1.23)\n",
      "Requirement already satisfied: chardet<3.1.0,>=3.0.2 in /home/ec2-user/anaconda3/envs/python3/lib/python3.6/site-packages (from requests->webdriver-manager) (3.0.4)\n",
      "Installing collected packages: crayons, configparser, webdriver-manager\n",
      "Successfully installed configparser-5.0.0 crayons-0.3.0 webdriver-manager-2.5.3\n"
     ]
    }
   ],
   "source": [
    "!pip install --upgrade pip\n",
    "!pip install -U selenium\n",
    "!pip install webdriver-manager"
   ]
  },
  {
   "cell_type": "code",
   "execution_count": 44,
   "metadata": {},
   "outputs": [],
   "source": [
    "import pandas as pd\n",
    "import numpy as np\n",
    "\n",
    "from bs4 import BeautifulSoup\n",
    "import requests\n",
    "from selenium import webdriver\n",
    "from selenium.webdriver.common.keys import Keys\n",
    "from webdriver_manager.chrome import ChromeDriverManager\n",
    "\n",
    "from datetime import datetime"
   ]
  },
  {
   "cell_type": "code",
   "execution_count": 14,
   "metadata": {},
   "outputs": [],
   "source": [
    "market = 'DAM'\n",
    "group = 'SELECT_NODES'\n",
    "base_url_oasis = 'http://oasis.caiso.com/mrioasis/logon.do'\n",
    "base_url_oasis_2 = 'http://oasis.caiso.com/oasisapi/SingleZip'\n",
    "np15_pnode = 'NP15SLAK_5_N001'\n",
    "sp15_pnode = 'SP26SLAK_5_N001'\n",
    "zp26_pnode = 'ZP26SLAK_5_N001'\n",
    "base_payload = {'version': 1}\n",
    "oasis_request_time_format = '%Y%m%dT%H:%M-0000'"
   ]
  },
  {
   "cell_type": "markdown",
   "metadata": {},
   "source": [
    "The returned files will use the following naming convention for singlezip:\n",
    "`startdate_enddate_Report Name_MktRunID_Stamp#_Version.Zip`\n",
    "\n",
    "Within this zip file, the XML file will use the following naming convention:\n",
    "`startdate_enddate_Report Name_MktRunID_Stamp#_Version.XML`\n",
    "\n",
    "The returned files will use the following naming convention for groupzip:\n",
    "`startdate_startDate_GroupID_N_xml_Version.Zip`\n",
    "\n",
    "Within this zip file, the XML file will use the following naming convention:\n",
    "`startdate_startdate_Report Name_MktRunID_Version.XML`\n",
    "\n",
    "`20131013_20131013_CB_NODAL_LMT_GRP_N_N_v1_csv.zip`\n",
    "\n",
    "---\n",
    "Frequency of requests:\n",
    "\n",
    "Should be based on the results from monitoring the Publication and Revisions log for both current real-time and\n",
    "post-market corrections\n",
    "\n",
    "Postings to the log will occur approximately every 5 minutes for current real-time market publication\n",
    "Use Case #1: User needs to detect the most recent Interval LMP data for the three Trading Hubs. (TH_NP15_GEN-APND,\n",
    "TH_SP15_GEN-APND, TH_ZP26_GEN-APND)\n",
    "\n",
    "Recommended Query: PRC_CURR_HUB_LMP\n",
    "\n",
    "The PRC_CURR_HUB_LMP query returns the most recent Interval LMP data for the three Trading Hubs. (TH_NP15_GENAPND, TH_SP15_GEN-APND, TH_ZP26_GEN-APND) This data is cached.\n",
    "\n",
    "Sample Query:\n",
    "http://oasis.caiso.com/oasisapi/SingleZip?queryname=PRC_CURR_HUB_LMP&startdatetime=20160418T07:00-0000&enddatetime=20160419T07:00-0000&version=1\n"
   ]
  },
  {
   "cell_type": "code",
   "execution_count": 2,
   "metadata": {},
   "outputs": [],
   "source": [
    "test_url = 'http://oasis.caiso.com/oasisapi/SingleZip?queryname=PRC_CURR_HUB_LMP&startdatetime=20160418T07:00-0000&enddatetime=20160419T07:00-0000&version=1'"
   ]
  },
  {
   "cell_type": "code",
   "execution_count": 5,
   "metadata": {},
   "outputs": [
    {
     "data": {
      "text/plain": [
       "<Response [200]>"
      ]
     },
     "execution_count": 5,
     "metadata": {},
     "output_type": "execute_result"
    }
   ],
   "source": [
    "page_response = requests.get(test_url, timeout=5)\n",
    "page_response"
   ]
  },
  {
   "cell_type": "code",
   "execution_count": 19,
   "metadata": {},
   "outputs": [],
   "source": [
    "page_content = BeautifulSoup(page_response.content, \"html5lib\", from_encoding=\"iso-8859-1\")"
   ]
  },
  {
   "cell_type": "code",
   "execution_count": 20,
   "metadata": {},
   "outputs": [
    {
     "name": "stdout",
     "output_type": "stream",
     "text": [
      "<html><head></head><body>PK\u0003\u0004šµÁP=20200601_20200601_PRC_CURR_HUB_LMP_N_20200601_22_44_52_v1.xmlíY[oÚ0\u0014~Ï¯°Ð¤=�C\n",
      "Ý„ÜTið \u001a¹(q:µ/‘\t.d‚\u0018a\u0017Ú?‡[PAZ»¶{!/IÎÅçòåœãDF×O³)X²…Èx~Uk6ô\u001a`yÊGY&gt;¾ªÅäGý{íÚD¾\u00159QÈæ|!�Z�‹«ÚDÊy\u0007ÂÕjÕHi&amp;x#å3(8…\u0007ºÉ²Ùx\u0012£š©!—\tAÇ¬Ïèˆ-\u0014M²\u0019ëRÉLC7ôº~Y×\n",
      "¢·;­V§}Q×õŽ®#¸×ÑPÄ\u001f\u0017)3×¶\u0011ÜR\u001aºÝ\u0004n.\n",
      "½yÑT\u0017\u0004w,\n",
      "Á—&gt;·t@Ÿ§œŽ\u0014#$¾ºætÆLÛr\"\u001fÁõ³\u0012àÀ\u000fIâ\u0010ì–T\u001f[]\u001c",
      "\u0016ÁÜE…`\u0017Ì†R)Ý›A@TØ÷û5f\u0010Ú‰\u001d",
      "‡aÒ�o’�\u001b ¸\u0015¨h~’„Ü\u0005Ø\f",
      "‰«bÝQ\u001aŠ}×Œ£/Ðý5A° 4äx\u0004‡·ÖÀ¼Á=Çó\u001c",
      "¯‡àž§\u0002Âv\u0012à0Ù³.\n",
      "øŽ¸ÚÎ{™Ê–îZÄRTqÛ$­BMlßë%*\u0001\u0004K~±\"òãÐÆ‰g¹Ø$ý$\n",
      "ší¤‡½º\u0015xÝÂÃ¡\\C~\u0010\u0016æqù¢ÕKÚ3ËÔ\u0012/vMã[«LlÍ9Pˆˆ¥Bí¹äeÍ´Uµìjæ„ö�\tìuO\u0018hë§\f",
      "ìtU•Yƒ\u0018›J¶y(aÜÂö\u0001 Þ\u0007Æe\u0005â;AôÎ¾\u0012áÉÁuÞc\f",
      "{¸jÀ}í\u0018—�fËhýS\u001b¾\u000eÉsÙ\u000f&gt;\u001fÉs™gC²šjÇ\u0015ÔëWŸ\u0015ïý¬x\u001d",
      "†çÒ…Ÿ‰á¹ì\tÕ—Ù[fØÀ�¢ª\u0001ßÙ€¯\u0004±Ú\t&gt;ÄjŒUcì¸xªæûˆ_¢ªûþ\u000fŠç²›¾ñ§²ëDöÀrÜb\u000e¼ä˜dÂ@ÊsÉr)rÂ\u0004\u0003s:f\u0002Ð\u0005\u0003âqø›¥\u0012H\u000eÒ\tÍÇ\f",
      "¬29á�\u0012ä\\f)kÐeiVœ0¤‚�ÏA–?ðÅŒJÅ][§Y®\u0004ÅÊ,/\\›N3¥’g\u00148‘ÿU€\u0015\u001b\u0002‘I¶vZh,•MÉ\u0017J$ø”�\u0005\u0013så\"\u001bfÓL&gt;7T%”9h‡Ô.G¸9\u0001�G'#‡§8¦ö\u0007PKWc\u0001Câ\u0002&amp;\u001aPK\u0001\u0002\u0014šµÁPWc\u0001Câ\u0002&amp;\u001a=20200601_20200601_PRC_CURR_HUB_LMP_N_20200601_22_44_52_v1.xmlPK\u0005\u0006\u0001\u0001kM\u0003</body></html>\n"
     ]
    }
   ],
   "source": [
    "print(page_content)"
   ]
  },
  {
   "cell_type": "code",
   "execution_count": 21,
   "metadata": {},
   "outputs": [
    {
     "data": {
      "text/plain": [
       "200"
      ]
     },
     "execution_count": 21,
     "metadata": {},
     "output_type": "execute_result"
    }
   ],
   "source": [
    "page_response.status_code"
   ]
  },
  {
   "cell_type": "code",
   "execution_count": 8,
   "metadata": {},
   "outputs": [],
   "source": [
    "oasis_start = pd.date_range(start='2017-03-01', end='2020-05-01', freq='MS')\n",
    "oasis_end = pd.date_range(start='2017-03-31', end='2020-05-31', freq='M')"
   ]
  },
  {
   "cell_type": "code",
   "execution_count": 11,
   "metadata": {},
   "outputs": [
    {
     "ename": "AttributeError",
     "evalue": "'DatetimeIndex' object has no attribute 'iloc'",
     "output_type": "error",
     "traceback": [
      "\u001b[0;31m---------------------------------------------------------------------------\u001b[0m",
      "\u001b[0;31mAttributeError\u001b[0m                            Traceback (most recent call last)",
      "\u001b[0;32m<ipython-input-11-337fa3c90db9>\u001b[0m in \u001b[0;36m<module>\u001b[0;34m()\u001b[0m\n\u001b[0;32m----> 1\u001b[0;31m \u001b[0moasis_start\u001b[0m\u001b[0;34m.\u001b[0m\u001b[0miloc\u001b[0m\u001b[0;34m[\u001b[0m\u001b[0;36m0\u001b[0m\u001b[0;34m]\u001b[0m\u001b[0;34m\u001b[0m\u001b[0m\n\u001b[0m",
      "\u001b[0;31mAttributeError\u001b[0m: 'DatetimeIndex' object has no attribute 'iloc'"
     ]
    }
   ],
   "source": [
    "oasis_start.iloc[0]"
   ]
  },
  {
   "cell_type": "code",
   "execution_count": 30,
   "metadata": {},
   "outputs": [
    {
     "data": {
      "text/plain": [
       "200"
      ]
     },
     "execution_count": 30,
     "metadata": {},
     "output_type": "execute_result"
    }
   ],
   "source": [
    "timeout = 45\n",
    "startdatetime = oasis_start[0] \n",
    "enddatetime = oasis_end[0]\n",
    "payload = {\n",
    "    \"DropdownMenuItemIcon\" : \"Local Marginal Price\",\n",
    "    'queryname': 'PRC_CURR_HUB_LMP',\n",
    "    'startdatetime': startdatetime.strftime(oasis_request_time_format),\n",
    "    'enddatetime': enddatetime.strftime(oasis_request_time_format),\n",
    "    'version': 1,\n",
    "    'market': 'DAM',\n",
    "    'group' : 'SELECT_NODE',\n",
    "    'Node' : np15_pnode\n",
    "}\n",
    "response = requests.get(base_url_oasis, params=payload, timeout=timeout)\n",
    "response.status_code"
   ]
  },
  {
   "cell_type": "code",
   "execution_count": 31,
   "metadata": {},
   "outputs": [],
   "source": [
    "soup = BeautifulSoup(response.content, 'lxml')\n"
   ]
  },
  {
   "cell_type": "code",
   "execution_count": 34,
   "metadata": {},
   "outputs": [],
   "source": [
    "test_test = soup.find_all(['REPORT_DATA', 'report_data'])"
   ]
  },
  {
   "cell_type": "code",
   "execution_count": 35,
   "metadata": {},
   "outputs": [
    {
     "name": "stdout",
     "output_type": "stream",
     "text": [
      "[]\n"
     ]
    }
   ],
   "source": [
    "print(test_test)"
   ]
  },
  {
   "cell_type": "code",
   "execution_count": null,
   "metadata": {},
   "outputs": [],
   "source": [
    "def get_lmp_as_dataframe(node_id, startdatetime, enddatetime, queryname):\n",
    "    \"\"\"\n",
    "    Returns a pandas DataFrame with columns\n",
    "    INTERVALSTARTTIME_GMT, MW, XML_DATA_ITEM, LMP_TYPE and others.\n",
    "    Seperate rows for each LMP_TYPE (Congestion, Loss, Energy)\n",
    "    MW columns holds $/MW float.\n",
    "    If no data, returns an empty dataframe.\n",
    "    \"\"\"\n",
    "    # set args\n",
    "\n",
    "    timeout_seconds = 45\n",
    "    payload = {\n",
    "        'queryname': queryname,\n",
    "        'market_run_id': market_run_id,\n",
    "        'startdatetime': datetime.strptime(startdatetime,oasis_request_time_format),\n",
    "        'enddatetime': datetime.strptime(enddatetime, oasis_request_time_format),\n",
    "        'version': 1\n",
    "    }\n",
    "\n",
    "    response = request(base_url_oasis, params=payload)\n",
    "    else:\n",
    "        queryname = self.LMP_MARKETS[self.options['market']]\n",
    "\n",
    "    payload = self.construct_oasis_payload(queryname,\n",
    "                                           resultformat=6,  # csv\n",
    "                                           node=node_id)\n",
    "\n",
    "    # Fetch data\n",
    "    data = self.fetch_oasis(payload=payload, return_all_files=not(lmp_only))\n",
    "    # data will be a single csv-derived string if lmp_only==True\n",
    "    # data will be an array of csv-derived strings if lmp_only==False\n",
    "    if lmp_only is True:\n",
    "        # Turn into pandas Dataframe\n",
    "        if len(data) == 0:\n",
    "            return pd.DataFrame()\n",
    "\n",
    "        try:\n",
    "            str_data = BytesIO(data)    # Changed from StringIO for Python 3.4\n",
    "        except TypeError:\n",
    "            str_data = StringIO(data)\n",
    "\n",
    "        df = pd.DataFrame.from_csv(str_data, sep=\",\")\n",
    "\n",
    "        # strip congestion and loss prices\n",
    "        try:\n",
    "            df = df.ix[df['LMP_TYPE'] == 'LMP']\n",
    "        except KeyError:  # no good data\n",
    "            return pd.DataFrame()\n",
    "    else:\n",
    "        # data is an array of csv-derived strings\n",
    "        df = pd.DataFrame()\n",
    "        for thisFile in data:\n",
    "            # Turn into pandas Dataframe\n",
    "            try:\n",
    "                str_data = BytesIO(thisFile)  # Changed from StringIO for Python 3.4\n",
    "            except TypeError:\n",
    "                str_data = StringIO(thisFile)\n",
    "\n",
    "            tempDf = pd.DataFrame.from_csv(str_data, sep=\",\")\n",
    "\n",
    "            df = pd.concat([df, tempDf])\n",
    "        # Check to ensure good data\n",
    "        try:\n",
    "            df['LMP_TYPE'][0]\n",
    "        except KeyError:  # no good data\n",
    "            return pd.DataFrame()\n",
    "\n",
    "    return df"
   ]
  },
  {
   "cell_type": "markdown",
   "metadata": {},
   "source": [
    "---\n",
    "## Selenium"
   ]
  },
  {
   "cell_type": "code",
   "execution_count": 40,
   "metadata": {},
   "outputs": [],
   "source": [
    "start_date_id_elem = 'TB_3172509'\n",
    "end_date_id_elem = 'TB_3172510'\n",
    "market_id_elem = 'PFC_LMPMarketID'\n",
    "group_id_elem = 'TC_3172548'\n",
    "node_id_elem = 'SEL_3172500'\n"
   ]
  },
  {
   "cell_type": "code",
   "execution_count": 45,
   "metadata": {},
   "outputs": [
    {
     "ename": "ValueError",
     "evalue": "Could not get version for Chrome with this command: google-chrome --version || google-chrome-stable --version",
     "output_type": "error",
     "traceback": [
      "\u001b[0;31m---------------------------------------------------------------------------\u001b[0m",
      "\u001b[0;31mValueError\u001b[0m                                Traceback (most recent call last)",
      "\u001b[0;32m<ipython-input-45-07ee01362203>\u001b[0m in \u001b[0;36m<module>\u001b[0;34m()\u001b[0m\n\u001b[0;32m----> 1\u001b[0;31m \u001b[0mdriver\u001b[0m \u001b[0;34m=\u001b[0m \u001b[0mwebdriver\u001b[0m\u001b[0;34m.\u001b[0m\u001b[0mChrome\u001b[0m\u001b[0;34m(\u001b[0m\u001b[0mChromeDriverManager\u001b[0m\u001b[0;34m(\u001b[0m\u001b[0;34m)\u001b[0m\u001b[0;34m.\u001b[0m\u001b[0minstall\u001b[0m\u001b[0;34m(\u001b[0m\u001b[0;34m)\u001b[0m\u001b[0;34m)\u001b[0m\u001b[0;34m\u001b[0m\u001b[0m\n\u001b[0m\u001b[1;32m      2\u001b[0m \u001b[0mdriver\u001b[0m\u001b[0;34m.\u001b[0m\u001b[0mget\u001b[0m\u001b[0;34m(\u001b[0m\u001b[0;34m'http://oasis.caiso.com/mrioasis/logon.do'\u001b[0m\u001b[0;34m)\u001b[0m\u001b[0;34m\u001b[0m\u001b[0m\n\u001b[1;32m      3\u001b[0m \u001b[0;32massert\u001b[0m \u001b[0;34m'Local Marginal Prices'\u001b[0m \u001b[0;32min\u001b[0m \u001b[0mdriver\u001b[0m\u001b[0;34m\u001b[0m\u001b[0m\n\u001b[1;32m      4\u001b[0m \u001b[0;31m# elem = driver.find_element_by_id()\u001b[0m\u001b[0;34m\u001b[0m\u001b[0;34m\u001b[0m\u001b[0m\n",
      "\u001b[0;32m~/anaconda3/envs/python3/lib/python3.6/site-packages/webdriver_manager/chrome.py\u001b[0m in \u001b[0;36minstall\u001b[0;34m(self)\u001b[0m\n\u001b[1;32m     27\u001b[0m \u001b[0;34m\u001b[0m\u001b[0m\n\u001b[1;32m     28\u001b[0m     \u001b[0;32mdef\u001b[0m \u001b[0minstall\u001b[0m\u001b[0;34m(\u001b[0m\u001b[0mself\u001b[0m\u001b[0;34m)\u001b[0m\u001b[0;34m:\u001b[0m\u001b[0;34m\u001b[0m\u001b[0m\n\u001b[0;32m---> 29\u001b[0;31m         \u001b[0mdriver_path\u001b[0m \u001b[0;34m=\u001b[0m \u001b[0mself\u001b[0m\u001b[0;34m.\u001b[0m\u001b[0mdownload_driver\u001b[0m\u001b[0;34m(\u001b[0m\u001b[0mself\u001b[0m\u001b[0;34m.\u001b[0m\u001b[0mdriver\u001b[0m\u001b[0;34m)\u001b[0m\u001b[0;34m\u001b[0m\u001b[0m\n\u001b[0m\u001b[1;32m     30\u001b[0m \u001b[0;34m\u001b[0m\u001b[0m\n\u001b[1;32m     31\u001b[0m         \u001b[0mos\u001b[0m\u001b[0;34m.\u001b[0m\u001b[0mchmod\u001b[0m\u001b[0;34m(\u001b[0m\u001b[0mdriver_path\u001b[0m\u001b[0;34m,\u001b[0m \u001b[0;36m0o755\u001b[0m\u001b[0;34m)\u001b[0m\u001b[0;34m\u001b[0m\u001b[0m\n",
      "\u001b[0;32m~/anaconda3/envs/python3/lib/python3.6/site-packages/webdriver_manager/manager.py\u001b[0m in \u001b[0;36mdownload_driver\u001b[0;34m(self, driver)\u001b[0m\n\u001b[1;32m     35\u001b[0m \u001b[0;34m\u001b[0m\u001b[0m\n\u001b[1;32m     36\u001b[0m     \u001b[0;32mdef\u001b[0m \u001b[0mdownload_driver\u001b[0m\u001b[0;34m(\u001b[0m\u001b[0mself\u001b[0m\u001b[0;34m,\u001b[0m \u001b[0mdriver\u001b[0m\u001b[0;34m)\u001b[0m\u001b[0;34m:\u001b[0m\u001b[0;34m\u001b[0m\u001b[0m\n\u001b[0;32m---> 37\u001b[0;31m         \u001b[0mdriver_version\u001b[0m\u001b[0;34m,\u001b[0m \u001b[0mis_latest\u001b[0m \u001b[0;34m=\u001b[0m \u001b[0mself\u001b[0m\u001b[0;34m.\u001b[0m\u001b[0m__get_version_to_download\u001b[0m\u001b[0;34m(\u001b[0m\u001b[0mdriver\u001b[0m\u001b[0;34m)\u001b[0m\u001b[0;34m\u001b[0m\u001b[0m\n\u001b[0m\u001b[1;32m     38\u001b[0m \u001b[0;34m\u001b[0m\u001b[0m\n\u001b[1;32m     39\u001b[0m         cached_path = self.driver_cache.find_file_if_exists(driver.get_name(), driver.get_os_type(),\n",
      "\u001b[0;32m~/anaconda3/envs/python3/lib/python3.6/site-packages/webdriver_manager/manager.py\u001b[0m in \u001b[0;36m__get_version_to_download\u001b[0;34m(self, driver)\u001b[0m\n\u001b[1;32m     26\u001b[0m \u001b[0;34m\u001b[0m\u001b[0m\n\u001b[1;32m     27\u001b[0m         \u001b[0;32mif\u001b[0m \u001b[0mdriver_version\u001b[0m \u001b[0;34m==\u001b[0m \u001b[0;34m\"latest\"\u001b[0m\u001b[0;34m:\u001b[0m\u001b[0;34m\u001b[0m\u001b[0m\n\u001b[0;32m---> 28\u001b[0;31m             \u001b[0;32mreturn\u001b[0m \u001b[0mself\u001b[0m\u001b[0;34m.\u001b[0m\u001b[0m__get_latest_driver_version\u001b[0m\u001b[0;34m(\u001b[0m\u001b[0mdriver\u001b[0m\u001b[0;34m)\u001b[0m\u001b[0;34m,\u001b[0m \u001b[0;32mTrue\u001b[0m\u001b[0;34m\u001b[0m\u001b[0m\n\u001b[0m\u001b[1;32m     29\u001b[0m         \u001b[0;32mreturn\u001b[0m \u001b[0mdriver_version\u001b[0m\u001b[0;34m,\u001b[0m \u001b[0;32mFalse\u001b[0m\u001b[0;34m\u001b[0m\u001b[0m\n\u001b[1;32m     30\u001b[0m \u001b[0;34m\u001b[0m\u001b[0m\n",
      "\u001b[0;32m~/anaconda3/envs/python3/lib/python3.6/site-packages/webdriver_manager/manager.py\u001b[0m in \u001b[0;36m__get_latest_driver_version\u001b[0;34m(self, driver)\u001b[0m\n\u001b[1;32m     20\u001b[0m             \u001b[0;32mreturn\u001b[0m \u001b[0mlatest_cached\u001b[0m\u001b[0;34m\u001b[0m\u001b[0m\n\u001b[1;32m     21\u001b[0m \u001b[0;34m\u001b[0m\u001b[0m\n\u001b[0;32m---> 22\u001b[0;31m         \u001b[0;32mreturn\u001b[0m \u001b[0mdriver\u001b[0m\u001b[0;34m.\u001b[0m\u001b[0mget_latest_release_version\u001b[0m\u001b[0;34m(\u001b[0m\u001b[0;34m)\u001b[0m\u001b[0;34m\u001b[0m\u001b[0m\n\u001b[0m\u001b[1;32m     23\u001b[0m \u001b[0;34m\u001b[0m\u001b[0m\n\u001b[1;32m     24\u001b[0m     \u001b[0;32mdef\u001b[0m \u001b[0m__get_version_to_download\u001b[0m\u001b[0;34m(\u001b[0m\u001b[0mself\u001b[0m\u001b[0;34m,\u001b[0m \u001b[0mdriver\u001b[0m\u001b[0;34m)\u001b[0m\u001b[0;34m:\u001b[0m\u001b[0;34m\u001b[0m\u001b[0m\n",
      "\u001b[0;32m~/anaconda3/envs/python3/lib/python3.6/site-packages/webdriver_manager/driver.py\u001b[0m in \u001b[0;36mget_latest_release_version\u001b[0;34m(self)\u001b[0m\n\u001b[1;32m     56\u001b[0m     \u001b[0;32mdef\u001b[0m \u001b[0mget_latest_release_version\u001b[0m\u001b[0;34m(\u001b[0m\u001b[0mself\u001b[0m\u001b[0;34m)\u001b[0m\u001b[0;34m:\u001b[0m\u001b[0;34m\u001b[0m\u001b[0m\n\u001b[1;32m     57\u001b[0m         resp = requests.get(\n\u001b[0;32m---> 58\u001b[0;31m             self._latest_release_url + '_' + chrome_version(self.chrome_type))\n\u001b[0m\u001b[1;32m     59\u001b[0m         \u001b[0mvalidate_response\u001b[0m\u001b[0;34m(\u001b[0m\u001b[0mresp\u001b[0m\u001b[0;34m)\u001b[0m\u001b[0;34m\u001b[0m\u001b[0m\n\u001b[1;32m     60\u001b[0m         \u001b[0;32mreturn\u001b[0m \u001b[0mresp\u001b[0m\u001b[0;34m.\u001b[0m\u001b[0mtext\u001b[0m\u001b[0;34m.\u001b[0m\u001b[0mrstrip\u001b[0m\u001b[0;34m(\u001b[0m\u001b[0;34m)\u001b[0m\u001b[0;34m\u001b[0m\u001b[0m\n",
      "\u001b[0;32m~/anaconda3/envs/python3/lib/python3.6/site-packages/webdriver_manager/utils.py\u001b[0m in \u001b[0;36mchrome_version\u001b[0;34m(browser_type)\u001b[0m\n\u001b[1;32m    102\u001b[0m     \u001b[0mversion\u001b[0m \u001b[0;34m=\u001b[0m \u001b[0mre\u001b[0m\u001b[0;34m.\u001b[0m\u001b[0msearch\u001b[0m\u001b[0;34m(\u001b[0m\u001b[0mpattern\u001b[0m\u001b[0;34m,\u001b[0m \u001b[0mstdout\u001b[0m\u001b[0;34m)\u001b[0m\u001b[0;34m\u001b[0m\u001b[0m\n\u001b[1;32m    103\u001b[0m     \u001b[0;32mif\u001b[0m \u001b[0;32mnot\u001b[0m \u001b[0mversion\u001b[0m\u001b[0;34m:\u001b[0m\u001b[0;34m\u001b[0m\u001b[0m\n\u001b[0;32m--> 104\u001b[0;31m         \u001b[0;32mraise\u001b[0m \u001b[0mValueError\u001b[0m\u001b[0;34m(\u001b[0m\u001b[0;34mf'Could not get version for Chrome with this command: {cmd}'\u001b[0m\u001b[0;34m)\u001b[0m\u001b[0;34m\u001b[0m\u001b[0m\n\u001b[0m\u001b[1;32m    105\u001b[0m     \u001b[0mcurrent_version\u001b[0m \u001b[0;34m=\u001b[0m \u001b[0mversion\u001b[0m\u001b[0;34m.\u001b[0m\u001b[0mgroup\u001b[0m\u001b[0;34m(\u001b[0m\u001b[0;36m0\u001b[0m\u001b[0;34m)\u001b[0m\u001b[0;34m\u001b[0m\u001b[0m\n\u001b[1;32m    106\u001b[0m     \u001b[0mlog\u001b[0m\u001b[0;34m(\u001b[0m\u001b[0;34mf\"Current {browser_type} version {current_version}\"\u001b[0m\u001b[0;34m,\u001b[0m \u001b[0mfirst_line\u001b[0m\u001b[0;34m=\u001b[0m\u001b[0;32mTrue\u001b[0m\u001b[0;34m)\u001b[0m\u001b[0;34m\u001b[0m\u001b[0m\n",
      "\u001b[0;31mValueError\u001b[0m: Could not get version for Chrome with this command: google-chrome --version || google-chrome-stable --version"
     ]
    }
   ],
   "source": [
    "driver = webdriver.Chrome(ChromeDriverManager().install())\n",
    "driver.get('http://oasis.caiso.com/mrioasis/logon.do')\n",
    "assert 'Local Marginal Prices' in driver\n",
    "# elem = driver.find_element_by_id()"
   ]
  },
  {
   "cell_type": "code",
   "execution_count": null,
   "metadata": {},
   "outputs": [],
   "source": []
  }
 ],
 "metadata": {
  "kernelspec": {
   "display_name": "conda_python3",
   "language": "python",
   "name": "conda_python3"
  },
  "language_info": {
   "codemirror_mode": {
    "name": "ipython",
    "version": 3
   },
   "file_extension": ".py",
   "mimetype": "text/x-python",
   "name": "python",
   "nbconvert_exporter": "python",
   "pygments_lexer": "ipython3",
   "version": "3.6.5"
  }
 },
 "nbformat": 4,
 "nbformat_minor": 4
}
