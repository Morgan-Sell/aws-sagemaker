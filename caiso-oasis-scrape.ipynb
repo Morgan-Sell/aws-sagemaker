{
 "cells": [
  {
   "cell_type": "code",
   "execution_count": 1,
   "metadata": {},
   "outputs": [],
   "source": [
    "import pandas as pd\n",
    "import numpy as np\n",
    "\n",
    "from bs4 import BeautifulSoup\n",
    "import requests"
   ]
  },
  {
   "cell_type": "code",
   "execution_count": 23,
   "metadata": {},
   "outputs": [],
   "source": [
    "market = 'DAM'\n",
    "group = 'SELECT_NODES'\n",
    "base_url = 'http://oasis.caiso.com/mrioasis/logon.do'\n",
    "base_url_oasis = 'http://oasis.caiso.com/oasisapi/SingleZip'\n",
    "np15_pnode = 'NP15SLAK_5_N001'\n",
    "sp15_pnode = 'SP26SLAK_5_N001'\n",
    "zp26_pnode = 'ZP26SLAK_5_N001'\n",
    "base_payload = {'version': 1}"
   ]
  },
  {
   "cell_type": "markdown",
   "metadata": {},
   "source": [
    "The returned files will use the following naming convention for singlezip:\n",
    "`startdate_enddate_Report Name_MktRunID_Stamp#_Version.Zip`\n",
    "\n",
    "Within this zip file, the XML file will use the following naming convention:\n",
    "`startdate_enddate_Report Name_MktRunID_Stamp#_Version.XML`\n",
    "\n",
    "The returned files will use the following naming convention for groupzip:\n",
    "`startdate_startDate_GroupID_N_xml_Version.Zip`\n",
    "\n",
    "Within this zip file, the XML file will use the following naming convention:\n",
    "`startdate_startdate_Report Name_MktRunID_Version.XML`\n",
    "\n",
    "`20131013_20131013_CB_NODAL_LMT_GRP_N_N_v1_csv.zip`\n",
    "\n",
    "---\n",
    "Frequency of requests:\n",
    "\n",
    "Should be based on the results from monitoring the Publication and Revisions log for both current real-time and\n",
    "post-market corrections\n",
    "\n",
    "Postings to the log will occur approximately every 5 minutes for current real-time market publication\n",
    "Use Case #1: User needs to detect the most recent Interval LMP data for the three Trading Hubs. (TH_NP15_GEN-APND,\n",
    "TH_SP15_GEN-APND, TH_ZP26_GEN-APND)\n",
    "\n",
    "Recommended Query: PRC_CURR_HUB_LMP\n",
    "\n",
    "The PRC_CURR_HUB_LMP query returns the most recent Interval LMP data for the three Trading Hubs. (TH_NP15_GENAPND, TH_SP15_GEN-APND, TH_ZP26_GEN-APND) This data is cached.\n",
    "\n",
    "Sample Query:\n",
    "http://oasis.caiso.com/oasisapi/SingleZip?queryname=PRC_CURR_HUB_LMP&startdatetime=20160418T07:00-0000&enddatetime=20160419T07:00-0000&version=1\n"
   ]
  },
  {
   "cell_type": "code",
   "execution_count": 2,
   "metadata": {},
   "outputs": [],
   "source": [
    "test_url = 'http://oasis.caiso.com/oasisapi/SingleZip?queryname=PRC_CURR_HUB_LMP&startdatetime=20160418T07:00-0000&enddatetime=20160419T07:00-0000&version=1'"
   ]
  },
  {
   "cell_type": "code",
   "execution_count": 5,
   "metadata": {},
   "outputs": [
    {
     "data": {
      "text/plain": [
       "<Response [200]>"
      ]
     },
     "execution_count": 5,
     "metadata": {},
     "output_type": "execute_result"
    }
   ],
   "source": [
    "page_response = requests.get(test_url, timeout=5)\n",
    "page_response"
   ]
  },
  {
   "cell_type": "code",
   "execution_count": 19,
   "metadata": {},
   "outputs": [],
   "source": [
    "page_content = BeautifulSoup(page_response.content, \"html5lib\", from_encoding=\"iso-8859-1\")"
   ]
  },
  {
   "cell_type": "code",
   "execution_count": 20,
   "metadata": {},
   "outputs": [
    {
     "name": "stdout",
     "output_type": "stream",
     "text": [
      "<html><head></head><body>PK\u0003\u0004šµÁP=20200601_20200601_PRC_CURR_HUB_LMP_N_20200601_22_44_52_v1.xmlíY[oÚ0\u0014~Ï¯°Ð¤=�C\n",
      "Ý„ÜTið \u001a¹(q:µ/‘\t.d‚\u0018a\u0017Ú?‡[PAZ»¶{!/IÎÅçòåœãDF×O³)X²…Èx~Uk6ô\u001a`yÊGY&gt;¾ªÅäGý{íÚD¾\u00159QÈæ|!�Z�‹«ÚDÊy\u0007ÂÕjÕHi&amp;x#å3(8…\u0007ºÉ²Ùx\u0012£š©!—\tAÇ¬Ïèˆ-\u0014M²\u0019ëRÉLC7ôº~Y×\n",
      "¢·;­V§}Q×õŽ®#¸×ÑPÄ\u001f\u0017)3×¶\u0011ÜR\u001aºÝ\u0004n.\n",
      "½yÑT\u0017\u0004w,\n",
      "Á—&gt;·t@Ÿ§œŽ\u0014#$¾ºætÆLÛr\"\u001fÁõ³\u0012àÀ\u000fIâ\u0010ì–T\u001f[]\u001c",
      "\u0016ÁÜE…`\u0017Ì†R)Ý›A@TØ÷û5f\u0010Ú‰\u001d",
      "‡aÒ�o’�\u001b ¸\u0015¨h~’„Ü\u0005Ø\f",
      "‰«bÝQ\u001aŠ}×Œ£/Ðý5A° 4äx\u0004‡·ÖÀ¼Á=Çó\u001c",
      "¯‡àž§\u0002Âv\u0012à0Ù³.\n",
      "øŽ¸ÚÎ{™Ê–îZÄRTqÛ$­BMlßë%*\u0001\u0004K~±\"òãÐÆ‰g¹Ø$ý$\n",
      "ší¤‡½º\u0015xÝÂÃ¡\\C~\u0010\u0016æqù¢ÕKÚ3ËÔ\u0012/vMã[«LlÍ9Pˆˆ¥Bí¹äeÍ´Uµìjæ„ö�\tìuO\u0018hë§\f",
      "ìtU•Yƒ\u0018›J¶y(aÜÂö\u0001 Þ\u0007Æe\u0005â;AôÎ¾\u0012áÉÁuÞc\f",
      "{¸jÀ}í\u0018—�fËhýS\u001b¾\u000eÉsÙ\u000f&gt;\u001fÉs™gC²šjÇ\u0015ÔëWŸ\u0015ïý¬x\u001d",
      "†çÒ…Ÿ‰á¹ì\tÕ—Ù[fØÀ�¢ª\u0001ßÙ€¯\u0004±Ú\t&gt;ÄjŒUcì¸xªæûˆ_¢ªûþ\u000fŠç²›¾ñ§²ëDöÀrÜb\u000e¼ä˜dÂ@ÊsÉr)rÂ\u0004\u0003s:f\u0002Ð\u0005\u0003âqø›¥\u0012H\u000eÒ\tÍÇ\f",
      "¬29á�\u0012ä\\f)kÐeiVœ0¤‚�ÏA–?ðÅŒJÅ][§Y®\u0004ÅÊ,/\\›N3¥’g\u00148‘ÿU€\u0015\u001b\u0002‘I¶vZh,•MÉ\u0017J$ø”�\u0005\u0013så\"\u001bfÓL&gt;7T%”9h‡Ô.G¸9\u0001�G'#‡§8¦ö\u0007PKWc\u0001Câ\u0002&amp;\u001aPK\u0001\u0002\u0014šµÁPWc\u0001Câ\u0002&amp;\u001a=20200601_20200601_PRC_CURR_HUB_LMP_N_20200601_22_44_52_v1.xmlPK\u0005\u0006\u0001\u0001kM\u0003</body></html>\n"
     ]
    }
   ],
   "source": [
    "print(page_content)"
   ]
  },
  {
   "cell_type": "code",
   "execution_count": 21,
   "metadata": {},
   "outputs": [
    {
     "data": {
      "text/plain": [
       "200"
      ]
     },
     "execution_count": 21,
     "metadata": {},
     "output_type": "execute_result"
    }
   ],
   "source": [
    "page_response.status_code"
   ]
  },
  {
   "cell_type": "code",
   "execution_count": null,
   "metadata": {},
   "outputs": [],
   "source": [
    " response = self.request(self.base_url_oasis, params=payload)\n",
    "        if not response:\n",
    "            return default_return_val\n",
    "\n",
    "        # read data from zip\n",
    "        # This will be an array of content if successful, and None if unsuccessful\n",
    "        content = self.unzip(response.content)\n",
    "        if not content:\n",
    "            return default_return_val"
   ]
  }
 ],
 "metadata": {
  "kernelspec": {
   "display_name": "conda_python3",
   "language": "python",
   "name": "conda_python3"
  },
  "language_info": {
   "codemirror_mode": {
    "name": "ipython",
    "version": 3
   },
   "file_extension": ".py",
   "mimetype": "text/x-python",
   "name": "python",
   "nbconvert_exporter": "python",
   "pygments_lexer": "ipython3",
   "version": "3.6.5"
  }
 },
 "nbformat": 4,
 "nbformat_minor": 4
}
