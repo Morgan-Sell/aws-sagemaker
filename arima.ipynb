{
 "cells": [
  {
   "cell_type": "code",
   "execution_count": null,
   "metadata": {},
   "outputs": [],
   "source": []
  },
  {
   "cell_type": "code",
   "execution_count": null,
   "metadata": {},
   "outputs": [],
   "source": [
    "import itertools\n",
    "import numpy as np\n",
    "import pandas as pd\n",
    "import matplotlib.pyplot as plt\n",
    "%matlotlib inline\n",
    "import seaborn as sns\n",
    "\n",
    "from scipy import signal\n",
    "from scipy import stats\n",
    "\n",
    "from statsmodels.tsa.arima_model import ARIMA\n",
    "from statsmodels.tsa.arima_process import ArmaProcess\n",
    "from statsmodels.tsa.statesspace.sarimax import SARIMAX\n",
    "\n"
   ]
  },
  {
   "cell_type": "markdown",
   "metadata": {},
   "source": [
    "---\n",
    "# User-defined Functions"
   ]
  },
  {
   "cell_type": "code",
   "execution_count": null,
   "metadata": {},
   "outputs": [],
   "source": [
    "def fit_moving_average_trend(series, window=6):\n",
    "#    return pd.rolling_mean(series, window, center=True)\n",
    "    return series.rolling(window, center=True).mean()\n",
    "\n",
    "def plot_moving_average_trend(ax, name, series, window=6):\n",
    "    moving_average_trend = fit_moving_average_trend(series, window)\n",
    "    plot_trend_data(ax, name, series)\n",
    "    ax.plot(series.index.date, moving_average_trend)\n",
    "    \n",
    "def fit_seasonal_trend(series):\n",
    "    dummies = create_monthly_dummies(series)\n",
    "    X = sm.add_constant(dummies.values, prepend=False)\n",
    "    seasonal_model = sm.OLS(series.values, X).fit()\n",
    "    return seasonal_model.predict(X)\n",
    "\n",
    "def plot_seasonal_trend(ax, name, series):\n",
    "    seasons_average_trend = fit_seasonal_trend(series)\n",
    "    plot_trend_data(ax, name, series, )\n",
    "    ax.plot(series.index.date, seasons_average_trend, '-')"
   ]
  },
  {
   "cell_type": "code",
   "execution_count": null,
   "metadata": {},
   "outputs": [],
   "source": []
  },
  {
   "cell_type": "markdown",
   "metadata": {},
   "source": [
    "---\n",
    "# Import Data"
   ]
  },
  {
   "cell_type": "code",
   "execution_count": null,
   "metadata": {},
   "outputs": [],
   "source": [
    "caiso"
   ]
  },
  {
   "cell_type": "markdown",
   "metadata": {},
   "source": [
    "### SET INDEX TO DATE"
   ]
  },
  {
   "cell_type": "code",
   "execution_count": null,
   "metadata": {},
   "outputs": [],
   "source": [
    "np15_lmp = caiso['$_MWH_np15']\n",
    "sp15_lmp = caiso['$_MWH_sp15']\n",
    "zp26_lmp = caiso['$_MWH_zp26']"
   ]
  },
  {
   "cell_type": "markdown",
   "metadata": {},
   "source": [
    "----\n",
    "# Trend-Seasonal-Residual (TSR) Decomposition"
   ]
  },
  {
   "cell_type": "code",
   "execution_count": null,
   "metadata": {},
   "outputs": [],
   "source": [
    "np15_decomp = sm.tsa.seasonal_decompose(np15_lmp)\n",
    "sp15_decomp = sm.tsa.seasonal_decompose(sp15_lmp)\n",
    "zp26_decomp = sm.tsa.seasonal_decompose(zp26_lmp)"
   ]
  },
  {
   "cell_type": "code",
   "execution_count": null,
   "metadata": {},
   "outputs": [],
   "source": [
    "def plot_shared_yscales(axs, x, ys, titles):\n",
    "    ymiddles =  [ (y.max()+y.min())/2 for y in ys ]\n",
    "    yrange = max( (y.max()-y.min())/2 for y in ys )\n",
    "    for ax, y, title, ymiddle in zip(axs, ys, titles, ymiddles):\n",
    "        ax.plot(x, y)\n",
    "        ax.set_title(title)\n",
    "        ax.set_ylim((ymiddle-yrange, ymiddle+yrange))\n",
    "\n",
    "\n",
    "def plot_seasonal_decomposition(axs, series, sd):\n",
    "    plot_shared_yscales(axs,\n",
    "                        series.index,\n",
    "                        [series, sd.trend, sd.seasonal, sd.resid],\n",
    "                        [\"Raw Series\", \"Trend Component $T_t$\", \"Seasonal Component $S_t$\", \"Residual Component $R_t$\"])"
   ]
  },
  {
   "cell_type": "markdown",
   "metadata": {},
   "source": [
    "### NP15 TSR Decomposition"
   ]
  },
  {
   "cell_type": "code",
   "execution_count": null,
   "metadata": {},
   "outputs": [],
   "source": [
    "fig, axs = plt.subplots(4, figsize(15,12), sharex=True)\n",
    "plot_seasonal_decomposition(axs, np15_lmp, np15_decomp)\n",
    "plt.tight_layout()"
   ]
  },
  {
   "cell_type": "markdown",
   "metadata": {},
   "source": [
    "### SP15 TSR Decomposition"
   ]
  },
  {
   "cell_type": "code",
   "execution_count": null,
   "metadata": {},
   "outputs": [],
   "source": [
    "fig, axs = plt.subplots(4, figsize(15,12), sharex=True)\n",
    "plot_seasonal_decomposition(axs, sp15_lmp, sp15_decomp)\n",
    "plt.tight_layout()"
   ]
  },
  {
   "cell_type": "markdown",
   "metadata": {},
   "source": [
    "### ZP26 TSR Decomposition"
   ]
  },
  {
   "cell_type": "code",
   "execution_count": null,
   "metadata": {},
   "outputs": [],
   "source": [
    "fig, axs = plt.subplots(4, figsize(15,12), sharex=True)\n",
    "plot_seasonal_decomposition(axs, zp26_lmp, zp26_decomp)\n",
    "plt.tight_layout()"
   ]
  }
 ],
 "metadata": {
  "kernelspec": {
   "display_name": "conda_python3",
   "language": "python",
   "name": "conda_python3"
  },
  "language_info": {
   "codemirror_mode": {
    "name": "ipython",
    "version": 3
   },
   "file_extension": ".py",
   "mimetype": "text/x-python",
   "name": "python",
   "nbconvert_exporter": "python",
   "pygments_lexer": "ipython3",
   "version": "3.6.5"
  }
 },
 "nbformat": 4,
 "nbformat_minor": 4
}
